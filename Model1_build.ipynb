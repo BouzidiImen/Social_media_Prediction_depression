{
 "cells": [
  {
   "cell_type": "markdown",
   "metadata": {},
   "source": [
    "## Load Data"
   ]
  },
  {
   "cell_type": "code",
   "execution_count": 17,
   "metadata": {},
   "outputs": [],
   "source": [
    "from data import c3d "
   ]
  },
  {
   "cell_type": "code",
   "execution_count": 18,
   "metadata": {},
   "outputs": [
    {
     "name": "stderr",
     "output_type": "stream",
     "text": [
      "  0%|          | 8/5384 [00:00<01:08, 78.35it/s]"
     ]
    },
    {
     "name": "stdout",
     "output_type": "stream",
     "text": [
      "Data has apparently already been downloaded and unpacked.\n"
     ]
    },
    {
     "name": "stderr",
     "output_type": "stream",
     "text": [
      "100%|██████████| 5384/5384 [00:23<00:00, 233.95it/s]\n",
      "100%|██████████| 6493/6493 [00:31<00:00, 205.18it/s]\n"
     ]
    }
   ],
   "source": [
    "train, val, test = c3d.load_data()"
   ]
  },
  {
   "cell_type": "markdown",
   "metadata": {},
   "source": [
    "## Preprocess Data:"
   ]
  },
  {
   "cell_type": "code",
   "execution_count": 19,
   "metadata": {},
   "outputs": [],
   "source": [
    "from models.Tweets_classifier import TweetsPreprocessing"
   ]
  },
  {
   "cell_type": "code",
   "execution_count": 20,
   "metadata": {},
   "outputs": [
    {
     "name": "stderr",
     "output_type": "stream",
     "text": [
      "100%|██████████| 6680/6680 [00:11<00:00, 560.88it/s]\n",
      "100%|██████████| 2227/2227 [00:02<00:00, 744.94it/s]"
     ]
    },
    {
     "name": "stdout",
     "output_type": "stream",
     "text": [
      " season start start come school look like homeless person slightly_smiling_face ok_hand_medium light_skin_tone woman_swimming_light_skin_tone \n",
      "\n",
      " never like anyway url \n",
      "\n",
      " retweeted aries spear user think disgustin disrespectful black folks short sight url \n",
      "\n",
      " user depression mental disorder cannot help diagnose like not fuck come at mental illness \n",
      "\n",
      " user yikes hate stuff \n",
      "\n",
      " bitch meth not tweak much url \n",
      "\n",
      " diagnose severe depression number \n",
      "\n",
      " can friends ur man ex — love mirna fab fuck plus fuck not like number url \n",
      "\n",
      " user diagnose severe depression resist meds make worse \n",
      "\n",
      " user diagnose depression anxiety multiple therapists take four different kinds  \n",
      "\n"
     ]
    },
    {
     "name": "stderr",
     "output_type": "stream",
     "text": [
      "\n"
     ]
    }
   ],
   "source": [
    "clean_train = TweetsPreprocessing.clean_tweets(train.features) \n",
    "clean_val = TweetsPreprocessing.clean_tweets(val.features) \n",
    "for i in range(10):\n",
    "    print(clean_train[i],\"\\n\")"
   ]
  },
  {
   "cell_type": "code",
   "execution_count": 8,
   "metadata": {},
   "outputs": [
    {
     "data": {
      "image/png": "[encoded data removed]",
      "text/plain": [
       "<Figure size 432x288 with 1 Axes>"
      ]
     },
     "metadata": {
      "needs_background": "light"
     },
     "output_type": "display_data"
    },
    {
     "data": {
      "text/plain": [
       "count    6680.000000\n",
       "mean       99.333683\n",
       "std        37.966801\n",
       "min         2.000000\n",
       "25%        68.000000\n",
       "50%       110.000000\n",
       "75%       135.000000\n",
       "max       152.000000\n",
       "dtype: float64"
      ]
     },
     "execution_count": 8,
     "metadata": {},
     "output_type": "execute_result"
    }
   ],
   "source": [
    "import pandas as pd\n",
    "import matplotlib.pyplot as plt\n",
    "%matplotlib inline\n",
    "tweet_len= [len(x) for x in train.features]\n",
    "pd.Series(tweet_len).hist()\n",
    "plt.show()\n",
    "pd.Series(tweet_len).describe()"
   ]
  },
  {
   "cell_type": "code",
   "execution_count": 9,
   "metadata": {},
   "outputs": [
    {
     "data": {
      "image/png": "[encoded data removed]",
      "text/plain": [
       "<Figure size 432x288 with 1 Axes>"
      ]
     },
     "metadata": {
      "needs_background": "light"
     },
     "output_type": "display_data"
    },
    {
     "data": {
      "text/plain": [
       "count    6680.000000\n",
       "mean       65.040569\n",
       "std        29.516288\n",
       "min         0.000000\n",
       "25%        45.000000\n",
       "50%        66.000000\n",
       "75%        82.000000\n",
       "max       594.000000\n",
       "dtype: float64"
      ]
     },
     "execution_count": 9,
     "metadata": {},
     "output_type": "execute_result"
    }
   ],
   "source": [
    "import pandas as pd\n",
    "import matplotlib.pyplot as plt\n",
    "%matplotlib inline\n",
    "tweet_len= [len(x) for x in clean_train]\n",
    "pd.Series(tweet_len).hist()\n",
    "plt.show()\n",
    "pd.Series(tweet_len).describe()"
   ]
  },
  {
   "cell_type": "markdown",
   "metadata": {},
   "source": [
    "## LSTM:"
   ]
  },
  {
   "cell_type": "code",
   "execution_count": 21,
   "metadata": {},
   "outputs": [],
   "source": [
    "import numpy as np\n",
    "import pandas as pd\n",
    "from keras.models import load_model\n",
    "from keras.preprocessing.text import Tokenizer\n",
    "from keras.preprocessing.sequence import pad_sequences\n",
    "from sklearn.model_selection import train_test_split\n",
    "from keras.utils import to_categorical\n",
    "from keras.models import Sequential\n",
    "from keras.layers import Dense, Dropout, Embedding, LSTM, GlobalMaxPooling1D, SpatialDropout1D\n",
    "from keras.callbacks import EarlyStopping, ModelCheckpoint,TensorBoard"
   ]
  },
  {
   "cell_type": "code",
   "execution_count": 22,
   "metadata": {},
   "outputs": [],
   "source": [
    "DEFAULT_PREPROCESS=False\n",
    "DEFAULT_MAX_WORDS = 8192\n",
    "DEFAULT_MAX_LEN=200\n",
    "def _prepare_data(x,y,preprocess=DEFAULT_PREPROCESS,max_phrase_len=DEFAULT_MAX_LEN,max_words=DEFAULT_MAX_WORDS):\n",
    "    if preprocess==True:\n",
    "        x=TweetsPreprocessing.clean_tweets(x) \n",
    "    tokenizer = Tokenizer(num_words = max_words,filters = '\"#$%&()*+-/:;<=>@[\\]^_`{|}~')\n",
    "    tokenizer.fit_on_texts(x)\n",
    "    x = tokenizer.texts_to_sequences(x)\n",
    "    x = pad_sequences(x, maxlen = max_phrase_len) #max len is the maximum length of a sentence \n",
    "    y=to_categorical(y, num_classes=2, dtype=\"int\")\n",
    "    return x,y\n",
    "    "
   ]
  },
  {
   "cell_type": "code",
   "execution_count": 12,
   "metadata": {},
   "outputs": [],
   "source": [
    "x_train,y_train=_prepare_data(train.features,train.labels)\n",
    "x_val,y_val=_prepare_data(val.features,val.labels)\n",
    "x_test,y_test=_prepare_data(test.features,test.labels)"
   ]
  },
  {
   "cell_type": "code",
   "execution_count": 15,
   "metadata": {},
   "outputs": [
    {
     "data": {
      "text/plain": [
       "(\"@FMLrayhey i wish i could be happy... But for me... I have serious problems. And by setups i mean. I'm diagnosed with depression.. Its a\",\n",
       " array([1, 0]))"
      ]
     },
     "execution_count": 15,
     "metadata": {},
     "output_type": "execute_result"
    }
   ],
   "source": [
    "train.features[1],y_train[1]"
   ]
  },
  {
   "cell_type": "code",
   "execution_count": 48,
   "metadata": {},
   "outputs": [],
   "source": [
    "#hyper parameters\n",
    "batch_size = 512\n",
    "epochs = 20"
   ]
  },
  {
   "cell_type": "code",
   "execution_count": 49,
   "metadata": {},
   "outputs": [],
   "source": [
    "max_words=DEFAULT_MAX_WORDS\n",
    "max_phrase_len=DEFAULT_MAX_LEN\n",
    "\n",
    "model_lstm = Sequential()\n",
    "model_lstm.add(Embedding(input_dim = max_words, output_dim = 256, input_length = max_phrase_len))\n",
    "model_lstm.add(SpatialDropout1D(0.3))\n",
    "model_lstm.add(LSTM(256, dropout=0.5, recurrent_dropout=0.5))\n",
    "model_lstm.add(Dense(256, activation = 'relu'))\n",
    "model_lstm.add(Dropout(0.5))\n",
    "model_lstm.add(Dense(2, activation = 'sigmoid'))\n",
    "model_lstm.compile(\n",
    "    loss='categorical_crossentropy',\n",
    "    optimizer='Adam',\n",
    "    metrics=['accuracy']\n",
    ")\n",
    "#We use dropout to prevent overfitting.\n",
    "#Warning  concerning low level TensorFlow ops and can be safely ignored"
   ]
  },
  {
   "cell_type": "code",
   "execution_count": 6,
   "metadata": {},
   "outputs": [
    {
     "name": "stdout",
     "output_type": "stream",
     "text": [
      "Model: \"sequential_1\"\n",
      "_________________________________________________________________\n",
      "Layer (type)                 Output Shape              Param #   \n",
      "=================================================================\n",
      "embedding_1 (Embedding)      (None, 200, 256)          2097152   \n",
      "_________________________________________________________________\n",
      "spatial_dropout1d_1 (Spatial (None, 200, 256)          0         \n",
      "_________________________________________________________________\n",
      "lstm_1 (LSTM)                (None, 256)               525312    \n",
      "_________________________________________________________________\n",
      "dense_1 (Dense)              (None, 256)               65792     \n",
      "_________________________________________________________________\n",
      "dropout_1 (Dropout)          (None, 256)               0         \n",
      "_________________________________________________________________\n",
      "dense_2 (Dense)              (None, 2)                 514       \n",
      "=================================================================\n",
      "Total params: 2,688,770\n",
      "Trainable params: 2,688,770\n",
      "Non-trainable params: 0\n",
      "_________________________________________________________________\n"
     ]
    }
   ],
   "source": [
    "model_lstm.summary()"
   ]
  },
  {
   "cell_type": "code",
   "execution_count": 19,
   "metadata": {},
   "outputs": [
    {
     "name": "stdout",
     "output_type": "stream",
     "text": [
      "WARNING:tensorflow:From /opt/conda/lib/python3.7/site-packages/tensorflow_core/python/ops/math_grad.py:1424: where (from tensorflow.python.ops.array_ops) is deprecated and will be removed in a future version.\n",
      "Instructions for updating:\n",
      "Use tf.where in 2.0, which has the same broadcast rule as np.where\n",
      "WARNING:tensorflow:From /opt/conda/lib/python3.7/site-packages/keras/backend/tensorflow_backend.py:422: The name tf.global_variables is deprecated. Please use tf.compat.v1.global_variables instead.\n",
      "\n",
      "Train on 6680 samples, validate on 2227 samples\n",
      "Epoch 1/8\n",
      "6680/6680 [==============================] - 82s 12ms/step - loss: 0.2333 - accuracy: 0.9597 - val_loss: 1.1921e-07 - val_accuracy: 1.0000\n",
      "Epoch 2/8\n",
      "6680/6680 [==============================] - 78s 12ms/step - loss: 1.3742e-07 - accuracy: 1.0000 - val_loss: 1.1921e-07 - val_accuracy: 1.0000\n",
      "Epoch 3/8\n",
      "6680/6680 [==============================] - 80s 12ms/step - loss: 1.1921e-07 - accuracy: 1.0000 - val_loss: 1.1921e-07 - val_accuracy: 1.0000\n",
      "Epoch 4/8\n",
      "6680/6680 [==============================] - 79s 12ms/step - loss: 1.1921e-07 - accuracy: 1.0000 - val_loss: 1.1921e-07 - val_accuracy: 1.0000\n",
      "Epoch 5/8\n",
      "6680/6680 [==============================] - 80s 12ms/step - loss: 1.1928e-07 - accuracy: 1.0000 - val_loss: 1.1921e-07 - val_accuracy: 1.0000\n",
      "Epoch 6/8\n",
      "6680/6680 [==============================] - 79s 12ms/step - loss: 1.1921e-07 - accuracy: 1.0000 - val_loss: 1.1921e-07 - val_accuracy: 1.0000\n",
      "Epoch 7/8\n",
      "6680/6680 [==============================] - 79s 12ms/step - loss: 1.1922e-07 - accuracy: 1.0000 - val_loss: 1.1921e-07 - val_accuracy: 1.0000\n",
      "Epoch 8/8\n",
      "6680/6680 [==============================] - 79s 12ms/step - loss: 1.1921e-07 - accuracy: 1.0000 - val_loss: 1.1921e-07 - val_accuracy: 1.0000\n"
     ]
    }
   ],
   "source": [
    "history=model_lstm.fit(x_train, y_train, batch_size,epochs, verbose=2,\n",
    "              validation_data=(x_val,y_val))"
   ]
  },
  {
   "cell_type": "code",
   "execution_count": 22,
   "metadata": {},
   "outputs": [
    {
     "name": "stdout",
     "output_type": "stream",
     "text": [
      "2970/2970 [==============================] - 21s 7ms/step\n"
     ]
    }
   ],
   "source": [
    "loss, test_accuracy = model_lstm.evaluate(x_test, y_test, verbose=2)"
   ]
  },
  {
   "cell_type": "code",
   "execution_count": 23,
   "metadata": {},
   "outputs": [
    {
     "data": {
      "text/plain": [
       "0.0"
      ]
     },
     "execution_count": 23,
     "metadata": {},
     "output_type": "execute_result"
    }
   ],
   "source": [
    "loss"
   ]
  },
  {
   "cell_type": "code",
   "execution_count": 24,
   "metadata": {},
   "outputs": [
    {
     "data": {
      "text/plain": [
       "1.0"
      ]
     },
     "execution_count": 24,
     "metadata": {},
     "output_type": "execute_result"
    }
   ],
   "source": [
    "test_accuracy"
   ]
  },
  {
   "cell_type": "code",
   "execution_count": 25,
   "metadata": {},
   "outputs": [
    {
     "data": {
      "image/png": "[encoded data removed]",
      "text/plain": [
       "<Figure size 432x288 with 1 Axes>"
      ]
     },
     "metadata": {
      "needs_background": "light"
     },
     "output_type": "display_data"
    }
   ],
   "source": [
    "from matplotlib import pyplot\n",
    "pyplot.plot(history.history['loss'])\n",
    "pyplot.plot(history.history['val_loss'])\n",
    "pyplot.title('model train vs validation loss')\n",
    "pyplot.ylabel('loss')\n",
    "pyplot.xlabel('epoch')\n",
    "pyplot.legend(['train', 'validation'], loc='upper right')\n",
    "pyplot.show()"
   ]
  },
  {
   "cell_type": "code",
   "execution_count": 26,
   "metadata": {},
   "outputs": [
    {
     "name": "stdout",
     "output_type": "stream",
     "text": [
      "Saved model to disk\n"
     ]
    }
   ],
   "source": [
    "# save model and architecture to single file\n",
    "model_lstm.save(\"model_lstm.h5\")\n",
    "print(\"Saved model to disk\")"
   ]
  },
  {
   "cell_type": "markdown",
   "metadata": {},
   "source": [
    "### LSTM with preprocessed data:"
   ]
  },
  {
   "cell_type": "code",
   "execution_count": 9,
   "metadata": {},
   "outputs": [
    {
     "name": "stderr",
     "output_type": "stream",
     "text": [
      "100%|██████████| 6680/6680 [00:08<00:00, 824.07it/s]\n",
      "100%|██████████| 2227/2227 [00:02<00:00, 829.74it/s]\n",
      "100%|██████████| 2970/2970 [00:03<00:00, 836.07it/s]\n"
     ]
    }
   ],
   "source": [
    "x_train,y_train=_prepare_data(train.features,train.labels,preprocess=True)\n",
    "x_val,y_val=_prepare_data(val.features,val.labels,preprocess=True)\n",
    "x_test,y_test=_prepare_data(test.features,test.labels,preprocess=True)"
   ]
  },
  {
   "cell_type": "code",
   "execution_count": 13,
   "metadata": {},
   "outputs": [
    {
     "name": "stdout",
     "output_type": "stream",
     "text": [
      "WARNING:tensorflow:From /opt/conda/lib/python3.7/site-packages/keras/backend/tensorflow_backend.py:422: The name tf.global_variables is deprecated. Please use tf.compat.v1.global_variables instead.\n",
      "\n",
      "Train on 6680 samples, validate on 2227 samples\n",
      "Epoch 1/8\n",
      "6680/6680 [==============================] - 100s 15ms/step - loss: 0.2057 - accuracy: 0.9588 - val_loss: 0.0000e+00 - val_accuracy: 1.0000\n",
      "Epoch 2/8\n",
      "6680/6680 [==============================] - 98s 15ms/step - loss: 3.5691e-11 - accuracy: 1.0000 - val_loss: 0.0000e+00 - val_accuracy: 1.0000\n",
      "Epoch 3/8\n",
      "6680/6680 [==============================] - 98s 15ms/step - loss: 0.0000e+00 - accuracy: 1.0000 - val_loss: 0.0000e+00 - val_accuracy: 1.0000\n",
      "Epoch 4/8\n",
      "6680/6680 [==============================] - 98s 15ms/step - loss: 0.0000e+00 - accuracy: 1.0000 - val_loss: 0.0000e+00 - val_accuracy: 1.0000\n",
      "Epoch 5/8\n",
      "6680/6680 [==============================] - 98s 15ms/step - loss: 0.0000e+00 - accuracy: 1.0000 - val_loss: 0.0000e+00 - val_accuracy: 1.0000\n",
      "Epoch 6/8\n",
      "6680/6680 [==============================] - 97s 15ms/step - loss: 0.0000e+00 - accuracy: 1.0000 - val_loss: 0.0000e+00 - val_accuracy: 1.0000\n",
      "Epoch 7/8\n",
      "6680/6680 [==============================] - 97s 15ms/step - loss: 0.0000e+00 - accuracy: 1.0000 - val_loss: 0.0000e+00 - val_accuracy: 1.0000\n",
      "Epoch 8/8\n",
      "6680/6680 [==============================] - 97s 14ms/step - loss: 0.0000e+00 - accuracy: 1.0000 - val_loss: 0.0000e+00 - val_accuracy: 1.0000\n"
     ]
    }
   ],
   "source": [
    "history_prep=model_lstm.fit(x_train, y_train, batch_size,epochs, verbose=2,\n",
    "              validation_data=(x_val,y_val))"
   ]
  },
  {
   "cell_type": "code",
   "execution_count": 14,
   "metadata": {},
   "outputs": [
    {
     "name": "stdout",
     "output_type": "stream",
     "text": [
      "2970/2970 [==============================] - 21s 7ms/step\n"
     ]
    }
   ],
   "source": [
    "loss, test_accuracy = model_lstm.evaluate(x_test, y_test, verbose=True)"
   ]
  },
  {
   "cell_type": "code",
   "execution_count": 15,
   "metadata": {},
   "outputs": [
    {
     "data": {
      "text/plain": [
       "(0.0, 1.0)"
      ]
     },
     "execution_count": 15,
     "metadata": {},
     "output_type": "execute_result"
    }
   ],
   "source": [
    "loss, test_accuracy"
   ]
  },
  {
   "cell_type": "code",
   "execution_count": 16,
   "metadata": {},
   "outputs": [
    {
     "name": "stdout",
     "output_type": "stream",
     "text": [
      "Saved model to disk\n"
     ]
    }
   ],
   "source": [
    "# save model and architecture to single file\n",
    "model_lstm.save(\"model_lstm_prep.h5\")\n",
    "print(\"Saved model to disk\")"
   ]
  },
  {
   "cell_type": "markdown",
   "metadata": {},
   "source": [
    "## Other data "
   ]
  },
  {
   "cell_type": "code",
   "execution_count": 7,
   "metadata": {},
   "outputs": [
    {
     "data": {
      "text/html": [
       "<div>\n",
       "<style scoped>\n",
       "    .dataframe tbody tr th:only-of-type {\n",
       "        vertical-align: middle;\n",
       "    }\n",
       "\n",
       "    .dataframe tbody tr th {\n",
       "        vertical-align: top;\n",
       "    }\n",
       "\n",
       "    .dataframe thead th {\n",
       "        text-align: right;\n",
       "    }\n",
       "</style>\n",
       "<table border=\"1\" class=\"dataframe\">\n",
       "  <thead>\n",
       "    <tr style=\"text-align: right;\">\n",
       "      <th></th>\n",
       "      <th>class</th>\n",
       "      <th>tweet</th>\n",
       "    </tr>\n",
       "  </thead>\n",
       "  <tbody>\n",
       "    <tr>\n",
       "      <th>count</th>\n",
       "      <td>25758</td>\n",
       "      <td>25758</td>\n",
       "    </tr>\n",
       "    <tr>\n",
       "      <th>unique</th>\n",
       "      <td>6</td>\n",
       "      <td>25758</td>\n",
       "    </tr>\n",
       "    <tr>\n",
       "      <th>top</th>\n",
       "      <td>cheerful</td>\n",
       "      <td>Thanks to the judges organizers and student vo...</td>\n",
       "    </tr>\n",
       "    <tr>\n",
       "      <th>freq</th>\n",
       "      <td>5885</td>\n",
       "      <td>1</td>\n",
       "    </tr>\n",
       "  </tbody>\n",
       "</table>\n",
       "</div>"
      ],
      "text/plain": [
       "           class                                              tweet\n",
       "count      25758                                              25758\n",
       "unique         6                                              25758\n",
       "top     cheerful  Thanks to the judges organizers and student vo...\n",
       "freq        5885                                                  1"
      ]
     },
     "execution_count": 7,
     "metadata": {},
     "output_type": "execute_result"
    }
   ],
   "source": [
    "import pandas as pd\n",
    "\n",
    "df = pd.read_csv(\"data/mood_tweets.csv\")\n",
    "df.drop(df.columns[0], inplace=True, axis=1)\n",
    "df[\"tweet\"] = df[\"tweet\"].astype(str)\n",
    "df.describe()"
   ]
  },
  {
   "cell_type": "code",
   "execution_count": 8,
   "metadata": {},
   "outputs": [
    {
     "data": {
      "text/plain": [
       "array(['suicidal', 'happy', 'depressed', 'overjoyed', 'sad', 'cheerful'],\n",
       "      dtype=object)"
      ]
     },
     "execution_count": 8,
     "metadata": {},
     "output_type": "execute_result"
    }
   ],
   "source": [
    "df[\"class\"].unique()"
   ]
  },
  {
   "cell_type": "code",
   "execution_count": 9,
   "metadata": {},
   "outputs": [],
   "source": [
    "from tqdm import trange"
   ]
  },
  {
   "cell_type": "code",
   "execution_count": 10,
   "metadata": {},
   "outputs": [],
   "source": [
    "df[\"target\"] = 1"
   ]
  },
  {
   "cell_type": "code",
   "execution_count": 11,
   "metadata": {},
   "outputs": [
    {
     "name": "stderr",
     "output_type": "stream",
     "text": [
      "  0%|          | 0/25758 [00:00<?, ?it/s]/opt/conda/lib/python3.7/site-packages/ipykernel_launcher.py:3: SettingWithCopyWarning: \n",
      "A value is trying to be set on a copy of a slice from a DataFrame\n",
      "\n",
      "See the caveats in the documentation: https://pandas.pydata.org/pandas-docs/stable/user_guide/indexing.html#returning-a-view-versus-a-copy\n",
      "  This is separate from the ipykernel package so we can avoid doing imports until\n",
      "100%|██████████| 25758/25758 [00:01<00:00, 13848.52it/s]\n"
     ]
    }
   ],
   "source": [
    "for i in trange(len(df)):\n",
    "    if  df[\"class\"][i] in ['cheerful', 'happy', 'overjoyed']:\n",
    "        df[\"target\"][i]=0"
   ]
  },
  {
   "cell_type": "code",
   "execution_count": 12,
   "metadata": {},
   "outputs": [
    {
     "data": {
      "text/html": [
       "<div>\n",
       "<style scoped>\n",
       "    .dataframe tbody tr th:only-of-type {\n",
       "        vertical-align: middle;\n",
       "    }\n",
       "\n",
       "    .dataframe tbody tr th {\n",
       "        vertical-align: top;\n",
       "    }\n",
       "\n",
       "    .dataframe thead th {\n",
       "        text-align: right;\n",
       "    }\n",
       "</style>\n",
       "<table border=\"1\" class=\"dataframe\">\n",
       "  <thead>\n",
       "    <tr style=\"text-align: right;\">\n",
       "      <th></th>\n",
       "      <th>class</th>\n",
       "      <th>tweet</th>\n",
       "      <th>target</th>\n",
       "    </tr>\n",
       "  </thead>\n",
       "  <tbody>\n",
       "    <tr>\n",
       "      <th>0</th>\n",
       "      <td>suicidal</td>\n",
       "      <td>\"He was lost &amp; scared\" says a Newport woman ab...</td>\n",
       "      <td>1</td>\n",
       "    </tr>\n",
       "    <tr>\n",
       "      <th>1</th>\n",
       "      <td>suicidal</td>\n",
       "      <td>@TheDumbMedico Ameen. Or ye suicide wali bat a...</td>\n",
       "      <td>1</td>\n",
       "    </tr>\n",
       "    <tr>\n",
       "      <th>2</th>\n",
       "      <td>suicidal</td>\n",
       "      <td>You showed the leak in @HouseofCommons today @...</td>\n",
       "      <td>1</td>\n",
       "    </tr>\n",
       "    <tr>\n",
       "      <th>3</th>\n",
       "      <td>suicidal</td>\n",
       "      <td>The number in my bio is for a Suicide hotline ...</td>\n",
       "      <td>1</td>\n",
       "    </tr>\n",
       "    <tr>\n",
       "      <th>4</th>\n",
       "      <td>suicidal</td>\n",
       "      <td>cw: suicidal ideation it's unsurprisingly hard...</td>\n",
       "      <td>1</td>\n",
       "    </tr>\n",
       "  </tbody>\n",
       "</table>\n",
       "</div>"
      ],
      "text/plain": [
       "      class                                              tweet  target\n",
       "0  suicidal  \"He was lost & scared\" says a Newport woman ab...       1\n",
       "1  suicidal  @TheDumbMedico Ameen. Or ye suicide wali bat a...       1\n",
       "2  suicidal  You showed the leak in @HouseofCommons today @...       1\n",
       "3  suicidal  The number in my bio is for a Suicide hotline ...       1\n",
       "4  suicidal  cw: suicidal ideation it's unsurprisingly hard...       1"
      ]
     },
     "execution_count": 12,
     "metadata": {},
     "output_type": "execute_result"
    }
   ],
   "source": [
    "df.head()"
   ]
  },
  {
   "cell_type": "code",
   "execution_count": 13,
   "metadata": {},
   "outputs": [],
   "source": [
    "texts = df[\"tweet\"].tolist()\n",
    "labels = df[\"target\"].tolist()"
   ]
  },
  {
   "cell_type": "code",
   "execution_count": 14,
   "metadata": {},
   "outputs": [],
   "source": [
    "x,y=_prepare_data(x=texts,y=labels)"
   ]
  },
  {
   "cell_type": "code",
   "execution_count": 32,
   "metadata": {},
   "outputs": [
    {
     "data": {
      "text/plain": [
       "(\"cw: suicidal ideation it's unsurprisingly hard to talk about wanting to die but it's even more difficult to express that it both is and isn't as heavy as it sounds. i and so many live with and manage this every day and we should talk about it more. \",\n",
       " 1)"
      ]
     },
     "execution_count": 32,
     "metadata": {},
     "output_type": "execute_result"
    }
   ],
   "source": [
    "texts[4],labels[4]"
   ]
  },
  {
   "cell_type": "code",
   "execution_count": 16,
   "metadata": {},
   "outputs": [],
   "source": [
    "from sklearn.model_selection import train_test_split\n",
    "x_train, x_test, y_train, y_test = train_test_split(x,y,test_size=.25,random_state=2020)\n",
    "x_train, x_val, y_train, y_val = train_test_split(x_train,y_train,test_size=.15,random_state=2020)\n"
   ]
  },
  {
   "cell_type": "code",
   "execution_count": 17,
   "metadata": {},
   "outputs": [
    {
     "data": {
      "text/plain": [
       "(16420, 2898, 6440)"
      ]
     },
     "execution_count": 17,
     "metadata": {},
     "output_type": "execute_result"
    }
   ],
   "source": [
    "len(x_train),len(x_val),len(x_test)"
   ]
  },
  {
   "cell_type": "code",
   "execution_count": 50,
   "metadata": {},
   "outputs": [],
   "source": [
    "my_callbacks = [\n",
    "    EarlyStopping(monitor='val_loss', patience=10, verbose=1,mode='auto', restore_best_weights=True),\n",
    "    ModelCheckpoint(filepath='model.lstm-{val_loss:.2f}.h5', monitor='val_accuracy', verbose=1, save_best_only=True, mode='max'),\n",
    "    TensorBoard(log_dir='./Graph', histogram_freq=0, write_graph=True, write_images=True)\n",
    "]"
   ]
  },
  {
   "cell_type": "code",
   "execution_count": 19,
   "metadata": {},
   "outputs": [
    {
     "name": "stdout",
     "output_type": "stream",
     "text": [
      "WARNING:tensorflow:From /opt/conda/lib/python3.7/site-packages/tensorflow_core/python/ops/math_grad.py:1424: where (from tensorflow.python.ops.array_ops) is deprecated and will be removed in a future version.\n",
      "Instructions for updating:\n",
      "Use tf.where in 2.0, which has the same broadcast rule as np.where\n",
      "WARNING:tensorflow:From /opt/conda/lib/python3.7/site-packages/keras/backend/tensorflow_backend.py:422: The name tf.global_variables is deprecated. Please use tf.compat.v1.global_variables instead.\n",
      "\n",
      "Train on 16420 samples, validate on 2898 samples\n",
      "WARNING:tensorflow:From /opt/conda/lib/python3.7/site-packages/keras/callbacks/tensorboard_v1.py:200: The name tf.summary.merge_all is deprecated. Please use tf.compat.v1.summary.merge_all instead.\n",
      "\n",
      "WARNING:tensorflow:From /opt/conda/lib/python3.7/site-packages/keras/callbacks/tensorboard_v1.py:203: The name tf.summary.FileWriter is deprecated. Please use tf.compat.v1.summary.FileWriter instead.\n",
      "\n",
      "Epoch 1/20\n",
      " - 375s - loss: 0.6167 - accuracy: 0.6416 - val_loss: 0.2907 - val_accuracy: 0.8961\n",
      "\n",
      "Epoch 00001: val_accuracy improved from -inf to 0.89614, saving model to model.lstm-0.29.h5\n",
      "WARNING:tensorflow:From /opt/conda/lib/python3.7/site-packages/keras/callbacks/tensorboard_v1.py:343: The name tf.Summary is deprecated. Please use tf.compat.v1.Summary instead.\n",
      "\n",
      "Epoch 2/20\n",
      " - 363s - loss: 0.2064 - accuracy: 0.9212 - val_loss: 0.1118 - val_accuracy: 0.9576\n",
      "\n",
      "Epoch 00002: val_accuracy improved from 0.89614 to 0.95756, saving model to model.lstm-0.11.h5\n",
      "Epoch 3/20\n",
      " - 371s - loss: 0.0849 - accuracy: 0.9712 - val_loss: 0.0722 - val_accuracy: 0.9724\n",
      "\n",
      "Epoch 00003: val_accuracy improved from 0.95756 to 0.97239, saving model to model.lstm-0.07.h5\n",
      "Epoch 4/20\n",
      " - 377s - loss: 0.0594 - accuracy: 0.9831 - val_loss: 0.0676 - val_accuracy: 0.9727\n",
      "\n",
      "Epoch 00004: val_accuracy improved from 0.97239 to 0.97274, saving model to model.lstm-0.07.h5\n",
      "Epoch 5/20\n",
      " - 371s - loss: 0.0465 - accuracy: 0.9853 - val_loss: 0.0780 - val_accuracy: 0.9696\n",
      "\n",
      "Epoch 00005: val_accuracy did not improve from 0.97274\n",
      "Epoch 6/20\n",
      " - 364s - loss: 0.0330 - accuracy: 0.9889 - val_loss: 0.0889 - val_accuracy: 0.9738\n",
      "\n",
      "Epoch 00006: val_accuracy improved from 0.97274 to 0.97378, saving model to model.lstm-0.09.h5\n",
      "Epoch 7/20\n",
      " - 368s - loss: 0.0313 - accuracy: 0.9902 - val_loss: 0.0772 - val_accuracy: 0.9755\n",
      "\n",
      "Epoch 00007: val_accuracy improved from 0.97378 to 0.97550, saving model to model.lstm-0.08.h5\n",
      "Epoch 8/20\n",
      " - 369s - loss: 0.0251 - accuracy: 0.9923 - val_loss: 0.0890 - val_accuracy: 0.9752\n",
      "\n",
      "Epoch 00008: val_accuracy did not improve from 0.97550\n",
      "Epoch 9/20\n",
      " - 376s - loss: 0.0209 - accuracy: 0.9929 - val_loss: 0.0831 - val_accuracy: 0.9765\n",
      "\n",
      "Epoch 00009: val_accuracy improved from 0.97550 to 0.97654, saving model to model.lstm-0.08.h5\n",
      "Epoch 10/20\n",
      " - 369s - loss: 0.0180 - accuracy: 0.9945 - val_loss: 0.0969 - val_accuracy: 0.9748\n",
      "\n",
      "Epoch 00010: val_accuracy did not improve from 0.97654\n",
      "Epoch 11/20\n",
      " - 371s - loss: 0.0156 - accuracy: 0.9945 - val_loss: 0.0991 - val_accuracy: 0.9748\n",
      "\n",
      "Epoch 00011: val_accuracy did not improve from 0.97654\n",
      "Epoch 12/20\n",
      " - 376s - loss: 0.0167 - accuracy: 0.9947 - val_loss: 0.1082 - val_accuracy: 0.9745\n",
      "\n",
      "Epoch 00012: val_accuracy did not improve from 0.97654\n",
      "Epoch 13/20\n",
      " - 368s - loss: 0.0203 - accuracy: 0.9935 - val_loss: 0.0998 - val_accuracy: 0.9731\n",
      "\n",
      "Epoch 00013: val_accuracy did not improve from 0.97654\n",
      "Epoch 14/20\n",
      " - 371s - loss: 0.0123 - accuracy: 0.9954 - val_loss: 0.1043 - val_accuracy: 0.9731\n",
      "Restoring model weights from the end of the best epoch\n",
      "\n",
      "Epoch 00014: val_accuracy did not improve from 0.97654\n",
      "Epoch 00014: early stopping\n"
     ]
    }
   ],
   "source": [
    "history_tweet=model_lstm.fit(x_train, y_train, batch_size,epochs, verbose=2,\n",
    "              validation_data=(x_val,y_val),callbacks=my_callbacks)"
   ]
  },
  {
   "cell_type": "code",
   "execution_count": 20,
   "metadata": {},
   "outputs": [
    {
     "data": {
      "image/png": "[encoded data removed]",
      "text/plain": [
       "<Figure size 432x288 with 1 Axes>"
      ]
     },
     "metadata": {
      "needs_background": "light"
     },
     "output_type": "display_data"
    },
    {
     "data": {
      "text/plain": [
       "<matplotlib.legend.Legend at 0x7f01c87e0190>"
      ]
     },
     "execution_count": 20,
     "metadata": {},
     "output_type": "execute_result"
    },
    {
     "data": {
      "image/png": "[encoded data removed]",
      "text/plain": [
       "<Figure size 432x288 with 1 Axes>"
      ]
     },
     "metadata": {
      "needs_background": "light"
     },
     "output_type": "display_data"
    }
   ],
   "source": [
    "import matplotlib.pyplot as plt\n",
    "loss_curve = history_tweet.history[\"loss\"]\n",
    "acc_curve = history_tweet.history[\"accuracy\"]\n",
    "loss_val_curve = history_tweet.history[\"val_loss\"]\n",
    "acc_val_curve = history_tweet.history[\"val_accuracy\"]\n",
    "plt.plot(loss_curve, label=\"Train\")\n",
    "plt.plot(loss_val_curve, label=\"Val\")\n",
    "plt.legend(loc='upper left')\n",
    "plt.title(\"Loss\")\n",
    "plt.show()\n",
    "plt.plot(acc_curve, label=\"Train\")\n",
    "plt.plot(acc_val_curve, label=\"Val\")\n",
    "plt.legend(loc='upper left')"
   ]
  },
  {
   "cell_type": "code",
   "execution_count": 21,
   "metadata": {},
   "outputs": [
    {
     "name": "stdout",
     "output_type": "stream",
     "text": [
      "Saved model to disk\n"
     ]
    }
   ],
   "source": [
    "# save model and architecture to single file\n",
    "model_lstm.save(\"model_data2_lstm.h5\")\n",
    "print(\"Saved model to disk\")"
   ]
  },
  {
   "cell_type": "code",
   "execution_count": 22,
   "metadata": {},
   "outputs": [
    {
     "name": "stdout",
     "output_type": "stream",
     "text": [
      "6440/6440 [==============================] - 68s 10ms/step\n",
      "Test set\n",
      "  Loss: 0.073\n",
      "  Accuracy: 0.976\n"
     ]
    }
   ],
   "source": [
    "accr = model_lstm.evaluate(x_test,y_test)\n",
    "print('Test set\\n  Loss: {:0.3f}\\n  Accuracy: {:0.3f}'.format(accr[0],accr[1]))"
   ]
  },
  {
   "cell_type": "code",
   "execution_count": 23,
   "metadata": {},
   "outputs": [],
   "source": [
    "from sklearn.metrics import classification_report, confusion_matrix"
   ]
  },
  {
   "cell_type": "code",
   "execution_count": 24,
   "metadata": {},
   "outputs": [],
   "source": [
    "Y_pred = model_lstm.predict(x_test)"
   ]
  },
  {
   "cell_type": "code",
   "execution_count": 25,
   "metadata": {},
   "outputs": [],
   "source": [
    "\n",
    "y_pred = np.argmax(Y_pred, axis=1)\n",
    "y_classes = [np.argmax(y) for y in y_test]"
   ]
  },
  {
   "cell_type": "code",
   "execution_count": 26,
   "metadata": {},
   "outputs": [],
   "source": [
    "y_classes=np.array(y_classes)"
   ]
  },
  {
   "cell_type": "code",
   "execution_count": 27,
   "metadata": {},
   "outputs": [
    {
     "name": "stdout",
     "output_type": "stream",
     "text": [
      "Confusion Matrix\n",
      "[[3623   80]\n",
      " [  74 2663]]\n",
      "Classification Report\n",
      "               precision    recall  f1-score   support\n",
      "\n",
      "    Depressed       0.98      0.98      0.98      3703\n",
      "Not depressed       0.97      0.97      0.97      2737\n",
      "\n",
      "     accuracy                           0.98      6440\n",
      "    macro avg       0.98      0.98      0.98      6440\n",
      " weighted avg       0.98      0.98      0.98      6440\n",
      "\n"
     ]
    }
   ],
   "source": [
    "print('Confusion Matrix')\n",
    "print(confusion_matrix(y_classes, y_pred))\n",
    "print('Classification Report')\n",
    "target_names = ['Depressed', 'Not depressed']\n",
    "print(classification_report(y_classes, y_pred, target_names=target_names))"
   ]
  },
  {
   "cell_type": "markdown",
   "metadata": {},
   "source": [
    "## LSTM for preprocessed Data:"
   ]
  },
  {
   "cell_type": "code",
   "execution_count": 51,
   "metadata": {},
   "outputs": [
    {
     "name": "stderr",
     "output_type": "stream",
     "text": [
      "100%|██████████| 25758/25758 [00:52<00:00, 492.20it/s]\n"
     ]
    }
   ],
   "source": [
    "x,y=_prepare_data(x=texts,y=labels,preprocess=True)"
   ]
  },
  {
   "cell_type": "code",
   "execution_count": 52,
   "metadata": {},
   "outputs": [],
   "source": [
    "from sklearn.model_selection import train_test_split\n",
    "x_train, x_test, y_train, y_test = train_test_split(x,y,test_size=.25,random_state=2020)\n",
    "x_train, x_val, y_train, y_val = train_test_split(x_train,y_train,test_size=.15,random_state=2020)\n"
   ]
  },
  {
   "cell_type": "code",
   "execution_count": 53,
   "metadata": {},
   "outputs": [
    {
     "name": "stdout",
     "output_type": "stream",
     "text": [
      "Train on 16420 samples, validate on 2898 samples\n",
      "Epoch 1/20\n",
      " - 344s - loss: 0.5343 - accuracy: 0.7149 - val_loss: 0.1582 - val_accuracy: 0.9458\n",
      "\n",
      "Epoch 00001: val_accuracy improved from -inf to 0.94582, saving model to model.lstm-0.16.h5\n",
      "Epoch 2/20\n",
      " - 339s - loss: 0.1291 - accuracy: 0.9548 - val_loss: 0.0618 - val_accuracy: 0.9758\n",
      "\n",
      "Epoch 00002: val_accuracy improved from 0.94582 to 0.97585, saving model to model.lstm-0.06.h5\n",
      "Epoch 3/20\n",
      " - 336s - loss: 0.0563 - accuracy: 0.9822 - val_loss: 0.0440 - val_accuracy: 0.9834\n",
      "\n",
      "Epoch 00003: val_accuracy improved from 0.97585 to 0.98344, saving model to model.lstm-0.04.h5\n",
      "Epoch 4/20\n",
      " - 334s - loss: 0.0434 - accuracy: 0.9864 - val_loss: 0.0614 - val_accuracy: 0.9779\n",
      "\n",
      "Epoch 00004: val_accuracy did not improve from 0.98344\n",
      "Epoch 5/20\n",
      " - 336s - loss: 0.0298 - accuracy: 0.9908 - val_loss: 0.0428 - val_accuracy: 0.9845\n",
      "\n",
      "Epoch 00005: val_accuracy improved from 0.98344 to 0.98447, saving model to model.lstm-0.04.h5\n",
      "Epoch 6/20\n",
      " - 331s - loss: 0.0244 - accuracy: 0.9926 - val_loss: 0.0441 - val_accuracy: 0.9831\n",
      "\n",
      "Epoch 00006: val_accuracy did not improve from 0.98447\n",
      "Epoch 7/20\n",
      " - 345s - loss: 0.0271 - accuracy: 0.9924 - val_loss: 0.0434 - val_accuracy: 0.9827\n",
      "\n",
      "Epoch 00007: val_accuracy did not improve from 0.98447\n",
      "Epoch 8/20\n",
      " - 339s - loss: 0.0190 - accuracy: 0.9937 - val_loss: 0.0493 - val_accuracy: 0.9855\n",
      "\n",
      "Epoch 00008: val_accuracy improved from 0.98447 to 0.98551, saving model to model.lstm-0.05.h5\n",
      "Epoch 9/20\n",
      " - 333s - loss: 0.0154 - accuracy: 0.9951 - val_loss: 0.0498 - val_accuracy: 0.9838\n",
      "\n",
      "Epoch 00009: val_accuracy did not improve from 0.98551\n",
      "Epoch 10/20\n",
      " - 339s - loss: 0.0169 - accuracy: 0.9947 - val_loss: 0.0585 - val_accuracy: 0.9814\n",
      "\n",
      "Epoch 00010: val_accuracy did not improve from 0.98551\n",
      "Epoch 11/20\n",
      " - 334s - loss: 0.0131 - accuracy: 0.9962 - val_loss: 0.0634 - val_accuracy: 0.9817\n",
      "\n",
      "Epoch 00011: val_accuracy did not improve from 0.98551\n",
      "Epoch 12/20\n",
      " - 339s - loss: 0.0110 - accuracy: 0.9968 - val_loss: 0.0601 - val_accuracy: 0.9817\n",
      "\n",
      "Epoch 00012: val_accuracy did not improve from 0.98551\n",
      "Epoch 13/20\n",
      " - 338s - loss: 0.0121 - accuracy: 0.9960 - val_loss: 0.0664 - val_accuracy: 0.9814\n",
      "\n",
      "Epoch 00013: val_accuracy did not improve from 0.98551\n",
      "Epoch 14/20\n",
      " - 343s - loss: 0.0129 - accuracy: 0.9959 - val_loss: 0.0577 - val_accuracy: 0.9817\n",
      "\n",
      "Epoch 00014: val_accuracy did not improve from 0.98551\n",
      "Epoch 15/20\n",
      " - 332s - loss: 0.0119 - accuracy: 0.9964 - val_loss: 0.0701 - val_accuracy: 0.9817\n",
      "Restoring model weights from the end of the best epoch\n",
      "\n",
      "Epoch 00015: val_accuracy did not improve from 0.98551\n",
      "Epoch 00015: early stopping\n"
     ]
    }
   ],
   "source": [
    "history_tweet2=model_lstm.fit(x_train, y_train, batch_size,epochs, verbose=2,\n",
    "              validation_data=(x_val,y_val),callbacks=my_callbacks)"
   ]
  },
  {
   "cell_type": "code",
   "execution_count": 55,
   "metadata": {},
   "outputs": [
    {
     "data": {
      "image/png": "[encoded data removed]",
      "text/plain": [
       "<Figure size 432x288 with 1 Axes>"
      ]
     },
     "metadata": {
      "needs_background": "light"
     },
     "output_type": "display_data"
    },
    {
     "data": {
      "text/plain": [
       "<matplotlib.legend.Legend at 0x7f01ba200d10>"
      ]
     },
     "execution_count": 55,
     "metadata": {},
     "output_type": "execute_result"
    },
    {
     "data": {
      "image/png": "[encoded data removed]",
      "text/plain": [
       "<Figure size 432x288 with 1 Axes>"
      ]
     },
     "metadata": {
      "needs_background": "light"
     },
     "output_type": "display_data"
    }
   ],
   "source": [
    "import matplotlib.pyplot as plt\n",
    "loss_curve = history_tweet2.history[\"loss\"]\n",
    "acc_curve = history_tweet2.history[\"accuracy\"]\n",
    "loss_val_curve = history_tweet2.history[\"val_loss\"]\n",
    "acc_val_curve = history_tweet2.history[\"val_accuracy\"]\n",
    "plt.plot(loss_curve, label=\"Train\")\n",
    "plt.plot(loss_val_curve, label=\"Val\")\n",
    "plt.legend(loc='upper left')\n",
    "plt.title(\"Loss\")\n",
    "plt.show()\n",
    "plt.plot(acc_curve, label=\"Train\")\n",
    "plt.plot(acc_val_curve, label=\"Val\")\n",
    "plt.legend(loc='upper left')"
   ]
  },
  {
   "cell_type": "code",
   "execution_count": 56,
   "metadata": {},
   "outputs": [
    {
     "name": "stdout",
     "output_type": "stream",
     "text": [
      "6440/6440 [==============================] - 70s 11ms/step\n",
      "Test set\n",
      "  Loss: 0.055\n",
      "  Accuracy: 0.984\n"
     ]
    }
   ],
   "source": [
    "accr = model_lstm.evaluate(x_test,y_test)\n",
    "print('Test set\\n  Loss: {:0.3f}\\n  Accuracy: {:0.3f}'.format(accr[0],accr[1]))"
   ]
  },
  {
   "cell_type": "code",
   "execution_count": 28,
   "metadata": {},
   "outputs": [],
   "source": [
    "from sklearn.metrics import classification_report, confusion_matrix"
   ]
  },
  {
   "cell_type": "code",
   "execution_count": 27,
   "metadata": {},
   "outputs": [
    {
     "ename": "NameError",
     "evalue": "name 'model_lstm' is not defined",
     "output_type": "error",
     "traceback": [
      "\u001b[0;31m---------------------------------------------------------------------------\u001b[0m",
      "\u001b[0;31mNameError\u001b[0m                                 Traceback (most recent call last)",
      "\u001b[0;32m<ipython-input-27-43a2009f146e>\u001b[0m in \u001b[0;36m<module>\u001b[0;34m\u001b[0m\n\u001b[0;32m----> 1\u001b[0;31m \u001b[0mY_pred\u001b[0m \u001b[0;34m=\u001b[0m \u001b[0mmodel_lstm\u001b[0m\u001b[0;34m.\u001b[0m\u001b[0mpredict\u001b[0m\u001b[0;34m(\u001b[0m\u001b[0mx_test\u001b[0m\u001b[0;34m)\u001b[0m\u001b[0;34m\u001b[0m\u001b[0;34m\u001b[0m\u001b[0m\n\u001b[0m",
      "\u001b[0;31mNameError\u001b[0m: name 'model_lstm' is not defined"
     ]
    }
   ],
   "source": [
    "Y_pred = model_lstm.predict(x_test)"
   ]
  },
  {
   "cell_type": "code",
   "execution_count": 61,
   "metadata": {},
   "outputs": [],
   "source": [
    "y_pred = np.argmax(Y_pred, axis=1)\n",
    "y_classes = [np.argmax(y) for y in y_test]"
   ]
  },
  {
   "cell_type": "code",
   "execution_count": 62,
   "metadata": {},
   "outputs": [],
   "source": [
    "y_classes=np.array(y_classes)"
   ]
  },
  {
   "cell_type": "code",
   "execution_count": 63,
   "metadata": {},
   "outputs": [
    {
     "name": "stdout",
     "output_type": "stream",
     "text": [
      "Confusion Matrix\n",
      "[[3649   54]\n",
      " [  51 2686]]\n",
      "Classification Report\n",
      "               precision    recall  f1-score   support\n",
      "\n",
      "    Depressed       0.99      0.99      0.99      3703\n",
      "Not depressed       0.98      0.98      0.98      2737\n",
      "\n",
      "     accuracy                           0.98      6440\n",
      "    macro avg       0.98      0.98      0.98      6440\n",
      " weighted avg       0.98      0.98      0.98      6440\n",
      "\n"
     ]
    }
   ],
   "source": [
    "print('Confusion Matrix')\n",
    "print(confusion_matrix(y_classes, y_pred))\n",
    "print('Classification Report')\n",
    "target_names = ['Depressed', 'Not depressed']\n",
    "print(classification_report(y_classes, y_pred, target_names=target_names))"
   ]
  },
  {
   "cell_type": "code",
   "execution_count": 64,
   "metadata": {},
   "outputs": [
    {
     "name": "stdout",
     "output_type": "stream",
     "text": [
      "Saved model to disk\n"
     ]
    }
   ],
   "source": [
    "# save model and architecture to single file\n",
    "m=model_lstm.load(\"model_data3_lstm.h5\")\n",
    "print(\"Saved model to disk\")"
   ]
  },
  {
   "cell_type": "code",
   "execution_count": 66,
   "metadata": {},
   "outputs": [
    {
     "name": "stderr",
     "output_type": "stream",
     "text": [
      "100%|██████████| 7/7 [00:00<00:00, 604.24it/s]\n"
     ]
    },
    {
     "data": {
      "text/plain": [
       "array([1, 0, 0, 1, 0, 1, 1])"
      ]
     },
     "execution_count": 66,
     "metadata": {},
     "output_type": "execute_result"
    }
   ],
   "source": [
    "text=['I want to die this life suck I hate my self',\n",
    "      'How people are gettin through their day??','I dont like pizza', \"no one even care about me\",\n",
    "      \"I hate my life\",\"u dre\",\"\"]\n",
    "label=[1,1,0,1,1]\n",
    "xt,yt=_prepare_data(x=text,y=label, preprocess=True)\n",
    "ytp=model_lstm.predict(xt)\n",
    "y_predt = np.argmax(ytp, axis=1)\n",
    "y_predt"
   ]
  },
  {
   "cell_type": "markdown",
   "metadata": {},
   "source": [
    "# Testing overfitiing:"
   ]
  },
  {
   "cell_type": "code",
   "execution_count": 34,
   "metadata": {},
   "outputs": [],
   "source": [
    "from tensorflow import keras\n",
    "model = keras.models.load_model('model_data3_lstm.h5')\n"
   ]
  },
  {
   "cell_type": "code",
   "execution_count": 51,
   "metadata": {},
   "outputs": [],
   "source": [
    "text=['Life is short to be depressed ',\n",
    "      'Find joy in little things of life',\n",
    "      \"I really hate this life I'm living I don't even understand why we are aloive \",\n",
    "      \"Enjoy you life, be grateful for every minute you spend with you lovedones, I really love my life.\",\n",
    "      \"My tag line of life is 'Biti Baton pe dhul udata chala' a line from my favourite singer Kishore Kumar which Means just 'Forget the past' so I always think about future, no depression.\",\n",
    "      \"Life is beautiful\",\n",
    "      \"Hi my freinds i hope you are doing well i wanted just to say hello to you in this beautifull journy have a nice day \"\n",
    "       ,\"Maybe nothing in this life happens by accident. As everything happens for a reason, our destiny slowly takes form...\",\n",
    "     \"I sometimes wants to end my life though I know that everything will be okay soon \",\n",
    "      \"I can do better if I really want to do something.\",\n",
    "      \"Spending a lot of your time scared and anxious is exhausting.  I was lucky to meet some amazing women in my thirties who made me realise that all the stuff I've been paranoid about since I was a teenager was universal.  Weight, skin, feminism and pubes, all open topics of discussion that made me wish I had known women like them in my teenage years.\",\n",
    "      \"I think life is just spending time with a really bd depression and dying at the end\",\n",
    "      \"I can overthink it because I'm already overthinking my overthinking thank you depression\"\n",
    "     \n",
    "     ]\n",
    "label=[0,0,1,0,0,0,0,1,1,1,1,1,1]\n"
   ]
  },
  {
   "cell_type": "code",
   "execution_count": 52,
   "metadata": {},
   "outputs": [
    {
     "name": "stderr",
     "output_type": "stream",
     "text": [
      "100%|██████████| 13/13 [00:00<00:00, 399.40it/s]\n"
     ]
    }
   ],
   "source": [
    "xt,yt=_prepare_data(x=text,y=label, preprocess=True)\n"
   ]
  },
  {
   "cell_type": "code",
   "execution_count": 53,
   "metadata": {},
   "outputs": [],
   "source": [
    "ytp=model.predict(xt)\n",
    "y_predt = np.argmax(ytp, axis=1)\n"
   ]
  },
  {
   "cell_type": "code",
   "execution_count": 54,
   "metadata": {},
   "outputs": [
    {
     "data": {
      "text/plain": [
       "array([0, 0, 1, 1, 0, 0, 1, 0, 0, 1, 1, 0, 1])"
      ]
     },
     "execution_count": 54,
     "metadata": {},
     "output_type": "execute_result"
    }
   ],
   "source": [
    "y_predt"
   ]
  },
  {
   "cell_type": "code",
   "execution_count": 55,
   "metadata": {},
   "outputs": [
    {
     "name": "stdout",
     "output_type": "stream",
     "text": [
      "Confusion Matrix\n",
      "[[4 2]\n",
      " [3 4]]\n",
      "Classification Report\n",
      "               precision    recall  f1-score   support\n",
      "\n",
      "    Depressed       0.57      0.67      0.62         6\n",
      "Not depressed       0.67      0.57      0.62         7\n",
      "\n",
      "     accuracy                           0.62        13\n",
      "    macro avg       0.62      0.62      0.62        13\n",
      " weighted avg       0.62      0.62      0.62        13\n",
      "\n"
     ]
    }
   ],
   "source": [
    "print('Confusion Matrix')\n",
    "print(confusion_matrix(label, y_predt))\n",
    "print('Classification Report')\n",
    "target_names = ['Depressed', 'Not depressed']\n",
    "print(classification_report(label, y_predt, target_names=target_names))"
   ]
  }
 ],
 "metadata": {
  "kernelspec": {
   "display_name": "Python 3",
   "language": "python",
   "name": "python3"
  },
  "language_info": {
   "codemirror_mode": {
    "name": "ipython",
    "version": 3
   },
   "file_extension": ".py",
   "mimetype": "text/x-python",
   "name": "python",
   "nbconvert_exporter": "python",
   "pygments_lexer": "ipython3",
   "version": "3.6.10"
  }
 },
 "nbformat": 4,
 "nbformat_minor": 4
}
