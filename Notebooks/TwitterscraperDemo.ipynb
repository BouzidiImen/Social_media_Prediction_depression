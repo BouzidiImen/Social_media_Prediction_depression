{
 "cells": [
  {
   "cell_type": "markdown",
   "metadata": {},
   "source": [
    "# Twitter scraper"
   ]
  },
  {
   "cell_type": "code",
   "execution_count": 35,
   "metadata": {},
   "outputs": [],
   "source": [
    "from twitterscraper import query_tweets,query_user_info,query_tweets_from_user"
   ]
  },
  {
   "cell_type": "code",
   "execution_count": 36,
   "metadata": {},
   "outputs": [
    {
     "name": "stderr",
     "output_type": "stream",
     "text": [
      "INFO: Using proxy 47.75.11.94:8080\n",
      "INFO: Got user information from username @Alwaleed_Talal\n",
      "INFO: Using proxy 200.89.178.228:3128\n",
      "INFO: Got user information from username @Moncef_Marzouki\n"
     ]
    }
   ],
   "source": [
    "info=query_user_info(user='@Alwaleed_Talal') \n",
    "info\n",
    "info=query_user_info(user='@Moncef_Marzouki')\n",
    "info\n",
    "## these are two users that theirs profiles can't be scraped by twitter scraper "
   ]
  },
  {
   "cell_type": "code",
   "execution_count": 37,
   "metadata": {},
   "outputs": [
    {
     "name": "stderr",
     "output_type": "stream",
     "text": [
      "INFO: Using proxy 203.162.21.216:8000\n",
      "INFO: Got user information from username @rebaisaber\n"
     ]
    },
    {
     "data": {
      "text/plain": [
       "3756880"
      ]
     },
     "execution_count": 37,
     "metadata": {},
     "output_type": "execute_result"
    }
   ],
   "source": [
    "info=query_user_info(user='@rebaisaber')\n",
    "# even though the name is in arabic it scrapes its content\n",
    "info.followers\n"
   ]
  },
  {
   "cell_type": "code",
   "execution_count": 38,
   "metadata": {},
   "outputs": [
    {
     "name": "stderr",
     "output_type": "stream",
     "text": [
      "INFO: Using proxy 165.227.215.71:8080\n",
      "INFO: Got user information from username @namatahara\n",
      "INFO: Using proxy 62.118.131.200:3127\n",
      "INFO: Got user information from username @anatoliisharii\n"
     ]
    }
   ],
   "source": [
    "infoChinese=query_user_info(user='@namatahara')\n",
    "infoRuss=query_user_info(user='@anatoliisharii')\n",
    "# The language is not the problem "
   ]
  },
  {
   "cell_type": "code",
   "execution_count": 39,
   "metadata": {},
   "outputs": [
    {
     "name": "stderr",
     "output_type": "stream",
     "text": [
      "INFO: Scraping tweets from https://twitter.com/@ityaadie\n",
      "INFO: Using proxy 114.134.190.230:37294\n",
      "INFO: Got 20 tweets from username @ityaadie\n"
     ]
    }
   ],
   "source": [
    "Q=query_tweets_from_user('@ityaadie',limit=3)\n",
    "#per page : query_single_page"
   ]
  },
  {
   "cell_type": "code",
   "execution_count": 40,
   "metadata": {},
   "outputs": [
    {
     "data": {
      "text/plain": [
       "list"
      ]
     },
     "execution_count": 40,
     "metadata": {},
     "output_type": "execute_result"
    }
   ],
   "source": [
    "type(Q)"
   ]
  },
  {
   "cell_type": "code",
   "execution_count": 41,
   "metadata": {},
   "outputs": [
    {
     "name": "stdout",
     "output_type": "stream",
     "text": [
      "0\n",
      "bns tummy is my new comfy spot here see a selfypic.twitter.com/1EJms2rQFb\n",
      "1\n",
      "Sex is great (I’m assuming here) but have y’all ever been hugged like you’re the most precious thing in their arms? As if they’d lose something if they let you go? So tight that you felt yourself feel whole?\n",
      "\n",
      "If it’s not obvious, I want hugs\n",
      "2\n",
      "This is the cutest thing I've seen in a while!https://twitter.com/shrishrishrii/status/1230359993683042304 …\n",
      "3\n",
      "Time Circles\n",
      "41mins:44seconds in the life of circles\n",
      "\n",
      "creativecoding #processing #basiljs #indesign #javascript #p5js\n",
      "#programmingfordesigners #generativedesign #generativeart @ UIC School of Design https://www.instagram.com/p/B8xWqbFJDKN/?igshid=n7vjrrp8rspq …\n",
      "4\n",
      "I hate that part of asian culture where the men eat before the women. Everyone should jus eat at the same damn time on the table\n",
      "5\n",
      "and more basil.js\n",
      "...\n",
      "\n",
      " #creativecoding #processing #basiljs #indesign #javascript\n",
      "#programmingfordesigners @ UIC School of Design https://www.instagram.com/p/B8iOULMJSvu/?igshid=11td02o8obj5p …\n",
      "6\n",
      "more experiments with basil.js\n",
      "...\n",
      "\n",
      " #creativecoding #processing #basiljs #indesign #javascript\n",
      "#programmingfordesigners #p5js @ UIC School of Design https://www.instagram.com/p/B8iODEhpz9M/?igshid=zp5ewwfj9c76 …\n",
      "7\n",
      "Initial expeiments with basil.js during a workshop with teddavisdotorg \n",
      "\n",
      "...\n",
      "\n",
      "#creativecoding #processing #basiljs #indesign #javascript\n",
      "#programmingfordesigners @ UIC School of Design https://www.instagram.com/p/B8iNqbWpj2P/?igshid=1eeqiw9mr7bnu …\n",
      "8\n",
      "28 days in a row  https://www.headspace.com/sharing-is-caring/Coo9reCLSGOqkt-AruSpUw …pic.twitter.com/r7fDArf2BJ\n",
      "9\n",
      "drinkiespic.twitter.com/MPTJ2IsMRE\n",
      "10\n",
      "THERE IS NOT ENOUGH TIME IN A DAY TO GO TO CLASS AND STUDY HARD AND GO TO WORK AND MAKE HEALTHY MEALS AND GO TO THE GYM AND SPEND TIME WITH FRIENDS AND FAMILY AND I’M SICK OF IT\n",
      "11\n",
      "\"What You Missed that day you were absent from Fourth Grade\" by Brad Aaron Modlinpic.twitter.com/luX2EowPAZ\n",
      "12\n",
      "Me vs who I share my birthday with.pic.twitter.com/CNmOQr65t1\n",
      "13\n",
      "#itMepic.twitter.com/ZhKzBQecoR\n",
      "14\n",
      "Every day is a good day to meditate. https://www.headspace.com/sharing-is-caring/bdPUABndSN6vrsJY_wQqww …pic.twitter.com/IDNaJiYwjR\n",
      "15\n",
      "At this point, I'd marry just anybody but I cannot, will not settle for just any therapist.\n",
      "16\n",
      "pic.twitter.com/htX6w9mJDG\n",
      "17\n",
      "Mumbai still has internet, permission to protest, and a non-BJP government. Read up on your rights, take your friends, convince your co-workers, and show up at August Kranti Maidan at 4 pm today. #IndiaAgainstCAA\n",
      "18\n",
      "My parents this morning: If you get detained, we're not coming to get you. \n",
      "\n",
      "I'm so glad cowardice and apathy aren't hereditary.\n",
      "19\n",
      "\"meet me in the narrow neck of an hourglass\n",
      "where I can't find the time to see where I you end and I begin\"\n",
      "\n",
      "\n"
     ]
    }
   ],
   "source": [
    "for i in range(len(Q)):\n",
    "    print(i)\n",
    "    print(Q[i].text)"
   ]
  },
  {
   "cell_type": "code",
   "execution_count": 48,
   "metadata": {},
   "outputs": [
    {
     "data": {
      "text/plain": [
       "{'screen_name': 'ityaadie',\n",
       " 'username': 'depression cherry',\n",
       " 'user_id': '310830503',\n",
       " 'tweet_id': '897330478012813312',\n",
       " 'tweet_url': '/ityaadie/status/897330478012813312',\n",
       " 'timestamp': datetime.datetime(2017, 8, 15, 5, 33, 52),\n",
       " 'timestamp_epochs': 1502775232,\n",
       " 'text': 'bns tummy is my new comfy spot here see a selfypic.twitter.com/1EJms2rQFb',\n",
       " 'text_html': '<p class=\"TweetTextSize TweetTextSize--normal js-tweet-text tweet-text\" data-aria-label-part=\"0\" lang=\"en\">bns tummy is my new comfy spot here see a selfy<a class=\"twitter-timeline-link u-hidden\" data-pre-embedded=\"true\" dir=\"ltr\" href=\"https://t.co/1EJms2rQFb\">pic.twitter.com/1EJms2rQFb</a></p>',\n",
       " 'links': [],\n",
       " 'hashtags': [],\n",
       " 'has_media': True,\n",
       " 'img_urls': ['https://pbs.twimg.com/media/DHP1R28UIAEjjRi.jpg'],\n",
       " 'video_url': '',\n",
       " 'likes': 151,\n",
       " 'retweets': 10,\n",
       " 'replies': 10,\n",
       " 'is_replied': True,\n",
       " 'is_reply_to': False,\n",
       " 'parent_tweet_id': '',\n",
       " 'reply_to_users': []}"
      ]
     },
     "execution_count": 48,
     "metadata": {},
     "output_type": "execute_result"
    }
   ],
   "source": [
    "Q[0].__dict__"
   ]
  },
  {
   "cell_type": "code",
   "execution_count": 49,
   "metadata": {},
   "outputs": [
    {
     "data": {
      "text/plain": [
       "'310830503'"
      ]
     },
     "execution_count": 49,
     "metadata": {},
     "output_type": "execute_result"
    }
   ],
   "source": [
    "Q[0].user_id"
   ]
  },
  {
   "cell_type": "markdown",
   "metadata": {},
   "source": [
    "# Twitter_scraper\n",
    "\n",
    "For personal information extraction of users we can use this."
   ]
  },
  {
   "cell_type": "code",
   "execution_count": 9,
   "metadata": {},
   "outputs": [],
   "source": [
    "from twitter_scraper import Profile"
   ]
  },
  {
   "cell_type": "code",
   "execution_count": 44,
   "metadata": {},
   "outputs": [
    {
     "name": "stdout",
     "output_type": "stream",
     "text": [
      "Name: محمد المنصف المرزوقي \n",
      " Username: @Moncef_Marzouki \n",
      " followers: 502720 \n",
      " Birthday: None \n",
      " Website: moncefmarzouki.net \n",
      " link to profile photo : https://pbs.twimg.com/profile_images/1171090653218054146/prECMbzH_400x400.jpg \n",
      " Likes: None \n",
      " Tweets count : 2409 \n",
      " following: 12\n"
     ]
    }
   ],
   "source": [
    "profile = Profile(\"@Moncef_Marzouki\")\n",
    "print(\"Name:\",profile.name,\n",
    "      \"\\n Username:\",profile.username,\n",
    "      \"\\n followers:\",profile.followers_count,\n",
    "      \"\\n Birthday:\",profile.birthday,\n",
    "      \"\\n Website:\", profile.website,\n",
    "      \"\\n link to profile photo :\",profile.profile_photo,\n",
    "      \"\\n Likes:\",profile.likes_count,\n",
    "      \"\\n Tweets count :\",profile.tweets_count,\n",
    "      \"\\n following:\",profile.following_count)"
   ]
  }
 ],
 "metadata": {
  "kernelspec": {
   "display_name": "Python 3",
   "language": "python",
   "name": "python3"
  },
  "language_info": {
   "codemirror_mode": {
    "name": "ipython",
    "version": 3
   },
   "file_extension": ".py",
   "mimetype": "text/x-python",
   "name": "python",
   "nbconvert_exporter": "python",
   "pygments_lexer": "ipython3",
   "version": "3.6.10"
  }
 },
 "nbformat": 4,
 "nbformat_minor": 4
}
