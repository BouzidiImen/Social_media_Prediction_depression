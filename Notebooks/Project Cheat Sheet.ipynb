{
 "cells": [
  {
   "cell_type": "markdown",
   "metadata": {},
   "source": [
    "# Miniconda: minimalist package, dependency and environment management for any language\n",
    "* ### Downloading Linux version from <a href=\"https://docs.conda.io/en/latest/miniconda.html\"> Here </a>\n",
    "* ### Open command line in the download directory and run: <pre>bash file_name.sh</pre>\n",
    "* ### Create an environment for the project named <b><i>pfe2020</i></b> by typing : <pre>conda create -n pfe2020 python=3.6</pre>\n",
    "* ### Type <pre>conda activate pfe2020 </pre> to activate the environment and <pre>conda deactivate</pre> to quit the environment\n",
    "* ### For more portability you create an already existing environment by <pre>conda env create -f environment.yml</pre> (You can export your personal environment by <pre>conda env export > pfe2020.yml</pre>)"
   ]
  },
  {
   "cell_type": "markdown",
   "metadata": {},
   "source": [
    "# Distributed version control\n",
    "* ## Working On Gitlab private repository named \"pfe2020\" in which we define tasks, issues, milestones and track project \n",
    "* ## Installing and Configuration of Git:\n",
    "    * ### On debian based distros: <pre>sudo apt-get install git</pre>\n",
    "    * ### Create an online Gitlab acount\n",
    "    * ### Generate an ssh key: <pre>ssh-keygen -t rsa -b 4096 -C \"email@example.com\"</pre>\n",
    "    * ### Copy the generated key: <pre>cat ~/.ssh/id_rsa.pub | clip</pre>  (If clip is not installed use <pre>sudo apt install geomview</pre>)\n",
    "    * ### Add your public SSH key to your GitLab account by:\n",
    "\n",
    "        * Clicking your avatar in the upper right corner and selecting Settings.\n",
    "        * Navigating to SSH Keys and pasting your public key from the clipboard into the Key field. If you:\n",
    "            * Created the key with a comment, this will appear in the Title field.\n",
    "            * Created the key without a comment, give your key an identifiable title like Work Laptop or Home Workstation.\n",
    "        * Click the Add key button.\n",
    "    * ### To test whether your SSH key was added correctly, run the following command in your terminal (replacing gitlab.com with your GitLab’s instance domain): <pre>ssh -T git@gitlab.com</pre>\n",
    "    * ### Configure Email adress: <pre>git config --global user.email \"you@example.com\"</pre>\n",
    "* ## Clone a repository\n",
    "    * #### <pre>git clone project_gitlab_link.git</pre>\n",
    "* ## Useful git commands\n",
    "    * #### <pre>git add</pre>\n",
    "    * #### <pre>git commit</pre>\n",
    "    * #### <pre>git push</pre>\n",
    "    * #### <pre>git status</pre>\n",
    "    * #### <pre>git log</pre>\n",
    "    * #### <pre>git checkout </pre>"
   ]
  },
  {
   "cell_type": "markdown",
   "metadata": {},
   "source": [
    "\n"
   ]
  },
  {
   "cell_type": "markdown",
   "metadata": {},
   "source": [
    "# <center>Retrieving data using data loaders</center>"
   ]
  },
  {
   "cell_type": "code",
   "execution_count": 1,
   "metadata": {},
   "outputs": [],
   "source": [
    "from data import c3d"
   ]
  },
  {
   "cell_type": "code",
   "execution_count": 2,
   "metadata": {},
   "outputs": [
    {
     "name": "stderr",
     "output_type": "stream",
     "text": [
      "  0%|          | 0/5384 [00:00<?, ?it/s]"
     ]
    },
    {
     "name": "stdout",
     "output_type": "stream",
     "text": [
      "Data has apparently already been downloaded and unpacked.\n"
     ]
    },
    {
     "name": "stderr",
     "output_type": "stream",
     "text": [
      "100%|██████████| 5384/5384 [00:02<00:00, 2044.23it/s]\n",
      "100%|██████████| 6493/6493 [00:02<00:00, 2207.36it/s]\n"
     ]
    }
   ],
   "source": [
    "train, validation, test = c3d.load_data()"
   ]
  },
  {
   "cell_type": "code",
   "execution_count": 4,
   "metadata": {},
   "outputs": [],
   "source": [
    "train_tweets, train_labels = train.features, train.labels"
   ]
  },
  {
   "cell_type": "code",
   "execution_count": 6,
   "metadata": {},
   "outputs": [
    {
     "data": {
      "text/plain": [
       "(\"Our strength lies in our vulnerability; there's nothing wrong with that https://t.co/atiPL9ltaK \\n\\nBefore I was diagnosed with depression b…\",\n",
       " 'positive')"
      ]
     },
     "execution_count": 6,
     "metadata": {},
     "output_type": "execute_result"
    }
   ],
   "source": [
    "train_tweets[20],train_labels[20]"
   ]
  },
  {
   "cell_type": "code",
   "execution_count": 11,
   "metadata": {},
   "outputs": [
    {
     "name": "stdout",
     "output_type": "stream",
     "text": [
      "6680 training samples\n",
      "2227 validation samples\n",
      "2970 testing samples\n"
     ]
    }
   ],
   "source": [
    "print(f\"{train.num_examples} training samples\")\n",
    "print(f\"{validation.num_examples} validation samples\")\n",
    "print(f\"{test.num_examples} testing samples\")"
   ]
  },
  {
   "cell_type": "markdown",
   "metadata": {},
   "source": [
    "# <center> Install requierments </center>"
   ]
  },
  {
   "cell_type": "markdown",
   "metadata": {},
   "source": [
    "### Execute <pre>pip install -r Requirements.txt</pre>"
   ]
  }
 ],
 "metadata": {
  "kernelspec": {
   "display_name": "Python 3",
   "language": "python",
   "name": "python3"
  },
  "language_info": {
   "codemirror_mode": {
    "name": "ipython",
    "version": 3
   },
   "file_extension": ".py",
   "mimetype": "text/x-python",
   "name": "python",
   "nbconvert_exporter": "python",
   "pygments_lexer": "ipython3",
   "version": "3.6.10"
  }
 },
 "nbformat": 4,
 "nbformat_minor": 4
}
