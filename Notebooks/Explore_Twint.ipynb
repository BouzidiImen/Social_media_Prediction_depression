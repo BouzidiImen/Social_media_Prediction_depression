{
 "cells": [
  {
   "cell_type": "markdown",
   "metadata": {},
   "source": [
    "# Twint Package"
   ]
  },
  {
   "cell_type": "code",
   "execution_count": 1,
   "metadata": {},
   "outputs": [],
   "source": [
    "import twint\n",
    "import nest_asyncio\n",
    "import pandas as pd\n",
    "import sys, os\n",
    "import time\n",
    "from tqdm import trange"
   ]
  },
  {
   "cell_type": "code",
   "execution_count": 2,
   "metadata": {},
   "outputs": [],
   "source": [
    "# Solve compatibility issues with notebooks and RunTime errors.\n",
    "nest_asyncio.apply()"
   ]
  },
  {
   "cell_type": "code",
   "execution_count": 3,
   "metadata": {},
   "outputs": [],
   "source": [
    "# I was diagnosed with deprssion\n",
    "# I am fighting depression \n",
    "# I suffer from depression\n",
    "DEFAULT_KEYWORD=\"I was diagnosed with depression\"\n",
    "DEFAULT_LIMIT=400\n",
    "def get_keywords_tweets(keyword=DEFAULT_KEYWORD, limit=DEFAULT_LIMIT):\n",
    "    c = twint.Config()\n",
    "    c.Search = keyword\n",
    "    c.Limit = limit\n",
    "    c.Store_csv = True\n",
    "    c.Output = (keyword+\".csv\")\n",
    "    sys.stdout = open(os.devnull, 'w')\n",
    "    print(twint.run.Search(c))"
   ]
  },
  {
   "cell_type": "code",
   "execution_count": 5,
   "metadata": {},
   "outputs": [],
   "source": [
    "get_keywords_tweets()"
   ]
  },
  {
   "cell_type": "code",
   "execution_count": 3,
   "metadata": {},
   "outputs": [],
   "source": [
    "key_words = [\"I am diagnosed with depression\",'I am fighting depression','I suffer from depression']\n",
    "data = pd.DataFrame() \n",
    "for key in key_words:\n",
    "    data =data.append( pd.read_csv(key+\".csv\")) "
   ]
  },
  {
   "cell_type": "code",
   "execution_count": 4,
   "metadata": {},
   "outputs": [
    {
     "data": {
      "text/plain": [
       "6000"
      ]
     },
     "execution_count": 4,
     "metadata": {},
     "output_type": "execute_result"
    }
   ],
   "source": [
    "len(data)"
   ]
  },
  {
   "cell_type": "code",
   "execution_count": 5,
   "metadata": {},
   "outputs": [],
   "source": [
    "data = data.drop_duplicates(subset=['user_id'], keep='first') #To drop duplicate usernames "
   ]
  },
  {
   "cell_type": "code",
   "execution_count": 6,
   "metadata": {},
   "outputs": [
    {
     "data": {
      "text/plain": [
       "2877"
      ]
     },
     "execution_count": 6,
     "metadata": {},
     "output_type": "execute_result"
    }
   ],
   "source": [
    "len(data)"
   ]
  },
  {
   "cell_type": "code",
   "execution_count": 7,
   "metadata": {},
   "outputs": [
    {
     "data": {
      "text/plain": [
       "('i have been officially diagnosed with clinical depression and anxiety after many years of suffering in silence, not understanding what’s wrong with me. i have reflected my insecurities on my friendships and relationships for the longest time and i am sorry to whoever i hurt.',\n",
       " 'slaysiah')"
      ]
     },
     "execution_count": 7,
     "metadata": {},
     "output_type": "execute_result"
    }
   ],
   "source": [
    "data['tweet'].iloc[0],data['username'].iloc[0]"
   ]
  },
  {
   "cell_type": "code",
   "execution_count": 8,
   "metadata": {},
   "outputs": [],
   "source": [
    "user_name=data['username'].iloc[0]\n",
    "def get_profile_infos(user_name=user_name):\n",
    "    c = twint.Config()\n",
    "    c.Username = user_name\n",
    "    c.Store_csv = True\n",
    "    c.Output = (\"Profileinfos.csv\")\n",
    "    sys.stdout = open(os.devnull, 'w')\n",
    "    twint.run.Lookup(c)\n"
   ]
  },
  {
   "cell_type": "code",
   "execution_count": 17,
   "metadata": {},
   "outputs": [],
   "source": [
    "get_profile_infos()"
   ]
  },
  {
   "cell_type": "code",
   "execution_count": null,
   "metadata": {},
   "outputs": [],
   "source": [
    "profiles=pd.read_csv(\"Profileinfos.csv\")"
   ]
  },
  {
   "cell_type": "code",
   "execution_count": null,
   "metadata": {},
   "outputs": [],
   "source": [
    "for i in trange(len(data)):\n",
    "    get_profile_infos(data['username'].iloc[i])"
   ]
  },
  {
   "cell_type": "code",
   "execution_count": 10,
   "metadata": {},
   "outputs": [],
   "source": [
    "user_name=data['username'].iloc[0]\n",
    "def get_timeline_by_usernames(user_name=user_name):\n",
    "    c = twint.Config()\n",
    "    c.Username =user_name\n",
    "    c.Retweets = True\n",
    "    c.Limit=100\n",
    "    c.Store_csv = True\n",
    "    c.Output = (\"Timelines/\"+user_name+\".csv\")\n",
    "    sys.stdout = open(os.devnull, 'w')\n",
    "    twint.run.Search(c)\n",
    "        "
   ]
  },
  {
   "cell_type": "code",
   "execution_count": null,
   "metadata": {},
   "outputs": [],
   "source": [
    "for i in trange(len(data)):\n",
    "    get_timeline_by_usernames(data['username'].iloc[i])"
   ]
  },
  {
   "cell_type": "code",
   "execution_count": null,
   "metadata": {},
   "outputs": [],
   "source": []
  }
 ],
 "metadata": {
  "kernelspec": {
   "display_name": "Python 3",
   "language": "python",
   "name": "python3"
  },
  "language_info": {
   "codemirror_mode": {
    "name": "ipython",
    "version": 3
   },
   "file_extension": ".py",
   "mimetype": "text/x-python",
   "name": "python",
   "nbconvert_exporter": "python",
   "pygments_lexer": "ipython3",
   "version": "3.6.10"
  }
 },
 "nbformat": 4,
 "nbformat_minor": 4
}
