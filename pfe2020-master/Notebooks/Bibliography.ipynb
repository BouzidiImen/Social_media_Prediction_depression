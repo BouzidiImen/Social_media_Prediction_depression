{
 "cells": [
  {
   "cell_type": "markdown",
   "metadata": {},
   "source": [
    "# Bibliography:"
   ]
  },
  {
   "cell_type": "markdown",
   "metadata": {},
   "source": [
    "## Social Media Use Worldwide:"
   ]
  },
  {
   "cell_type": "markdown",
   "metadata": {},
   "source": [
    "#### Introduction:\n",
    "The worldwide accessibility to internet is one of the phenomena that reshapes the world as we know it. Social Media is used by nearly 3.5 billion people, which makes it a powerful tool to influence people, change their behaviour and even cause them mental diseases.\n",
    "With the Cambridge Analytica scandal, it was shown to the world how personal data can be a tool to understand human behaviour.\n",
    "\n",
    "As noted in DSM-5 [1], the possibility of suicidal behavior exists at all times during major depressive episodes. According to WHO(World Health Organisation), Due to suicide, 800000 people die every year which makes it the second leading cause of death in 15-29-year-olds. Depression disorder is then considered a serious public health concern  with more than 264 million people affected worldwide. \n",
    "\n",
    "Our study focus essentially on harvesting social networks data to detect early signs of depression and hopefully participate in decreasing the rate of suicide worldwide. \n"
   ]
  },
  {
   "cell_type": "markdown",
   "metadata": {},
   "source": [
    " # Articles:\n",
    "\n",
    "The diagnosis of Depression from Social Networks is effective.[3] [4]\n",
    " \n",
    " \n",
    "The sources of publicly available data used by [2] were:\n",
    "\n",
    "  * Searching public tweets for keywords\n",
    "  * Public tweets having mental illness keywords such as depression, anxiety, insomnia, suicide...\n",
    "  * Users sharing their mental health diagnosis\n",
    "  * Groups/pages of mental health problems\n",
    "\n",
    "The features were mostly:\n",
    "  * User activity:\n",
    "      * number of posts per hour/per day\n",
    "      * posts between 12-6 AM\n",
    "      * Likes (types of reaction on facebook can be used)\n",
    "      * mentions\n",
    "      * status update (freq)\n",
    "      * posts content (N-grams)\n",
    "  * Social networking:\n",
    "      * Friends (Number)\n",
    "      * Follows (Pages/groups)\n",
    "  * Gender/Age/ Education...  \n",
    "  \n",
    "We will base our work on the DSM-5 to determine the symptoms of Depression, The features extracted from DSM-5 are:\n",
    "\n",
    "\n",
    "\n",
    " \n",
    "### What is the age range of the population?\n",
    "Age will not be fixed due to difficulties to extract it via web-scraping (birth date and Age from both Facebook and Twitter are not always available and can be faulty)\n",
    "\n",
    "\n",
    "\n"
   ]
  },
  {
   "cell_type": "markdown",
   "metadata": {},
   "source": [
    " # Datasets:\n",
    "### How personality traits is related to depression:\n",
    "\n",
    "I used a dataset that contains Facebook statuses in raw text and gold standard personality labels (5 big traits) which are Extraversion, Neuroticism, Agreeableness, Conscientiousness and Openness. \n",
    "Multiple research (Kotov et al. 2010, Hakulinen et al. 2015) proved that Depression is related to low extraversion, high neuroticism and low conscientiousness.\n",
    "\n",
    "I Used this to create a binary variable for depression in the dataset.\n",
    "\n",
    "The My_Personality Dataset was available to the public but was removed due to privacy security.\n",
    "\n",
    "\n",
    "### Another Dataset:\n",
    "\n",
    "I contacted Sharath Chandra Guntuku the writer of \"What Twitter Profile and Posted Images Reveal About Depression and Anxiety\" and he provided me with a data set containing twitter Ids of people having Depression with an estimated score of depression and anxiety level (the depression score varies from 1.591 to 4.383).\n",
    "\n",
    "(This is not interested due to the unknown time of the experiment)\n",
    "\n",
    "### Dataset of labeled status: \n",
    "From this article [2] a dataset of labeled status was found publicly available.\n",
    "\n"
   ]
  },
  {
   "cell_type": "markdown",
   "metadata": {},
   "source": [
    "# Modeling:\n",
    "\n",
    "The multimodal learning is an interested approach that combines information from different modalities such as images, texts, audio..\n",
    "\n",
    "This method is challenging due to two reasons: \n",
    " * Where the fusion of modalities has to be done?\n",
    "      * Early Fusion \n",
    "      * Late Fusion\n",
    "      * In between\n",
    " \n",
    " \n",
    " * How to combine modalities?\n",
    "      * Late fusion :\n",
    "          * Weighted mean\n",
    "          * Concat: using a single linear perceptron\n",
    "          * Concat+Multitask: uses the same multi-task-loss of CentralNet (proposed by Vielzeuf et.al)\n",
    "          * Moddrop \n",
    "          * Gated Multimodal unit \n",
    "          * CentralNet: Vielzeuf et.al (Best accuracy on three datasets) \n",
    "\n",
    "\n",
    "There's three github repositories that uses Multimodal learning:\n",
    "\n",
    " * <a href=\"https://github.com/husseinmozannar/multimodal-deep-learning-for-disaster-response\">disaster-response</a>\n",
    " * <a href=\"https://github.com/Trankei/inf8225-emoclassifier\">Emotion classifier</a> there's an article related to this repo on <a href=\"https://medium.com/dair-ai/detecting-emotions-with-cnn-fusion-models-b066944969c8\"> medium </a> and a paper <a href=\"https://arxiv.org/pdf/1708.02099.pdf\">article</a>. [5]\n",
    " \n",
    "Two architectures will be built:\n",
    "* First model: \n",
    "\n",
    "    input: photos and status both labeled. \n",
    "    \n",
    "    output: depressed / not depressed\n",
    "* Second Model:\n",
    "\n",
    "    input: profile of twitter user (both structured and unstructured data)\n",
    "    \n",
    "    output: depressed/ Not depressed\n",
    "\n",
    "## Twitter vs Facebook\n",
    "\n",
    "There's multiple studies done on detecting Depressive Disorder on Twitter. \n",
    "\n",
    "For instance: \n",
    "\n",
    "[6] detected depressive disorders via Twitter.\n",
    "In previous studies, online detection was proven effective in Twitter.\n",
    "\n",
    "Facebook \"protects\" users Data and privacy by those <a href=\"https://www.facebook.com/apps/site_scraping_tos_terms.php\"> terms </a>.\n",
    "\n"
   ]
  },
  {
   "cell_type": "markdown",
   "metadata": {},
   "source": [
    "References:\n",
    "\n",
    "\n",
    "[1] American Psychiatric Association. Diagnostic and Statistical Manual of Mental Disorders : DSM-5. Arlington, Va., American Psychiatric Association, 2013.\n",
    "\n",
    "\n",
    "[2] Guntuku, Sharath Chandra & Yaden, David & Kern, Margaret & Ungar, Lyle & Eichstaedt, Johannes. (2017). Detecting depression and mental illness on social media: an integrative review. Current Opinion in Behavioral Sciences. 18. 43-49. 10.1016/j.cobeha.2017.07.005. \n",
    "\n",
    "[3] Shen, Tiancheng & Jia, Jia & Shen, Guangyao & Feng, Fuli & He, Xiangnan & Luan, Huanbo & Tang, Jie & Tiropanis, Thanassis & Chua, Tat-Seng & Hall, Wendy. (2018). Cross-Domain Depression Detection via Harvesting Social Media. 1611-1617. 10.24963/ijcai.2018/223. \n",
    "\n",
    "[4] Shen, Guangyao & Jia, Jia & Nie, Liqiang & Feng, Fuli & Zhang, Cunjun & Hu, Tianrui & Chua, Tat-Seng & Zhu, Wenwu. (2017). Depression Detection via Harvesting Social Media: A Multimodal Dictionary Learning Solution. 3838-3844. 10.24963/ijcai.2017/536. \n",
    "\n",
    "[5] Duong, Chi & Lebret, Rémi & Aberer, Karl. (2017). Multimodal Classification for Analysing Social Media. \n",
    "\n",
    "[6] Gamon, Michael & Choudhury, Munmun & Counts, Scott & Horvitz, Eric. (2013). Predicting Depression via Social Media. Association for the Advancement of Artificial Intelligence. \n"
   ]
  },
  {
   "cell_type": "markdown",
   "metadata": {},
   "source": [
    "\n",
    "### These are the links to the articles:\n",
    "* <a href=\"https://drive.google.com/drive/u/0/folders/15PRzwfSsdYJ0REhOjaPOIj7YSGnVeAKT\">On Google drive</a>\n",
    "* <a href=\"https://onedrive.live.com/?id=74FDCA305112F6BE%21260&cid=74FDCA305112F6BE\"> On OneDrive </a>  "
   ]
  }
 ],
 "metadata": {
  "kernelspec": {
   "display_name": "Python 3",
   "language": "python",
   "name": "python3"
  },
  "language_info": {
   "codemirror_mode": {
    "name": "ipython",
    "version": 3
   },
   "file_extension": ".py",
   "mimetype": "text/x-python",
   "name": "python",
   "nbconvert_exporter": "python",
   "pygments_lexer": "ipython3",
   "version": "3.6.10"
  }
 },
 "nbformat": 4,
 "nbformat_minor": 4
}
