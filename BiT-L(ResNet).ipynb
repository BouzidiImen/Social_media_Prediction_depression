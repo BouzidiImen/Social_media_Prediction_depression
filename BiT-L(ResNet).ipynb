{
 "cells": [
  {
   "cell_type": "markdown",
   "metadata": {},
   "source": [
    "# <a href='https://github.com/google-research/big_transfer'> BiT-L </a>:\n",
    "Means Big Transform Large : aims to simplify & create a pre-trained model, or transfer pipeline which uses a minimal no. of necessary tricks to attain very strong performances across a broad spectrum of popular classification tasks.\n",
    "It's <a href='https://paperswithcode.com/paper/large-scale-learning-of-general-visual'> the state of art</a> of multiple datasets such as Cifar-10, Cifar-100, Imagenet ...\n",
    "\n",
    "https://www.youtube.com/watch?v=lK5rm2_OPGo&t=1218s\n",
    "\n",
    "\n",
    "https://medium.com/analytics-vidhya/enhance-learning-by-transfering-resnet-architecture-into-big-transform-architecture-44603f537fcf\n",
    "\n"
   ]
  },
  {
   "cell_type": "markdown",
   "metadata": {},
   "source": [
    "## Load Data "
   ]
  },
  {
   "cell_type": "code",
   "execution_count": 1,
   "metadata": {},
   "outputs": [],
   "source": [
    "from data import Images_load"
   ]
  },
  {
   "cell_type": "code",
   "execution_count": 2,
   "metadata": {},
   "outputs": [
    {
     "name": "stdout",
     "output_type": "stream",
     "text": [
      "Data has apparently already been downloaded and unpacked.\n"
     ]
    },
    {
     "name": "stderr",
     "output_type": "stream",
     "text": [
      "  2%|▏         | 61/4006 [00:00<00:06, 609.91it/s]"
     ]
    },
    {
     "name": "stdout",
     "output_type": "stream",
     "text": [
      "Data has apparently already been downloaded and unpacked.\n"
     ]
    },
    {
     "name": "stderr",
     "output_type": "stream",
     "text": [
      "100%|██████████| 4006/4006 [00:06<00:00, 586.48it/s]\n",
      "100%|██████████| 4192/4192 [00:07<00:00, 587.69it/s]\n"
     ]
    }
   ],
   "source": [
    "train, validation, test = Images_load.load_data()"
   ]
  },
  {
   "cell_type": "markdown",
   "metadata": {},
   "source": [
    "## Train a BiT-L ResNet 50x1"
   ]
  },
  {
   "cell_type": "code",
   "execution_count": 3,
   "metadata": {},
   "outputs": [
    {
     "name": "stderr",
     "output_type": "stream",
     "text": [
      "Using TensorFlow backend.\n"
     ]
    }
   ],
   "source": [
    "from models.Image_classifier import BiT_L_ResNet"
   ]
  },
  {
   "cell_type": "code",
   "execution_count": 4,
   "metadata": {},
   "outputs": [
    {
     "name": "stdout",
     "output_type": "stream",
     "text": [
      "WARNING:tensorflow:From /opt/conda/lib/python3.7/site-packages/tensorflow_core/python/ops/resource_variable_ops.py:1781: calling BaseResourceVariable.__init__ (from tensorflow.python.ops.resource_variable_ops) with constraint is deprecated and will be removed in a future version.\n",
      "Instructions for updating:\n",
      "If using Keras pass *_constraint arguments to layers.\n"
     ]
    },
    {
     "name": "stderr",
     "output_type": "stream",
     "text": [
      "WARNING:tensorflow:From /opt/conda/lib/python3.7/site-packages/tensorflow_core/python/ops/resource_variable_ops.py:1781: calling BaseResourceVariable.__init__ (from tensorflow.python.ops.resource_variable_ops) with constraint is deprecated and will be removed in a future version.\n",
      "Instructions for updating:\n",
      "If using Keras pass *_constraint arguments to layers.\n"
     ]
    },
    {
     "name": "stdout",
     "output_type": "stream",
     "text": [
      "Model sucessfuly built\n",
      "callbacks and data okay\n",
      "Train on 10 steps, validate on 4 steps\n",
      "WARNING:tensorflow:From /opt/conda/lib/python3.7/site-packages/keras/callbacks/tensorboard_v1.py:200: The name tf.summary.merge_all is deprecated. Please use tf.compat.v1.summary.merge_all instead.\n",
      "\n"
     ]
    },
    {
     "name": "stderr",
     "output_type": "stream",
     "text": [
      "WARNING:tensorflow:From /opt/conda/lib/python3.7/site-packages/keras/callbacks/tensorboard_v1.py:200: The name tf.summary.merge_all is deprecated. Please use tf.compat.v1.summary.merge_all instead.\n",
      "\n"
     ]
    },
    {
     "name": "stdout",
     "output_type": "stream",
     "text": [
      "WARNING:tensorflow:From /opt/conda/lib/python3.7/site-packages/keras/callbacks/tensorboard_v1.py:203: The name tf.summary.FileWriter is deprecated. Please use tf.compat.v1.summary.FileWriter instead.\n",
      "\n"
     ]
    },
    {
     "name": "stderr",
     "output_type": "stream",
     "text": [
      "WARNING:tensorflow:From /opt/conda/lib/python3.7/site-packages/keras/callbacks/tensorboard_v1.py:203: The name tf.summary.FileWriter is deprecated. Please use tf.compat.v1.summary.FileWriter instead.\n",
      "\n"
     ]
    },
    {
     "name": "stdout",
     "output_type": "stream",
     "text": [
      "WARNING:tensorflow:Issue encountered when serializing variables.\n",
      "Type is unsupported, or the types of the items don't match field type in CollectionDef. Note this is a warning and probably safe to ignore.\n",
      "'list' object has no attribute 'name'\n"
     ]
    },
    {
     "name": "stderr",
     "output_type": "stream",
     "text": [
      "WARNING:tensorflow:Issue encountered when serializing variables.\n",
      "Type is unsupported, or the types of the items don't match field type in CollectionDef. Note this is a warning and probably safe to ignore.\n",
      "'list' object has no attribute 'name'\n"
     ]
    },
    {
     "name": "stdout",
     "output_type": "stream",
     "text": [
      "Epoch 1/10\n",
      " 9/10 [==========================>...] - ETA: 18s - loss: 1.6471 - acc: 0.6593WARNING:tensorflow:From /opt/conda/lib/python3.7/site-packages/keras/callbacks/tensorboard_v1.py:343: The name tf.Summary is deprecated. Please use tf.compat.v1.Summary instead.\n",
      "\n"
     ]
    },
    {
     "name": "stderr",
     "output_type": "stream",
     "text": [
      "WARNING:tensorflow:From /opt/conda/lib/python3.7/site-packages/keras/callbacks/tensorboard_v1.py:343: The name tf.Summary is deprecated. Please use tf.compat.v1.Summary instead.\n",
      "\n"
     ]
    },
    {
     "name": "stdout",
     "output_type": "stream",
     "text": [
      "10/10 [==============================] - 262s 26s/step - loss: 1.6352 - acc: 0.6709 - val_loss: 0.7856 - val_acc: 0.8296\n",
      "Epoch 2/10\n",
      "10/10 [==============================] - 223s 22s/step - loss: 1.3669 - acc: 0.7711 - val_loss: 0.6076 - val_acc: 0.7867\n",
      "Epoch 3/10\n",
      "10/10 [==============================] - 223s 22s/step - loss: 1.0590 - acc: 0.7660 - val_loss: 0.8387 - val_acc: 0.7477\n",
      "Epoch 4/10\n",
      "10/10 [==============================] - 223s 22s/step - loss: 0.6530 - acc: 0.8145 - val_loss: 0.4639 - val_acc: 0.8004\n",
      "Epoch 5/10\n",
      "10/10 [==============================] - 225s 22s/step - loss: 0.4437 - acc: 0.8369 - val_loss: 0.4778 - val_acc: 0.7887\n",
      "Epoch 6/10\n",
      "10/10 [==============================] - 224s 22s/step - loss: 0.4354 - acc: 0.8320 - val_loss: 0.5371 - val_acc: 0.7822\n",
      "Epoch 7/10\n",
      "10/10 [==============================] - 224s 22s/step - loss: 0.5133 - acc: 0.8043 - val_loss: 0.4019 - val_acc: 0.8283\n",
      "Epoch 8/10\n",
      "10/10 [==============================] - 224s 22s/step - loss: 0.3897 - acc: 0.8494 - val_loss: 0.5294 - val_acc: 0.7529\n",
      "Epoch 9/10\n",
      "10/10 [==============================] - 224s 22s/step - loss: 0.5063 - acc: 0.8047 - val_loss: 0.5368 - val_acc: 0.8062\n",
      "Epoch 10/10\n",
      "10/10 [==============================] - 222s 22s/step - loss: 0.5450 - acc: 0.8266 - val_loss: 0.4535 - val_acc: 0.8114\n",
      "Training model is finished\n",
      "5/5 [==============================] - 102s 20s/step - loss: 0.4722 - acc: 0.8117\n",
      "Test accuracy: 0.8117073\n",
      "CPU times: user 3h 23min 13s, sys: 44min 31s, total: 4h 7min 45s\n",
      "Wall time: 41min 30s\n"
     ]
    }
   ],
   "source": [
    "%%time \n",
    "history,model = BiT_L_ResNet.train_Bit_L(train,validation,test)"
   ]
  },
  {
   "cell_type": "code",
   "execution_count": 5,
   "metadata": {},
   "outputs": [
    {
     "data": {
      "image/png": "[encoded data removed]",
      "text/plain": [
       "<Figure size 432x288 with 1 Axes>"
      ]
     },
     "metadata": {
      "needs_background": "light"
     },
     "output_type": "display_data"
    }
   ],
   "source": [
    "from matplotlib import pyplot\n",
    "# plot train and validation loss\n",
    "pyplot.plot(history.history['loss'])\n",
    "pyplot.plot(history.history['val_loss'])\n",
    "pyplot.title('model train vs validation loss')\n",
    "pyplot.ylabel('loss')\n",
    "pyplot.xlabel('epoch')\n",
    "pyplot.legend(['train', 'validation'], loc='upper right')\n",
    "pyplot.show() "
   ]
  },
  {
   "cell_type": "code",
   "execution_count": 6,
   "metadata": {},
   "outputs": [
    {
     "name": "stdout",
     "output_type": "stream",
     "text": [
      "INFO:tensorflow:Assets written to: saved_model/model1_10epochs_bit/assets\n"
     ]
    },
    {
     "name": "stderr",
     "output_type": "stream",
     "text": [
      "INFO:tensorflow:Assets written to: saved_model/model1_10epochs_bit/assets\n"
     ]
    }
   ],
   "source": [
    "import tensorflow as tf \n",
    "# Save fine-tuned model as SavedModel\n",
    "export_module_dir = 'saved_model/model1_10epochs_bit'\n",
    "tf.saved_model.save(model, export_module_dir)"
   ]
  },
  {
   "cell_type": "markdown",
   "metadata": {},
   "source": [
    "### Experiment 2:"
   ]
  },
  {
   "cell_type": "code",
   "execution_count": 4,
   "metadata": {},
   "outputs": [
    {
     "name": "stdout",
     "output_type": "stream",
     "text": [
      " 9/10 [==========================>...] - ETA: 16s - loss: 1.0949 - acc: 0.6892WARNING:tensorflow:From /opt/conda/lib/python3.7/site-packages/keras/callbacks/tensorboard_v1.py:343: The name tf.Summary is deprecated. Please use tf.compat.v1.Summary instead.\n",
      "\n"
     ]
    },
    {
     "name": "stderr",
     "output_type": "stream",
     "text": [
      "WARNING:tensorflow:From /opt/conda/lib/python3.7/site-packages/keras/callbacks/tensorboard_v1.py:343: The name tf.Summary is deprecated. Please use tf.compat.v1.Summary instead.\n",
      "\n"
     ]
    },
    {
     "name": "stdout",
     "output_type": "stream",
     "text": [
      "10/10 [==============================] - 251s 25s/step - loss: 1.0787 - acc: 0.7014 - val_loss: 0.9322 - val_acc: 0.7646\n",
      "Epoch 2/50\n",
      "10/10 [==============================] - 227s 23s/step - loss: 1.0234 - acc: 0.7902 - val_loss: 0.9646 - val_acc: 0.7022\n",
      "Epoch 3/50\n",
      "10/10 [==============================] - 224s 22s/step - loss: 0.8034 - acc: 0.7773 - val_loss: 0.5256 - val_acc: 0.7757\n",
      "Epoch 4/50\n",
      "10/10 [==============================] - 225s 22s/step - loss: 0.5346 - acc: 0.8131 - val_loss: 0.4115 - val_acc: 0.8231\n",
      "Epoch 5/50\n",
      "10/10 [==============================] - 224s 22s/step - loss: 0.3881 - acc: 0.8379 - val_loss: 0.3881 - val_acc: 0.8166\n",
      "Epoch 6/50\n",
      "10/10 [==============================] - 225s 22s/step - loss: 0.3340 - acc: 0.8586 - val_loss: 0.5155 - val_acc: 0.7757\n",
      "Epoch 7/50\n",
      "10/10 [==============================] - 225s 23s/step - loss: 0.4281 - acc: 0.8205 - val_loss: 0.3953 - val_acc: 0.8238\n",
      "Epoch 8/50\n",
      "10/10 [==============================] - 226s 23s/step - loss: 0.5008 - acc: 0.8162 - val_loss: 0.4478 - val_acc: 0.7971\n",
      "Epoch 9/50\n",
      "10/10 [==============================] - 224s 22s/step - loss: 0.4305 - acc: 0.8338 - val_loss: 0.5024 - val_acc: 0.7802\n",
      "Epoch 10/50\n",
      "10/10 [==============================] - 224s 22s/step - loss: 0.4371 - acc: 0.8285 - val_loss: 0.4469 - val_acc: 0.8069\n",
      "Epoch 11/50\n",
      "10/10 [==============================] - 225s 23s/step - loss: 0.3511 - acc: 0.8576 - val_loss: 0.4218 - val_acc: 0.8075\n",
      "Epoch 12/50\n",
      "10/10 [==============================] - 225s 22s/step - loss: 0.3040 - acc: 0.8717 - val_loss: 0.4763 - val_acc: 0.7932\n",
      "Epoch 13/50\n",
      "10/10 [==============================] - 222s 22s/step - loss: 0.3133 - acc: 0.8656 - val_loss: 0.4696 - val_acc: 0.7724\n",
      "Epoch 14/50\n",
      "10/10 [==============================] - 225s 23s/step - loss: 0.3681 - acc: 0.8486 - val_loss: 0.6499 - val_acc: 0.7744\n",
      "Epoch 15/50\n",
      " 9/10 [==========================>...] - ETA: 15s - loss: 0.4027 - acc: 0.8379Restoring model weights from the end of the best epoch\n",
      "10/10 [==============================] - 227s 23s/step - loss: 0.4255 - acc: 0.8305 - val_loss: 0.7518 - val_acc: 0.7178\n",
      "Epoch 00015: early stopping\n",
      "Training model is finished\n",
      "5/5 [==============================] - 101s 20s/step - loss: 0.3931 - acc: 0.8127\n",
      "Test accuracy: 0.8126829\n",
      "CPU times: user 5h 31s, sys: 1h 5min 33s, total: 6h 6min 5s\n",
      "Wall time: 1h 12s\n"
     ]
    }
   ],
   "source": [
    "%%time\n",
    "history,model = BiT_L_ResNet.train_Bit_L(train,validation,test,epochs=50)"
   ]
  },
  {
   "cell_type": "code",
   "execution_count": null,
   "metadata": {},
   "outputs": [
    {
     "data": {
      "image/png": "[encoded data removed]",
      "text/plain": [
       "<Figure size 432x288 with 1 Axes>"
      ]
     },
     "metadata": {
      "needs_background": "light"
     },
     "output_type": "display_data"
    }
   ],
   "source": [
    "from matplotlib import pyplot\n",
    "# plot train and validation loss\n",
    "pyplot.plot(history.history['loss'])\n",
    "pyplot.plot(history.history['val_loss'])\n",
    "pyplot.title('model train vs validation loss')\n",
    "pyplot.ylabel('loss')\n",
    "pyplot.xlabel('epoch')\n",
    "pyplot.legend(['train', 'validation'], loc='upper right')\n",
    "pyplot.show() "
   ]
  },
  {
   "cell_type": "code",
   "execution_count": null,
   "metadata": {},
   "outputs": [
    {
     "name": "stdout",
     "output_type": "stream",
     "text": [
      "INFO:tensorflow:Assets written to: saved_model/model1_50epochs_bit/assets\n"
     ]
    },
    {
     "name": "stderr",
     "output_type": "stream",
     "text": [
      "INFO:tensorflow:Assets written to: saved_model/model1_50epochs_bit/assets\n"
     ]
    }
   ],
   "source": [
    "import tensorflow as tf \n",
    "# Save fine-tuned model as SavedModel\n",
    "export_module_dir = 'saved_model/model1_50epochs_bit'\n",
    "tf.saved_model.save(model, export_module_dir)"
   ]
  },
  {
   "cell_type": "markdown",
   "metadata": {},
   "source": [
    "## Train a BiT-L ResNet R50x30"
   ]
  },
  {
   "cell_type": "code",
   "execution_count": 4,
   "metadata": {},
   "outputs": [
    {
     "name": "stdout",
     "output_type": "stream",
     "text": [
      "WARNING:tensorflow:From /opt/conda/lib/python3.7/site-packages/tensorflow_core/python/ops/resource_variable_ops.py:1781: calling BaseResourceVariable.__init__ (from tensorflow.python.ops.resource_variable_ops) with constraint is deprecated and will be removed in a future version.\n",
      "Instructions for updating:\n",
      "If using Keras pass *_constraint arguments to layers.\n"
     ]
    },
    {
     "name": "stderr",
     "output_type": "stream",
     "text": [
      "WARNING:tensorflow:From /opt/conda/lib/python3.7/site-packages/tensorflow_core/python/ops/resource_variable_ops.py:1781: calling BaseResourceVariable.__init__ (from tensorflow.python.ops.resource_variable_ops) with constraint is deprecated and will be removed in a future version.\n",
      "Instructions for updating:\n",
      "If using Keras pass *_constraint arguments to layers.\n"
     ]
    },
    {
     "name": "stdout",
     "output_type": "stream",
     "text": [
      "Model sucessfuly built\n",
      "callbacks and data okay\n",
      "Train on 10 steps, validate on 4 steps\n",
      "WARNING:tensorflow:From /opt/conda/lib/python3.7/site-packages/keras/callbacks/tensorboard_v1.py:200: The name tf.summary.merge_all is deprecated. Please use tf.compat.v1.summary.merge_all instead.\n",
      "\n"
     ]
    },
    {
     "name": "stderr",
     "output_type": "stream",
     "text": [
      "WARNING:tensorflow:From /opt/conda/lib/python3.7/site-packages/keras/callbacks/tensorboard_v1.py:200: The name tf.summary.merge_all is deprecated. Please use tf.compat.v1.summary.merge_all instead.\n",
      "\n"
     ]
    },
    {
     "name": "stdout",
     "output_type": "stream",
     "text": [
      "WARNING:tensorflow:From /opt/conda/lib/python3.7/site-packages/keras/callbacks/tensorboard_v1.py:203: The name tf.summary.FileWriter is deprecated. Please use tf.compat.v1.summary.FileWriter instead.\n",
      "\n"
     ]
    },
    {
     "name": "stderr",
     "output_type": "stream",
     "text": [
      "WARNING:tensorflow:From /opt/conda/lib/python3.7/site-packages/keras/callbacks/tensorboard_v1.py:203: The name tf.summary.FileWriter is deprecated. Please use tf.compat.v1.summary.FileWriter instead.\n",
      "\n"
     ]
    },
    {
     "name": "stdout",
     "output_type": "stream",
     "text": [
      "WARNING:tensorflow:Issue encountered when serializing variables.\n",
      "Type is unsupported, or the types of the items don't match field type in CollectionDef. Note this is a warning and probably safe to ignore.\n",
      "'list' object has no attribute 'name'\n"
     ]
    },
    {
     "name": "stderr",
     "output_type": "stream",
     "text": [
      "WARNING:tensorflow:Issue encountered when serializing variables.\n",
      "Type is unsupported, or the types of the items don't match field type in CollectionDef. Note this is a warning and probably safe to ignore.\n",
      "'list' object has no attribute 'name'\n"
     ]
    },
    {
     "name": "stdout",
     "output_type": "stream",
     "text": [
      "Epoch 1/10\n",
      " 9/10 [==========================>...] - ETA: 1:13 - loss: 0.9638 - acc: 0.7209WARNING:tensorflow:From /opt/conda/lib/python3.7/site-packages/keras/callbacks/tensorboard_v1.py:343: The name tf.Summary is deprecated. Please use tf.compat.v1.Summary instead.\n",
      "\n"
     ]
    },
    {
     "name": "stderr",
     "output_type": "stream",
     "text": [
      "WARNING:tensorflow:From /opt/conda/lib/python3.7/site-packages/keras/callbacks/tensorboard_v1.py:343: The name tf.Summary is deprecated. Please use tf.compat.v1.Summary instead.\n",
      "\n"
     ]
    },
    {
     "name": "stdout",
     "output_type": "stream",
     "text": [
      "10/10 [==============================] - 1075s 107s/step - loss: 0.9496 - acc: 0.7309 - val_loss: 1.1943 - val_acc: 0.7295\n",
      "Epoch 2/10\n",
      "10/10 [==============================] - 1033s 103s/step - loss: 0.9338 - acc: 0.8000 - val_loss: 1.4265 - val_acc: 0.6495\n",
      "Epoch 3/10\n",
      "10/10 [==============================] - 1032s 103s/step - loss: 0.7882 - acc: 0.8092 - val_loss: 0.6230 - val_acc: 0.7724\n",
      "Epoch 4/10\n",
      "10/10 [==============================] - 1031s 103s/step - loss: 0.4280 - acc: 0.8479 - val_loss: 1.0048 - val_acc: 0.6834\n",
      "Epoch 5/10\n",
      "10/10 [==============================] - 1031s 103s/step - loss: 1.1533 - acc: 0.7668 - val_loss: 0.8569 - val_acc: 0.7965\n",
      "Epoch 6/10\n",
      "10/10 [==============================] - 1033s 103s/step - loss: 0.7142 - acc: 0.8430 - val_loss: 0.9698 - val_acc: 0.7406\n",
      "Epoch 7/10\n",
      "10/10 [==============================] - 1029s 103s/step - loss: 0.4672 - acc: 0.8512 - val_loss: 0.5891 - val_acc: 0.8017\n",
      "Epoch 8/10\n",
      "10/10 [==============================] - 1031s 103s/step - loss: 0.5656 - acc: 0.8352 - val_loss: 0.5398 - val_acc: 0.8225\n",
      "Epoch 9/10\n",
      "10/10 [==============================] - 1033s 103s/step - loss: 0.3729 - acc: 0.8846 - val_loss: 0.6636 - val_acc: 0.7536\n",
      "Epoch 10/10\n",
      "10/10 [==============================] - 1031s 103s/step - loss: 0.3861 - acc: 0.8697 - val_loss: 0.5315 - val_acc: 0.8153\n",
      "Training model is finished\n",
      "5/5 [==============================] - 437s 87s/step - loss: 0.5675 - acc: 0.8180\n",
      "Test accuracy: 0.8180488\n",
      "CPU times: user 14h 41min 57s, sys: 1h 14min 41s, total: 15h 56min 39s\n",
      "Wall time: 3h 2min 8s\n"
     ]
    }
   ],
   "source": [
    "%%time\n",
    "history,model = BiT_L_ResNet.train_Bit_L(train,validation,test,model_name=\"r50x3\")"
   ]
  },
  {
   "cell_type": "code",
   "execution_count": 5,
   "metadata": {},
   "outputs": [
    {
     "data": {
      "image/png": "[encoded data removed]",
      "text/plain": [
       "<Figure size 432x288 with 1 Axes>"
      ]
     },
     "metadata": {
      "needs_background": "light"
     },
     "output_type": "display_data"
    }
   ],
   "source": [
    "from matplotlib import pyplot\n",
    "# plot train and validation loss\n",
    "pyplot.plot(history.history['loss'])\n",
    "pyplot.plot(history.history['val_loss'])\n",
    "pyplot.title('model train vs validation loss')\n",
    "pyplot.ylabel('loss')\n",
    "pyplot.xlabel('epoch')\n",
    "pyplot.legend(['train', 'validation'], loc='upper right')\n",
    "pyplot.show() "
   ]
  },
  {
   "cell_type": "code",
   "execution_count": 6,
   "metadata": {},
   "outputs": [
    {
     "name": "stdout",
     "output_type": "stream",
     "text": [
      "INFO:tensorflow:Assets written to: saved_model/model2_10epochs_bit/assets\n"
     ]
    },
    {
     "name": "stderr",
     "output_type": "stream",
     "text": [
      "INFO:tensorflow:Assets written to: saved_model/model2_10epochs_bit/assets\n"
     ]
    }
   ],
   "source": [
    "import tensorflow as tf \n",
    "# Save fine-tuned model as SavedModel\n",
    "export_module_dir = 'saved_model/model2_10epochs_bit'\n",
    "tf.saved_model.save(model, export_module_dir)"
   ]
  },
  {
   "cell_type": "markdown",
   "metadata": {},
   "source": [
    "## Model Based on ResNet 101x1\n",
    "### Experiment 1:"
   ]
  },
  {
   "cell_type": "code",
   "execution_count": 4,
   "metadata": {},
   "outputs": [
    {
     "name": "stdout",
     "output_type": "stream",
     "text": [
      "WARNING:tensorflow:From /opt/conda/lib/python3.7/site-packages/tensorflow_core/python/ops/resource_variable_ops.py:1781: calling BaseResourceVariable.__init__ (from tensorflow.python.ops.resource_variable_ops) with constraint is deprecated and will be removed in a future version.\n",
      "Instructions for updating:\n",
      "If using Keras pass *_constraint arguments to layers.\n"
     ]
    },
    {
     "name": "stderr",
     "output_type": "stream",
     "text": [
      "WARNING:tensorflow:From /opt/conda/lib/python3.7/site-packages/tensorflow_core/python/ops/resource_variable_ops.py:1781: calling BaseResourceVariable.__init__ (from tensorflow.python.ops.resource_variable_ops) with constraint is deprecated and will be removed in a future version.\n",
      "Instructions for updating:\n",
      "If using Keras pass *_constraint arguments to layers.\n"
     ]
    },
    {
     "name": "stdout",
     "output_type": "stream",
     "text": [
      "Model sucessfuly built\n",
      "callbacks and data okay\n",
      "Train on 10 steps, validate on 4 steps\n",
      "WARNING:tensorflow:From /opt/conda/lib/python3.7/site-packages/keras/callbacks/tensorboard_v1.py:200: The name tf.summary.merge_all is deprecated. Please use tf.compat.v1.summary.merge_all instead.\n",
      "\n"
     ]
    },
    {
     "name": "stderr",
     "output_type": "stream",
     "text": [
      "WARNING:tensorflow:From /opt/conda/lib/python3.7/site-packages/keras/callbacks/tensorboard_v1.py:200: The name tf.summary.merge_all is deprecated. Please use tf.compat.v1.summary.merge_all instead.\n",
      "\n"
     ]
    },
    {
     "name": "stdout",
     "output_type": "stream",
     "text": [
      "WARNING:tensorflow:From /opt/conda/lib/python3.7/site-packages/keras/callbacks/tensorboard_v1.py:203: The name tf.summary.FileWriter is deprecated. Please use tf.compat.v1.summary.FileWriter instead.\n",
      "\n"
     ]
    },
    {
     "name": "stderr",
     "output_type": "stream",
     "text": [
      "WARNING:tensorflow:From /opt/conda/lib/python3.7/site-packages/keras/callbacks/tensorboard_v1.py:203: The name tf.summary.FileWriter is deprecated. Please use tf.compat.v1.summary.FileWriter instead.\n",
      "\n"
     ]
    },
    {
     "name": "stdout",
     "output_type": "stream",
     "text": [
      "WARNING:tensorflow:Issue encountered when serializing variables.\n",
      "Type is unsupported, or the types of the items don't match field type in CollectionDef. Note this is a warning and probably safe to ignore.\n",
      "'list' object has no attribute 'name'\n"
     ]
    },
    {
     "name": "stderr",
     "output_type": "stream",
     "text": [
      "WARNING:tensorflow:Issue encountered when serializing variables.\n",
      "Type is unsupported, or the types of the items don't match field type in CollectionDef. Note this is a warning and probably safe to ignore.\n",
      "'list' object has no attribute 'name'\n"
     ]
    },
    {
     "name": "stdout",
     "output_type": "stream",
     "text": [
      "Epoch 1/10\n",
      " 9/10 [==========================>...] - ETA: 30s - loss: 1.3831 - acc: 0.6595 WARNING:tensorflow:From /opt/conda/lib/python3.7/site-packages/keras/callbacks/tensorboard_v1.py:343: The name tf.Summary is deprecated. Please use tf.compat.v1.Summary instead.\n",
      "\n"
     ]
    },
    {
     "name": "stderr",
     "output_type": "stream",
     "text": [
      "WARNING:tensorflow:From /opt/conda/lib/python3.7/site-packages/keras/callbacks/tensorboard_v1.py:343: The name tf.Summary is deprecated. Please use tf.compat.v1.Summary instead.\n",
      "\n"
     ]
    },
    {
     "name": "stdout",
     "output_type": "stream",
     "text": [
      "10/10 [==============================] - 447s 45s/step - loss: 1.3627 - acc: 0.6736 - val_loss: 0.9334 - val_acc: 0.7945\n",
      "Epoch 2/10\n",
      "10/10 [==============================] - 380s 38s/step - loss: 1.2109 - acc: 0.7762 - val_loss: 0.6339 - val_acc: 0.7965\n",
      "Epoch 3/10\n",
      "10/10 [==============================] - 389s 39s/step - loss: 0.8082 - acc: 0.7980 - val_loss: 1.1226 - val_acc: 0.6489\n",
      "Epoch 4/10\n",
      "10/10 [==============================] - 389s 39s/step - loss: 0.7577 - acc: 0.7727 - val_loss: 0.5446 - val_acc: 0.7958\n",
      "Epoch 5/10\n",
      "10/10 [==============================] - 392s 39s/step - loss: 0.5631 - acc: 0.8357 - val_loss: 0.5664 - val_acc: 0.7633\n",
      "Epoch 6/10\n",
      "10/10 [==============================] - 383s 38s/step - loss: 0.3768 - acc: 0.8531 - val_loss: 0.4053 - val_acc: 0.8114\n",
      "Epoch 7/10\n",
      "10/10 [==============================] - 390s 39s/step - loss: 0.5045 - acc: 0.8166 - val_loss: 0.5470 - val_acc: 0.7750\n",
      "Epoch 8/10\n",
      "10/10 [==============================] - 382s 38s/step - loss: 0.5766 - acc: 0.8105 - val_loss: 0.4007 - val_acc: 0.8231\n",
      "Epoch 9/10\n",
      "10/10 [==============================] - 388s 39s/step - loss: 0.4892 - acc: 0.8252 - val_loss: 0.6981 - val_acc: 0.7334\n",
      "Epoch 10/10\n",
      "10/10 [==============================] - 383s 38s/step - loss: 0.3975 - acc: 0.8475 - val_loss: 0.5720 - val_acc: 0.7588\n",
      "Training model is finished\n",
      "5/5 [==============================] - 183s 37s/step - loss: 0.6319 - acc: 0.7673\n",
      "Test accuracy: 0.76731706\n",
      "CPU times: user 5h 42min 15s, sys: 1h 20min 55s, total: 7h 3min 11s\n",
      "Wall time: 1h 11min\n"
     ]
    }
   ],
   "source": [
    "%%time\n",
    "history,model = BiT_L_ResNet.train_Bit_L(train,validation,test,model_name=\"r101x1\",epochs=10)"
   ]
  },
  {
   "cell_type": "code",
   "execution_count": 5,
   "metadata": {},
   "outputs": [
    {
     "data": {
      "image/png": "[encoded data removed]",
      "text/plain": [
       "<Figure size 432x288 with 1 Axes>"
      ]
     },
     "metadata": {
      "needs_background": "light"
     },
     "output_type": "display_data"
    }
   ],
   "source": [
    "from matplotlib import pyplot\n",
    "# plot train and validation loss\n",
    "pyplot.plot(history.history['loss'])\n",
    "pyplot.plot(history.history['val_loss'])\n",
    "pyplot.title('model train vs validation loss')\n",
    "pyplot.ylabel('loss')\n",
    "pyplot.xlabel('epoch')\n",
    "pyplot.legend(['train', 'validation'], loc='upper right')\n",
    "pyplot.show() "
   ]
  },
  {
   "cell_type": "code",
   "execution_count": 6,
   "metadata": {},
   "outputs": [
    {
     "name": "stdout",
     "output_type": "stream",
     "text": [
      "INFO:tensorflow:Assets written to: saved_model/model3_10epochs_bit/assets\n"
     ]
    },
    {
     "name": "stderr",
     "output_type": "stream",
     "text": [
      "INFO:tensorflow:Assets written to: saved_model/model3_10epochs_bit/assets\n"
     ]
    }
   ],
   "source": [
    "import tensorflow as tf \n",
    "# Save fine-tuned model as SavedModel\n",
    "export_module_dir = 'saved_model/model3_10epochs_bit'\n",
    "tf.saved_model.save(model, export_module_dir)"
   ]
  },
  {
   "cell_type": "markdown",
   "metadata": {},
   "source": [
    "### Experiment 2: "
   ]
  },
  {
   "cell_type": "code",
   "execution_count": 4,
   "metadata": {},
   "outputs": [
    {
     "name": "stdout",
     "output_type": "stream",
     "text": [
      "WARNING:tensorflow:From /opt/conda/lib/python3.7/site-packages/tensorflow_core/python/ops/resource_variable_ops.py:1781: calling BaseResourceVariable.__init__ (from tensorflow.python.ops.resource_variable_ops) with constraint is deprecated and will be removed in a future version.\n",
      "Instructions for updating:\n",
      "If using Keras pass *_constraint arguments to layers.\n"
     ]
    },
    {
     "name": "stderr",
     "output_type": "stream",
     "text": [
      "WARNING:tensorflow:From /opt/conda/lib/python3.7/site-packages/tensorflow_core/python/ops/resource_variable_ops.py:1781: calling BaseResourceVariable.__init__ (from tensorflow.python.ops.resource_variable_ops) with constraint is deprecated and will be removed in a future version.\n",
      "Instructions for updating:\n",
      "If using Keras pass *_constraint arguments to layers.\n"
     ]
    },
    {
     "name": "stdout",
     "output_type": "stream",
     "text": [
      "Model sucessfuly built\n",
      "callbacks and data okay\n",
      "Train on 10 steps, validate on 4 steps\n",
      "WARNING:tensorflow:From /opt/conda/lib/python3.7/site-packages/keras/callbacks/tensorboard_v1.py:200: The name tf.summary.merge_all is deprecated. Please use tf.compat.v1.summary.merge_all instead.\n",
      "\n"
     ]
    },
    {
     "name": "stderr",
     "output_type": "stream",
     "text": [
      "WARNING:tensorflow:From /opt/conda/lib/python3.7/site-packages/keras/callbacks/tensorboard_v1.py:200: The name tf.summary.merge_all is deprecated. Please use tf.compat.v1.summary.merge_all instead.\n",
      "\n"
     ]
    },
    {
     "name": "stdout",
     "output_type": "stream",
     "text": [
      "WARNING:tensorflow:From /opt/conda/lib/python3.7/site-packages/keras/callbacks/tensorboard_v1.py:203: The name tf.summary.FileWriter is deprecated. Please use tf.compat.v1.summary.FileWriter instead.\n",
      "\n"
     ]
    },
    {
     "name": "stderr",
     "output_type": "stream",
     "text": [
      "WARNING:tensorflow:From /opt/conda/lib/python3.7/site-packages/keras/callbacks/tensorboard_v1.py:203: The name tf.summary.FileWriter is deprecated. Please use tf.compat.v1.summary.FileWriter instead.\n",
      "\n"
     ]
    },
    {
     "name": "stdout",
     "output_type": "stream",
     "text": [
      "WARNING:tensorflow:Issue encountered when serializing variables.\n",
      "Type is unsupported, or the types of the items don't match field type in CollectionDef. Note this is a warning and probably safe to ignore.\n",
      "'list' object has no attribute 'name'\n"
     ]
    },
    {
     "name": "stderr",
     "output_type": "stream",
     "text": [
      "WARNING:tensorflow:Issue encountered when serializing variables.\n",
      "Type is unsupported, or the types of the items don't match field type in CollectionDef. Note this is a warning and probably safe to ignore.\n",
      "'list' object has no attribute 'name'\n"
     ]
    },
    {
     "name": "stdout",
     "output_type": "stream",
     "text": [
      "Epoch 1/50\n",
      " 9/10 [==========================>...] - ETA: 29s - loss: 1.2054 - acc: 0.6838WARNING:tensorflow:From /opt/conda/lib/python3.7/site-packages/keras/callbacks/tensorboard_v1.py:343: The name tf.Summary is deprecated. Please use tf.compat.v1.Summary instead.\n",
      "\n"
     ]
    },
    {
     "name": "stderr",
     "output_type": "stream",
     "text": [
      "WARNING:tensorflow:From /opt/conda/lib/python3.7/site-packages/keras/callbacks/tensorboard_v1.py:343: The name tf.Summary is deprecated. Please use tf.compat.v1.Summary instead.\n",
      "\n"
     ]
    },
    {
     "name": "stdout",
     "output_type": "stream",
     "text": [
      "10/10 [==============================] - 444s 44s/step - loss: 1.1833 - acc: 0.6975 - val_loss: 0.6688 - val_acc: 0.8225\n",
      "Epoch 2/50\n",
      "10/10 [==============================] - 389s 39s/step - loss: 0.9255 - acc: 0.7939 - val_loss: 0.5701 - val_acc: 0.7659\n",
      "Epoch 3/50\n",
      "10/10 [==============================] - 389s 39s/step - loss: 0.6380 - acc: 0.7982 - val_loss: 0.4087 - val_acc: 0.7958\n",
      "Epoch 4/50\n",
      "10/10 [==============================] - 391s 39s/step - loss: 0.4879 - acc: 0.8201 - val_loss: 0.5079 - val_acc: 0.7932\n",
      "Epoch 5/50\n",
      "10/10 [==============================] - 392s 39s/step - loss: 0.4517 - acc: 0.8260 - val_loss: 0.5724 - val_acc: 0.7484\n",
      "Epoch 6/50\n",
      "10/10 [==============================] - 394s 39s/step - loss: 0.3993 - acc: 0.8439 - val_loss: 0.4144 - val_acc: 0.8010\n",
      "Epoch 7/50\n",
      "10/10 [==============================] - 387s 39s/step - loss: 0.2929 - acc: 0.8758 - val_loss: 0.4796 - val_acc: 0.7698\n",
      "Epoch 8/50\n",
      "10/10 [==============================] - 392s 39s/step - loss: 0.4633 - acc: 0.8152 - val_loss: 0.3785 - val_acc: 0.8212\n",
      "Epoch 9/50\n",
      "10/10 [==============================] - 390s 39s/step - loss: 0.3895 - acc: 0.8527 - val_loss: 0.6328 - val_acc: 0.7211\n",
      "Epoch 10/50\n",
      "10/10 [==============================] - 390s 39s/step - loss: 0.4255 - acc: 0.8363 - val_loss: 0.5637 - val_acc: 0.7646\n",
      "Epoch 11/50\n",
      "10/10 [==============================] - 393s 39s/step - loss: 0.3621 - acc: 0.8527 - val_loss: 0.4878 - val_acc: 0.7841\n",
      "Epoch 12/50\n",
      "10/10 [==============================] - 393s 39s/step - loss: 0.3415 - acc: 0.8592 - val_loss: 0.7952 - val_acc: 0.6827\n",
      "Epoch 13/50\n",
      "10/10 [==============================] - 394s 39s/step - loss: 0.3679 - acc: 0.8535 - val_loss: 0.4315 - val_acc: 0.8062\n",
      "Epoch 14/50\n",
      "10/10 [==============================] - 392s 39s/step - loss: 0.3530 - acc: 0.8576 - val_loss: 0.4554 - val_acc: 0.8056\n",
      "Epoch 15/50\n",
      "10/10 [==============================] - 395s 39s/step - loss: 0.2668 - acc: 0.8889 - val_loss: 0.4049 - val_acc: 0.8108\n",
      "Epoch 16/50\n",
      "10/10 [==============================] - 392s 39s/step - loss: 0.2797 - acc: 0.8799 - val_loss: 0.4435 - val_acc: 0.8088\n",
      "Epoch 17/50\n",
      "10/10 [==============================] - 395s 39s/step - loss: 0.2721 - acc: 0.8816 - val_loss: 0.4236 - val_acc: 0.8043\n",
      "Epoch 18/50\n",
      " 9/10 [==========================>...] - ETA: 26s - loss: 0.2356 - acc: 0.9036Restoring model weights from the end of the best epoch\n",
      "10/10 [==============================] - 398s 40s/step - loss: 0.2402 - acc: 0.9020 - val_loss: 0.4726 - val_acc: 0.7848\n",
      "Epoch 00018: early stopping\n",
      "Training model is finished\n",
      "5/5 [==============================] - 180s 36s/step - loss: 0.4060 - acc: 0.8259\n",
      "Test accuracy: 0.82585365\n",
      "CPU times: user 10h 14min 31s, sys: 2h 20min 14s, total: 12h 34min 46s\n",
      "Wall time: 2h 4min 1s\n"
     ]
    }
   ],
   "source": [
    "%%time\n",
    "history,model = BiT_L_ResNet.train_Bit_L(train,validation,test,model_name=\"r101x1\",epochs=50)"
   ]
  },
  {
   "cell_type": "code",
   "execution_count": 5,
   "metadata": {},
   "outputs": [
    {
     "data": {
      "image/png": "[encoded data removed]",
      "text/plain": [
       "<Figure size 432x288 with 1 Axes>"
      ]
     },
     "metadata": {
      "needs_background": "light"
     },
     "output_type": "display_data"
    }
   ],
   "source": [
    "from matplotlib import pyplot\n",
    "# plot train and validation loss\n",
    "pyplot.plot(history.history['loss'])\n",
    "pyplot.plot(history.history['val_loss'])\n",
    "pyplot.title('model train vs validation loss')\n",
    "pyplot.ylabel('loss')\n",
    "pyplot.xlabel('epoch')\n",
    "pyplot.legend(['train', 'validation'], loc='upper right')\n",
    "pyplot.show() "
   ]
  },
  {
   "cell_type": "code",
   "execution_count": 6,
   "metadata": {},
   "outputs": [
    {
     "name": "stdout",
     "output_type": "stream",
     "text": [
      "INFO:tensorflow:Assets written to: saved_model/model3_50epochs_bit/assets\n"
     ]
    },
    {
     "name": "stderr",
     "output_type": "stream",
     "text": [
      "INFO:tensorflow:Assets written to: saved_model/model3_50epochs_bit/assets\n"
     ]
    }
   ],
   "source": [
    "import tensorflow as tf \n",
    "# Save fine-tuned model as SavedModel\n",
    "export_module_dir = 'saved_model/model3_50epochs_bit'\n",
    "tf.saved_model.save(model, export_module_dir)"
   ]
  },
  {
   "cell_type": "markdown",
   "metadata": {},
   "source": [
    "### Experiment 3: "
   ]
  },
  {
   "cell_type": "code",
   "execution_count": 4,
   "metadata": {},
   "outputs": [
    {
     "name": "stdout",
     "output_type": "stream",
     "text": [
      "WARNING:tensorflow:From /opt/conda/lib/python3.7/site-packages/tensorflow_core/python/ops/resource_variable_ops.py:1781: calling BaseResourceVariable.__init__ (from tensorflow.python.ops.resource_variable_ops) with constraint is deprecated and will be removed in a future version.\n",
      "Instructions for updating:\n",
      "If using Keras pass *_constraint arguments to layers.\n"
     ]
    },
    {
     "name": "stderr",
     "output_type": "stream",
     "text": [
      "WARNING:tensorflow:From /opt/conda/lib/python3.7/site-packages/tensorflow_core/python/ops/resource_variable_ops.py:1781: calling BaseResourceVariable.__init__ (from tensorflow.python.ops.resource_variable_ops) with constraint is deprecated and will be removed in a future version.\n",
      "Instructions for updating:\n",
      "If using Keras pass *_constraint arguments to layers.\n"
     ]
    },
    {
     "name": "stdout",
     "output_type": "stream",
     "text": [
      "Model sucessfuly built\n",
      "callbacks and data okay\n",
      "Train on 10 steps, validate on 4 steps\n",
      "WARNING:tensorflow:From /opt/conda/lib/python3.7/site-packages/keras/callbacks/tensorboard_v1.py:200: The name tf.summary.merge_all is deprecated. Please use tf.compat.v1.summary.merge_all instead.\n",
      "\n"
     ]
    },
    {
     "name": "stderr",
     "output_type": "stream",
     "text": [
      "WARNING:tensorflow:From /opt/conda/lib/python3.7/site-packages/keras/callbacks/tensorboard_v1.py:200: The name tf.summary.merge_all is deprecated. Please use tf.compat.v1.summary.merge_all instead.\n",
      "\n"
     ]
    },
    {
     "name": "stdout",
     "output_type": "stream",
     "text": [
      "WARNING:tensorflow:From /opt/conda/lib/python3.7/site-packages/keras/callbacks/tensorboard_v1.py:203: The name tf.summary.FileWriter is deprecated. Please use tf.compat.v1.summary.FileWriter instead.\n",
      "\n"
     ]
    },
    {
     "name": "stderr",
     "output_type": "stream",
     "text": [
      "WARNING:tensorflow:From /opt/conda/lib/python3.7/site-packages/keras/callbacks/tensorboard_v1.py:203: The name tf.summary.FileWriter is deprecated. Please use tf.compat.v1.summary.FileWriter instead.\n",
      "\n"
     ]
    },
    {
     "name": "stdout",
     "output_type": "stream",
     "text": [
      "WARNING:tensorflow:Issue encountered when serializing variables.\n",
      "Type is unsupported, or the types of the items don't match field type in CollectionDef. Note this is a warning and probably safe to ignore.\n",
      "'list' object has no attribute 'name'\n"
     ]
    },
    {
     "name": "stderr",
     "output_type": "stream",
     "text": [
      "WARNING:tensorflow:Issue encountered when serializing variables.\n",
      "Type is unsupported, or the types of the items don't match field type in CollectionDef. Note this is a warning and probably safe to ignore.\n",
      "'list' object has no attribute 'name'\n"
     ]
    },
    {
     "name": "stdout",
     "output_type": "stream",
     "text": [
      "Epoch 1/100\n",
      " 9/10 [==========================>...] - ETA: 28s - loss: 1.4719 - acc: 0.6526WARNING:tensorflow:From /opt/conda/lib/python3.7/site-packages/keras/callbacks/tensorboard_v1.py:343: The name tf.Summary is deprecated. Please use tf.compat.v1.Summary instead.\n",
      "\n"
     ]
    },
    {
     "name": "stderr",
     "output_type": "stream",
     "text": [
      "WARNING:tensorflow:From /opt/conda/lib/python3.7/site-packages/keras/callbacks/tensorboard_v1.py:343: The name tf.Summary is deprecated. Please use tf.compat.v1.Summary instead.\n",
      "\n"
     ]
    },
    {
     "name": "stdout",
     "output_type": "stream",
     "text": [
      "10/10 [==============================] - 424s 42s/step - loss: 1.5126 - acc: 0.6627 - val_loss: 0.7287 - val_acc: 0.8322\n",
      "Epoch 2/100\n",
      "10/10 [==============================] - 382s 38s/step - loss: 1.1978 - acc: 0.7949 - val_loss: 0.6690 - val_acc: 0.7776\n",
      "Epoch 3/100\n",
      "10/10 [==============================] - 379s 38s/step - loss: 0.7104 - acc: 0.8109 - val_loss: 0.6049 - val_acc: 0.7633\n",
      "Epoch 4/100\n",
      "10/10 [==============================] - 381s 38s/step - loss: 0.6281 - acc: 0.7891 - val_loss: 0.4030 - val_acc: 0.8270\n",
      "Epoch 5/100\n",
      "10/10 [==============================] - 379s 38s/step - loss: 0.4753 - acc: 0.8291 - val_loss: 0.3899 - val_acc: 0.8069\n",
      "Epoch 6/100\n",
      "10/10 [==============================] - 384s 38s/step - loss: 0.4342 - acc: 0.8279 - val_loss: 0.4368 - val_acc: 0.8075\n",
      "Epoch 7/100\n",
      "10/10 [==============================] - 390s 39s/step - loss: 0.5034 - acc: 0.8152 - val_loss: 0.4590 - val_acc: 0.7939\n",
      "Epoch 8/100\n",
      "10/10 [==============================] - 383s 38s/step - loss: 0.4319 - acc: 0.8420 - val_loss: 0.4107 - val_acc: 0.8075\n",
      "Epoch 9/100\n",
      "10/10 [==============================] - 387s 39s/step - loss: 0.3253 - acc: 0.8691 - val_loss: 0.4219 - val_acc: 0.8075\n",
      "Epoch 10/100\n",
      "10/10 [==============================] - 384s 38s/step - loss: 0.2804 - acc: 0.8814 - val_loss: 0.4093 - val_acc: 0.8017\n",
      "Epoch 11/100\n",
      "10/10 [==============================] - 381s 38s/step - loss: 0.3401 - acc: 0.8596 - val_loss: 0.4013 - val_acc: 0.8134\n",
      "Epoch 12/100\n",
      "10/10 [==============================] - 383s 38s/step - loss: 0.3267 - acc: 0.8609 - val_loss: 0.5038 - val_acc: 0.7867\n",
      "Epoch 13/100\n",
      "10/10 [==============================] - 384s 38s/step - loss: 0.3266 - acc: 0.8682 - val_loss: 0.4438 - val_acc: 0.7997\n",
      "Epoch 14/100\n",
      "10/10 [==============================] - 384s 38s/step - loss: 0.2915 - acc: 0.8768 - val_loss: 0.4581 - val_acc: 0.7952\n",
      "Epoch 15/100\n",
      "10/10 [==============================] - 388s 39s/step - loss: 0.2969 - acc: 0.8730 - val_loss: 0.4330 - val_acc: 0.7991\n",
      "Epoch 16/100\n",
      "10/10 [==============================] - 379s 38s/step - loss: 0.3203 - acc: 0.8656 - val_loss: 0.4518 - val_acc: 0.7984\n",
      "Epoch 17/100\n",
      "10/10 [==============================] - 385s 38s/step - loss: 0.2346 - acc: 0.9074 - val_loss: 0.4493 - val_acc: 0.7958\n",
      "Epoch 18/100\n",
      "10/10 [==============================] - 380s 38s/step - loss: 0.2373 - acc: 0.9025 - val_loss: 0.4246 - val_acc: 0.8114\n",
      "Epoch 19/100\n",
      "10/10 [==============================] - 386s 39s/step - loss: 0.2524 - acc: 0.8918 - val_loss: 0.4222 - val_acc: 0.8140\n",
      "Epoch 20/100\n",
      "10/10 [==============================] - 379s 38s/step - loss: 0.2403 - acc: 0.8994 - val_loss: 0.4180 - val_acc: 0.8062\n",
      "Epoch 21/100\n",
      "10/10 [==============================] - 385s 39s/step - loss: 0.2189 - acc: 0.9113 - val_loss: 0.4289 - val_acc: 0.7984\n",
      "Epoch 22/100\n",
      "10/10 [==============================] - 380s 38s/step - loss: 0.2196 - acc: 0.9100 - val_loss: 0.4346 - val_acc: 0.7939\n",
      "Epoch 23/100\n",
      "10/10 [==============================] - 383s 38s/step - loss: 0.2052 - acc: 0.9195 - val_loss: 0.4328 - val_acc: 0.7984\n",
      "Epoch 24/100\n",
      "10/10 [==============================] - 387s 39s/step - loss: 0.1939 - acc: 0.9252 - val_loss: 0.4341 - val_acc: 0.7984\n",
      "Epoch 25/100\n",
      " 9/10 [==========================>...] - ETA: 27s - loss: 0.1995 - acc: 0.9214Restoring model weights from the end of the best epoch\n",
      "10/10 [==============================] - 397s 40s/step - loss: 0.1999 - acc: 0.9203 - val_loss: 0.4361 - val_acc: 0.7984\n",
      "Epoch 00025: early stopping\n",
      "Training model is finished\n",
      "5/5 [==============================] - 172s 34s/step - loss: 0.4082 - acc: 0.8098\n",
      "Test accuracy: 0.8097561\n",
      "CPU times: user 13h 46min 40s, sys: 3h 14min 39s, total: 17h 1min 20s\n",
      "Wall time: 2h 45min 59s\n"
     ]
    }
   ],
   "source": [
    "%%time\n",
    "history,model = BiT_L_ResNet.train_Bit_L(train,validation,test,model_name=\"r101x1\",epochs=100,patience=20)"
   ]
  },
  {
   "cell_type": "code",
   "execution_count": 5,
   "metadata": {},
   "outputs": [
    {
     "data": {
      "image/png": "[encoded data removed]",
      "text/plain": [
       "<Figure size 432x288 with 1 Axes>"
      ]
     },
     "metadata": {
      "needs_background": "light"
     },
     "output_type": "display_data"
    }
   ],
   "source": [
    "from matplotlib import pyplot\n",
    "# plot train and validation loss\n",
    "pyplot.plot(history.history['loss'])\n",
    "pyplot.plot(history.history['val_loss'])\n",
    "pyplot.title('model train vs validation loss')\n",
    "pyplot.ylabel('loss')\n",
    "pyplot.xlabel('epoch')\n",
    "pyplot.legend(['train', 'validation'], loc='upper right')\n",
    "pyplot.show() "
   ]
  },
  {
   "cell_type": "code",
   "execution_count": 6,
   "metadata": {},
   "outputs": [
    {
     "name": "stdout",
     "output_type": "stream",
     "text": [
      "INFO:tensorflow:Assets written to: saved_model/model3_50epochs_P20_bit/assets\n"
     ]
    },
    {
     "name": "stderr",
     "output_type": "stream",
     "text": [
      "INFO:tensorflow:Assets written to: saved_model/model3_50epochs_P20_bit/assets\n"
     ]
    }
   ],
   "source": [
    "import tensorflow as tf  \n",
    "# Save fine-tuned model as SavedModel\n",
    "export_module_dir = 'saved_model/model3_50epochs_P20_bit'\n",
    "tf.saved_model.save(model, export_module_dir)"
   ]
  },
  {
   "cell_type": "markdown",
   "metadata": {},
   "source": [
    "### R101x3"
   ]
  },
  {
   "cell_type": "code",
   "execution_count": null,
   "metadata": {},
   "outputs": [
    {
     "name": "stdout",
     "output_type": "stream",
     "text": [
      "WARNING:tensorflow:From /opt/conda/lib/python3.7/site-packages/tensorflow_core/python/ops/resource_variable_ops.py:1781: calling BaseResourceVariable.__init__ (from tensorflow.python.ops.resource_variable_ops) with constraint is deprecated and will be removed in a future version.\n",
      "Instructions for updating:\n",
      "If using Keras pass *_constraint arguments to layers.\n"
     ]
    },
    {
     "name": "stderr",
     "output_type": "stream",
     "text": [
      "WARNING:tensorflow:From /opt/conda/lib/python3.7/site-packages/tensorflow_core/python/ops/resource_variable_ops.py:1781: calling BaseResourceVariable.__init__ (from tensorflow.python.ops.resource_variable_ops) with constraint is deprecated and will be removed in a future version.\n",
      "Instructions for updating:\n",
      "If using Keras pass *_constraint arguments to layers.\n"
     ]
    },
    {
     "name": "stdout",
     "output_type": "stream",
     "text": [
      "Model sucessfuly built\n",
      "callbacks and data okay\n",
      "Train on 10 steps, validate on 4 steps\n",
      "WARNING:tensorflow:From /opt/conda/lib/python3.7/site-packages/keras/callbacks/tensorboard_v1.py:200: The name tf.summary.merge_all is deprecated. Please use tf.compat.v1.summary.merge_all instead.\n",
      "\n"
     ]
    },
    {
     "name": "stderr",
     "output_type": "stream",
     "text": [
      "WARNING:tensorflow:From /opt/conda/lib/python3.7/site-packages/keras/callbacks/tensorboard_v1.py:200: The name tf.summary.merge_all is deprecated. Please use tf.compat.v1.summary.merge_all instead.\n",
      "\n"
     ]
    },
    {
     "name": "stdout",
     "output_type": "stream",
     "text": [
      "WARNING:tensorflow:From /opt/conda/lib/python3.7/site-packages/keras/callbacks/tensorboard_v1.py:203: The name tf.summary.FileWriter is deprecated. Please use tf.compat.v1.summary.FileWriter instead.\n",
      "\n"
     ]
    },
    {
     "name": "stderr",
     "output_type": "stream",
     "text": [
      "WARNING:tensorflow:From /opt/conda/lib/python3.7/site-packages/keras/callbacks/tensorboard_v1.py:203: The name tf.summary.FileWriter is deprecated. Please use tf.compat.v1.summary.FileWriter instead.\n",
      "\n"
     ]
    },
    {
     "name": "stdout",
     "output_type": "stream",
     "text": [
      "WARNING:tensorflow:Issue encountered when serializing variables.\n",
      "Type is unsupported, or the types of the items don't match field type in CollectionDef. Note this is a warning and probably safe to ignore.\n",
      "'list' object has no attribute 'name'\n"
     ]
    },
    {
     "name": "stderr",
     "output_type": "stream",
     "text": [
      "WARNING:tensorflow:Issue encountered when serializing variables.\n",
      "Type is unsupported, or the types of the items don't match field type in CollectionDef. Note this is a warning and probably safe to ignore.\n",
      "'list' object has no attribute 'name'\n"
     ]
    },
    {
     "name": "stdout",
     "output_type": "stream",
     "text": [
      "Epoch 1/100\n",
      " 9/10 [==========================>...] - ETA: 2:02 - loss: 3.3426 - acc: 0.6252WARNING:tensorflow:From /opt/conda/lib/python3.7/site-packages/keras/callbacks/tensorboard_v1.py:343: The name tf.Summary is deprecated. Please use tf.compat.v1.Summary instead.\n",
      "\n"
     ]
    },
    {
     "name": "stderr",
     "output_type": "stream",
     "text": [
      "WARNING:tensorflow:From /opt/conda/lib/python3.7/site-packages/keras/callbacks/tensorboard_v1.py:343: The name tf.Summary is deprecated. Please use tf.compat.v1.Summary instead.\n",
      "\n"
     ]
    },
    {
     "name": "stdout",
     "output_type": "stream",
     "text": [
      "10/10 [==============================] - 1792s 179s/step - loss: 3.3597 - acc: 0.6387 - val_loss: 1.8493 - val_acc: 0.8225\n",
      "Epoch 2/100\n",
      "10/10 [==============================] - 1731s 173s/step - loss: 3.3999 - acc: 0.7879 - val_loss: 1.4968 - val_acc: 0.8251\n",
      "Epoch 3/100\n",
      "10/10 [==============================] - 3881s 388s/step - loss: 2.1117 - acc: 0.7973 - val_loss: 3.3243 - val_acc: 0.6554\n",
      "Epoch 4/100\n",
      "10/10 [==============================] - 3064s 306s/step - loss: 1.7363 - acc: 0.8072 - val_loss: 1.2877 - val_acc: 0.7919\n",
      "Epoch 5/100\n",
      "10/10 [==============================] - 1732s 173s/step - loss: 1.0600 - acc: 0.8318 - val_loss: 1.4337 - val_acc: 0.7347\n",
      "Epoch 6/100\n",
      "10/10 [==============================] - 1717s 172s/step - loss: 0.7142 - acc: 0.8510 - val_loss: 0.7169 - val_acc: 0.7952\n",
      "Epoch 7/100\n",
      "10/10 [==============================] - 1717s 172s/step - loss: 0.5207 - acc: 0.8611 - val_loss: 0.6007 - val_acc: 0.8030\n",
      "Epoch 8/100\n",
      "10/10 [==============================] - 1715s 171s/step - loss: 0.3520 - acc: 0.8891 - val_loss: 0.5290 - val_acc: 0.8004\n",
      "Epoch 9/100\n",
      "10/10 [==============================] - 1716s 172s/step - loss: 0.2413 - acc: 0.9129 - val_loss: 0.4984 - val_acc: 0.8004\n",
      "Epoch 10/100\n",
      "10/10 [==============================] - 1711s 171s/step - loss: 0.2721 - acc: 0.8980 - val_loss: 0.7529 - val_acc: 0.7575\n",
      "Epoch 11/100\n",
      "10/10 [==============================] - 2558s 256s/step - loss: 0.2657 - acc: 0.8990 - val_loss: 0.4995 - val_acc: 0.8004\n",
      "Epoch 12/100\n",
      "10/10 [==============================] - 5298s 530s/step - loss: 0.2050 - acc: 0.9229 - val_loss: 0.5895 - val_acc: 0.7822\n",
      "Epoch 13/100\n",
      "10/10 [==============================] - 1713s 171s/step - loss: 0.1939 - acc: 0.9180 - val_loss: 0.4724 - val_acc: 0.8082\n",
      "Epoch 14/100\n",
      "10/10 [==============================] - 1715s 172s/step - loss: 0.1510 - acc: 0.9400 - val_loss: 0.4708 - val_acc: 0.8010\n",
      "Epoch 15/100\n",
      "10/10 [==============================] - 1716s 172s/step - loss: 0.1496 - acc: 0.9428 - val_loss: 0.5916 - val_acc: 0.7731\n",
      "Epoch 16/100\n",
      "10/10 [==============================] - 1715s 172s/step - loss: 0.1472 - acc: 0.9396 - val_loss: 0.5182 - val_acc: 0.7848\n",
      "Epoch 17/100\n",
      "10/10 [==============================] - 1715s 172s/step - loss: 0.1555 - acc: 0.9320 - val_loss: 0.5089 - val_acc: 0.7945\n",
      "Epoch 18/100\n",
      "10/10 [==============================] - 1726s 173s/step - loss: 0.2908 - acc: 0.8842 - val_loss: 0.6054 - val_acc: 0.7965\n",
      "Epoch 19/100\n",
      "10/10 [==============================] - 1719s 172s/step - loss: 0.1483 - acc: 0.9387 - val_loss: 0.6309 - val_acc: 0.7666\n",
      "Epoch 20/100\n",
      "10/10 [==============================] - 1712s 171s/step - loss: 0.1376 - acc: 0.9451 - val_loss: 0.5123 - val_acc: 0.7958\n",
      "Epoch 21/100\n",
      "10/10 [==============================] - 1848s 185s/step - loss: 0.1874 - acc: 0.9156 - val_loss: 0.5443 - val_acc: 0.7913\n",
      "Epoch 22/100\n",
      "10/10 [==============================] - 1723s 172s/step - loss: 0.1327 - acc: 0.9453 - val_loss: 0.5179 - val_acc: 0.7997\n",
      "Epoch 23/100\n",
      "10/10 [==============================] - 1719s 172s/step - loss: 0.1122 - acc: 0.9547 - val_loss: 0.4945 - val_acc: 0.8101\n",
      "Epoch 24/100\n",
      "10/10 [==============================] - 1716s 172s/step - loss: 0.0932 - acc: 0.9678 - val_loss: 0.4966 - val_acc: 0.8069\n",
      "Epoch 25/100\n",
      "10/10 [==============================] - 1720s 172s/step - loss: 0.0934 - acc: 0.9703 - val_loss: 0.5067 - val_acc: 0.8049\n",
      "Epoch 26/100\n",
      "10/10 [==============================] - 1725s 172s/step - loss: 0.0795 - acc: 0.9777 - val_loss: 0.5086 - val_acc: 0.8043\n",
      "Epoch 27/100\n",
      "10/10 [==============================] - 1723s 172s/step - loss: 0.0851 - acc: 0.9803 - val_loss: 0.5084 - val_acc: 0.8030\n",
      "Epoch 28/100\n",
      "10/10 [==============================] - 1727s 173s/step - loss: 0.0827 - acc: 0.9797 - val_loss: 0.5039 - val_acc: 0.8056\n",
      "Epoch 29/100\n",
      "10/10 [==============================] - 1725s 173s/step - loss: 0.0801 - acc: 0.9803 - val_loss: 0.4991 - val_acc: 0.8043\n",
      "Epoch 30/100\n",
      "10/10 [==============================] - 1727s 173s/step - loss: 0.0769 - acc: 0.9820 - val_loss: 0.5032 - val_acc: 0.8075\n",
      "Epoch 31/100\n",
      "10/10 [==============================] - 1728s 173s/step - loss: 0.0795 - acc: 0.9836 - val_loss: 0.4981 - val_acc: 0.8023\n",
      "Epoch 32/100\n",
      "10/10 [==============================] - 1729s 173s/step - loss: 0.0787 - acc: 0.9824 - val_loss: 0.4975 - val_acc: 0.8017\n",
      "Epoch 33/100\n",
      " 5/10 [==============>...............] - ETA: 9:52 - loss: 0.0808 - acc: 0.9828 "
     ]
    }
   ],
   "source": [
    "%%time\n",
    "history,model = BiT_L_ResNet.train_Bit_L(train,validation,test,model_name=\"r101x3\",epochs=100,patience=20)"
   ]
  },
  {
   "cell_type": "code",
   "execution_count": null,
   "metadata": {},
   "outputs": [],
   "source": [
    "from matplotlib import pyplot\n",
    "# plot train and validation loss\n",
    "pyplot.plot(history.history['loss'])\n",
    "pyplot.plot(history.history['val_loss'])\n",
    "pyplot.title('model train vs validation loss')\n",
    "pyplot.ylabel('loss')\n",
    "pyplot.xlabel('epoch')\n",
    "pyplot.legend(['train', 'validation'], loc='upper right')\n",
    "pyplot.show() "
   ]
  },
  {
   "cell_type": "code",
   "execution_count": null,
   "metadata": {},
   "outputs": [],
   "source": [
    "import tensorflow as tf \n",
    "# Save fine-tuned model as SavedModel\n",
    "export_module_dir = 'saved_model/model4_50epochs_P20_bit'\n",
    "tf.saved_model.save(model, export_module_dir)"
   ]
  },
  {
   "cell_type": "code",
   "execution_count": null,
   "metadata": {},
   "outputs": [],
   "source": []
  }
 ],
 "metadata": {
  "kernelspec": {
   "display_name": "Python 3",
   "language": "python",
   "name": "python3"
  },
  "language_info": {
   "codemirror_mode": {
    "name": "ipython",
    "version": 3
   },
   "file_extension": ".py",
   "mimetype": "text/x-python",
   "name": "python",
   "nbconvert_exporter": "python",
   "pygments_lexer": "ipython3",
   "version": "3.6.10"
  }
 },
 "nbformat": 4,
 "nbformat_minor": 4
}
