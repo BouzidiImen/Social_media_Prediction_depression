{
 "cells": [
  {
   "cell_type": "markdown",
   "metadata": {},
   "source": [
    "## Load Data "
   ]
  },
  {
   "cell_type": "code",
   "execution_count": 1,
   "metadata": {},
   "outputs": [],
   "source": [
    "from data import Images_load"
   ]
  },
  {
   "cell_type": "code",
   "execution_count": 2,
   "metadata": {},
   "outputs": [
    {
     "name": "stdout",
     "output_type": "stream",
     "text": [
      "Data has apparently already been downloaded and unpacked.\n",
      "Data has apparently already been downloaded and unpacked.\n"
     ]
    },
    {
     "name": "stderr",
     "output_type": "stream",
     "text": [
      "100%|██████████| 4006/4006 [00:09<00:00, 442.29it/s]\n",
      "100%|██████████| 4192/4192 [00:10<00:00, 386.32it/s]\n"
     ]
    }
   ],
   "source": [
    "train, validation, test = Images_load.load_data()"
   ]
  },
  {
   "cell_type": "code",
   "execution_count": 3,
   "metadata": {},
   "outputs": [
    {
     "data": {
      "text/plain": [
       "(4611, 224, 224, 3)"
      ]
     },
     "execution_count": 3,
     "metadata": {},
     "output_type": "execute_result"
    }
   ],
   "source": [
    "train.features.shape"
   ]
  },
  {
   "cell_type": "markdown",
   "metadata": {},
   "source": [
    "# ResNet 50 transfer learning: "
   ]
  },
  {
   "cell_type": "code",
   "execution_count": 7,
   "metadata": {},
   "outputs": [],
   "source": [
    "import keras\n",
    "from keras.models import Sequential\n",
    "from keras.layers import Dense, Flatten\n",
    "from keras.applications.resnet50 import ResNet50, decode_predictions, preprocess_input\n"
   ]
  },
  {
   "cell_type": "code",
   "execution_count": 9,
   "metadata": {},
   "outputs": [],
   "source": [
    "def _prepare_data(train, validation, test):\n",
    "    \"\"\"\n",
    "    Prepare datasets of images for CNN\n",
    "    :param train:\n",
    "    :param validation:\n",
    "    :param test:\n",
    "    :return:\n",
    "    \"\"\"\n",
    "    features, y_train = train.features, train.labels\n",
    "    featuresV, y_val = validation.features, validation.labels\n",
    "    featuresT, y_test = test.features, test.labels\n",
    "    x_train = np.stack(features)\n",
    "    x_val = np.stack(featuresV)\n",
    "    x_test = np.stack(featuresT)\n",
    "    x_train = x_train.astype('float32')\n",
    "    x_test = x_test.astype('float32')\n",
    "    x_val = x_val.astype('float32')\n",
    "    x_val /= 255\n",
    "    x_train /= 255\n",
    "    x_test /= 255\n",
    "\n",
    "    return x_train, y_train, x_test, y_test, x_val, y_val"
   ]
  },
  {
   "cell_type": "code",
   "execution_count": 11,
   "metadata": {},
   "outputs": [],
   "source": [
    "import numpy as np\n",
    "x_train, y_train, x_test, y_test, x_val, y_val=_prepare_data(train,validation,test)"
   ]
  },
  {
   "cell_type": "code",
   "execution_count": 12,
   "metadata": {},
   "outputs": [
    {
     "name": "stdout",
     "output_type": "stream",
     "text": [
      "WARNING:tensorflow:From /opt/conda/lib/python3.7/site-packages/tensorflow_core/python/ops/resource_variable_ops.py:1630: calling BaseResourceVariable.__init__ (from tensorflow.python.ops.resource_variable_ops) with constraint is deprecated and will be removed in a future version.\n",
      "Instructions for updating:\n",
      "If using Keras pass *_constraint arguments to layers.\n",
      "WARNING:tensorflow:From /opt/conda/lib/python3.7/site-packages/keras/backend/tensorflow_backend.py:4070: The name tf.nn.max_pool is deprecated. Please use tf.nn.max_pool2d instead.\n",
      "\n",
      "Downloading data from https://github.com/fchollet/deep-learning-models/releases/download/v0.2/resnet50_weights_tf_dim_ordering_tf_kernels.h5\n",
      "102858752/102853048 [==============================] - 9s 0us/step\n"
     ]
    }
   ],
   "source": [
    "# Load ResNet50 Trained on imagenet\n",
    "resnet_model = ResNet50(weights=\"imagenet\")\n"
   ]
  },
  {
   "cell_type": "code",
   "execution_count": 20,
   "metadata": {},
   "outputs": [],
   "source": [
    "# We should preprocess the images the same way resnet images were preprocessed\n",
    "x_train_preprocessed = preprocess_input(x_train)\n",
    "x_test_preprocessed = preprocess_input(x_test)\n",
    "x_val_preprocess = preprocess_input(x_val)"
   ]
  },
  {
   "cell_type": "code",
   "execution_count": 16,
   "metadata": {},
   "outputs": [],
   "source": [
    "# Build a new model that is ResNet50 minus the very last layer\n",
    "last_layer = resnet_model.get_layer(\"avg_pool\")\n",
    "\n",
    "resnet_layers = keras.Model(inputs=resnet_model.inputs, outputs=last_layer.output)"
   ]
  },
  {
   "cell_type": "code",
   "execution_count": 30,
   "metadata": {},
   "outputs": [
    {
     "name": "stdout",
     "output_type": "stream",
     "text": [
      "Model: \"sequential_4\"\n",
      "_________________________________________________________________\n",
      "Layer (type)                 Output Shape              Param #   \n",
      "=================================================================\n",
      "model_2 (Model)              (None, 2048)              23587712  \n",
      "_________________________________________________________________\n",
      "dense_4 (Dense)              (None, 2)                 4098      \n",
      "=================================================================\n",
      "Total params: 23,591,810\n",
      "Trainable params: 4,098\n",
      "Non-trainable params: 23,587,712\n",
      "_________________________________________________________________\n"
     ]
    }
   ],
   "source": [
    "# We can directly stich the models together\n",
    "\n",
    "ResNet_adapt=Sequential()\n",
    "ResNet_adapt.add(resnet_layers)\n",
    "ResNet_adapt.add(Dense(2, activation=\"sigmoid\"))\n",
    "\n",
    "ResNet_adapt.layers[0].trainable=False # we are just going to tune the last layer weight the other weights inside of the resnet model will remain the same \n",
    "\n",
    "ResNet_adapt.compile(loss=\"binary_crossentropy\", optimizer=\"adam\", metrics=[\"accuracy\"])\n",
    "\n",
    "ResNet_adapt.summary()"
   ]
  },
  {
   "cell_type": "code",
   "execution_count": 31,
   "metadata": {},
   "outputs": [],
   "source": [
    "from keras.callbacks import EarlyStopping, ModelCheckpoint\n",
    "from keras.callbacks import TensorBoard\n",
    "my_callbacks = [\n",
    "        EarlyStopping(monitor='val_loss', patience=10, verbose=1, mode='auto', restore_best_weights=True),\n",
    "        ModelCheckpoint(filepath='Resnet_transfer.{epoch:02d}-{val_loss:.2f}.h5',\n",
    "                        monitor='val_accuracy', verbose=1,\n",
    "                        save_best_only=True, mode='max'),\n",
    "        TensorBoard(log_dir=\"logs\", histogram_freq=0, write_graph=True, write_images=True)\n",
    "    ]"
   ]
  },
  {
   "cell_type": "code",
   "execution_count": 32,
   "metadata": {},
   "outputs": [
    {
     "name": "stdout",
     "output_type": "stream",
     "text": [
      "Train on 4611 samples, validate on 1538 samples\n",
      "Epoch 1/50\n",
      "4611/4611 [==============================] - 751s 163ms/step - loss: 0.5920 - accuracy: 0.6852 - val_loss: 1.1036 - val_accuracy: 0.4844\n",
      "\n",
      "Epoch 00001: val_accuracy improved from -inf to 0.48440, saving model to Resnet_transfer.01-1.10.h5\n",
      "Epoch 2/50\n",
      "4611/4611 [==============================] - 733s 159ms/step - loss: 0.5507 - accuracy: 0.7224 - val_loss: 1.1658 - val_accuracy: 0.4844\n",
      "\n",
      "Epoch 00002: val_accuracy did not improve from 0.48440\n",
      "Epoch 3/50\n",
      "4611/4611 [==============================] - 754s 164ms/step - loss: 0.5292 - accuracy: 0.7427 - val_loss: 1.2232 - val_accuracy: 0.4844\n",
      "Restoring model weights from the end of the best epoch\n",
      "\n",
      "Epoch 00003: val_accuracy did not improve from 0.48440\n",
      "Epoch 00003: early stopping\n",
      "CPU times: user 3h 11min 16s, sys: 1h 45min 28s, total: 4h 56min 45s\n",
      "Wall time: 37min 30s\n"
     ]
    }
   ],
   "source": [
    "%%time \n",
    "history=ResNet_adapt.fit(x_train_preprocessed, y_train, epochs=50, validation_data=(x_val_preprocess, y_val), callbacks=my_callbacks)"
   ]
  },
  {
   "cell_type": "code",
   "execution_count": 33,
   "metadata": {},
   "outputs": [
    {
     "data": {
      "image/png": "[encoded data removed]",
      "text/plain": [
       "<Figure size 432x288 with 1 Axes>"
      ]
     },
     "metadata": {
      "needs_background": "light"
     },
     "output_type": "display_data"
    }
   ],
   "source": [
    "from matplotlib import pyplot\n",
    "# plot train and validation loss\n",
    "pyplot.plot(history.history['loss'])\n",
    "pyplot.plot(history.history['val_loss'])\n",
    "pyplot.title('model train vs validation loss')\n",
    "pyplot.ylabel('loss')\n",
    "pyplot.xlabel('epoch')\n",
    "pyplot.legend(['train', 'validation'], loc='upper right')\n",
    "pyplot.show() # overfittinnng gued rassi "
   ]
  },
  {
   "cell_type": "code",
   "execution_count": 36,
   "metadata": {},
   "outputs": [],
   "source": [
    "from sklearn.metrics import classification_report, confusion_matrix"
   ]
  },
  {
   "cell_type": "code",
   "execution_count": 39,
   "metadata": {},
   "outputs": [
    {
     "name": "stdout",
     "output_type": "stream",
     "text": [
      "Train accuracy: 0.4903491735458374\n"
     ]
    }
   ],
   "source": [
    "score = ResNet_adapt.evaluate(x_train_preprocessed, y_train, verbose=2)\n",
    "print('Train accuracy:', score[ 1 ])\n",
    "    "
   ]
  }
 ],
 "metadata": {
  "kernelspec": {
   "display_name": "Python 3",
   "language": "python",
   "name": "python3"
  },
  "language_info": {
   "codemirror_mode": {
    "name": "ipython",
    "version": 3
   },
   "file_extension": ".py",
   "mimetype": "text/x-python",
   "name": "python",
   "nbconvert_exporter": "python",
   "pygments_lexer": "ipython3",
   "version": "3.6.10"
  }
 },
 "nbformat": 4,
 "nbformat_minor": 4
}
