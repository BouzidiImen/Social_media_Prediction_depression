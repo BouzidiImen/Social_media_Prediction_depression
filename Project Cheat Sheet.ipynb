{
 "cells": [
  {
   "cell_type": "markdown",
   "metadata": {},
   "source": [
    " Miniconda: minimalist package, dependency and environment management for any language\n",
    "* Downloading Linux version from <a href=\"https://docs.conda.io/en/latest/miniconda.html\"> Here </a>\n",
    "* Open command line in the download directory and run: <pre>bash file_name.sh</pre>\n",
    "* Create an environment for the project named <b><i>pfe2020</i></b> by typing : <pre>conda create -n pfe2020 python=3.6</pre>\n",
    "* Type <pre>conda activate pfe2020 </pre> to activate the environment and <pre>conda deactivate</pre> to quit the environment\n",
    "* For more portability you create an already existing environment by <pre>conda env create -f environment.yml</pre> (You can export your personal environment by <pre>conda env export > pfe2020.yml</pre>)"
   ]
  },
  {
   "cell_type": "markdown",
   "metadata": {},
   "source": [
    " Distributed version control\n",
    "* Working On Gitlab private repository named \"pfe2020\" in which we define tasks, issues, milestones and track project \n",
    "* Installing and Configuration of Git:\n",
    "    * On debian based distros: <pre>sudo apt-get install git</pre>\n",
    "    * Create an online Gitlab acount\n",
    "    * Generate an ssh key: <pre>ssh-keygen -t rsa -b 4096 -C \"email@example.com\"</pre>\n",
    "    * Copy the generated key: <pre>cat ~/.ssh/id_rsa.pub | clip</pre>  (If clip is not installed use <pre>sudo apt install geomview</pre>)\n",
    "    * Add your public SSH key to your GitLab account by:\n",
    "\n",
    "        * Clicking your avatar in the upper right corner and selecting Settings.\n",
    "        * Navigating to SSH Keys and pasting your public key from the clipboard into the Key field. If you:\n",
    "            * Created the key with a comment, this will appear in the Title field.\n",
    "            * Created the key without a comment, give your key an identifiable title like Work Laptop or Home Workstation.\n",
    "        * Click the Add key button.\n",
    "    * To test whether your SSH key was added correctly, run the following command in your terminal (replacing gitlab.com with your GitLab’s instance domain): <pre>ssh -T git@gitlab.com</pre>\n",
    "    * Configure Email adress: <pre>git config --global user.email \"you@example.com\"</pre>\n",
    "* Clone a repository\n",
    "    * <pre>git clone project_gitlab_link.git</pre>\n",
    "* ## Useful git commands\n",
    "    * <pre>git add</pre>\n",
    "    * <pre>git commit</pre>\n",
    "    * <pre>git push</pre>\n",
    "    * <pre>git status</pre>\n",
    "    * <pre>git log</pre>\n",
    "    * <pre>git checkout </pre>"
   ]
  },
  {
   "cell_type": "markdown",
   "metadata": {},
   "source": [
    "\n"
   ]
  },
  {
   "cell_type": "markdown",
   "metadata": {},
   "source": [
    "# <center>Retrieving data using data loaders</center>"
   ]
  },
  {
   "cell_type": "markdown",
   "metadata": {},
   "source": [
    "### Article Data:"
   ]
  },
  {
   "cell_type": "code",
   "execution_count": 1,
   "metadata": {},
   "outputs": [],
   "source": [
    "from data import c3d"
   ]
  },
  {
   "cell_type": "code",
   "execution_count": 2,
   "metadata": {},
   "outputs": [
    {
     "name": "stderr",
     "output_type": "stream",
     "text": [
      "  0%|          | 0/5384 [00:00<?, ?it/s]"
     ]
    },
    {
     "name": "stdout",
     "output_type": "stream",
     "text": [
      "Data has apparently already been downloaded and unpacked.\n"
     ]
    },
    {
     "name": "stderr",
     "output_type": "stream",
     "text": [
      "100%|██████████| 5384/5384 [00:02<00:00, 2044.23it/s]\n",
      "100%|██████████| 6493/6493 [00:02<00:00, 2207.36it/s]\n"
     ]
    }
   ],
   "source": [
    "train, validation, test = c3d.load_data()"
   ]
  },
  {
   "cell_type": "code",
   "execution_count": 4,
   "metadata": {},
   "outputs": [],
   "source": [
    "train_tweets, train_labels = train.features, train.labels"
   ]
  },
  {
   "cell_type": "code",
   "execution_count": 6,
   "metadata": {},
   "outputs": [
    {
     "data": {
      "text/plain": [
       "(\"Our strength lies in our vulnerability; there's nothing wrong with that https://t.co/atiPL9ltaK \\n\\nBefore I was diagnosed with depression b…\",\n",
       " 'positive')"
      ]
     },
     "execution_count": 6,
     "metadata": {},
     "output_type": "execute_result"
    }
   ],
   "source": [
    "train_tweets[20],train_labels[20]"
   ]
  },
  {
   "cell_type": "code",
   "execution_count": 11,
   "metadata": {},
   "outputs": [
    {
     "name": "stdout",
     "output_type": "stream",
     "text": [
      "6680 training samples\n",
      "2227 validation samples\n",
      "2970 testing samples\n"
     ]
    }
   ],
   "source": [
    "print(f\"{train.num_examples} training samples\")\n",
    "print(f\"{validation.num_examples} validation samples\")\n",
    "print(f\"{test.num_examples} testing samples\")"
   ]
  },
  {
   "cell_type": "markdown",
   "metadata": {},
   "source": [
    "### Twitter Crawled Data "
   ]
  },
  {
   "cell_type": "code",
   "execution_count": 1,
   "metadata": {},
   "outputs": [],
   "source": [
    "from data import TwitterP"
   ]
  },
  {
   "cell_type": "code",
   "execution_count": 2,
   "metadata": {},
   "outputs": [
    {
     "name": "stdout",
     "output_type": "stream",
     "text": [
      "Data has apparently already been downloaded and unpacked.\n"
     ]
    }
   ],
   "source": [
    "trainT, validationT, testT = TwitterP.load_data()"
   ]
  },
  {
   "cell_type": "code",
   "execution_count": 4,
   "metadata": {},
   "outputs": [
    {
     "name": "stdout",
     "output_type": "stream",
     "text": [
      "3071 training samples\n",
      "1024 validation samples\n",
      "1365 testing samples\n"
     ]
    }
   ],
   "source": [
    "print(f\"{len(trainT)} training samples\")\n",
    "print(f\"{len(validationT)} validation samples\")\n",
    "print(f\"{len(testT)} testing samples\")"
   ]
  },
  {
   "cell_type": "code",
   "execution_count": 5,
   "metadata": {},
   "outputs": [
    {
     "data": {
      "text/html": [
       "<div>\n",
       "<style scoped>\n",
       "    .dataframe tbody tr th:only-of-type {\n",
       "        vertical-align: middle;\n",
       "    }\n",
       "\n",
       "    .dataframe tbody tr th {\n",
       "        vertical-align: top;\n",
       "    }\n",
       "\n",
       "    .dataframe thead th {\n",
       "        text-align: right;\n",
       "    }\n",
       "</style>\n",
       "<table border=\"1\" class=\"dataframe\">\n",
       "  <thead>\n",
       "    <tr style=\"text-align: right;\">\n",
       "      <th></th>\n",
       "      <th>Unnamed: 0</th>\n",
       "      <th>name</th>\n",
       "      <th>username</th>\n",
       "      <th>bio</th>\n",
       "      <th>location</th>\n",
       "      <th>url</th>\n",
       "      <th>join_date</th>\n",
       "      <th>join_time</th>\n",
       "      <th>tweets</th>\n",
       "      <th>following</th>\n",
       "      <th>followers</th>\n",
       "      <th>likes</th>\n",
       "      <th>media</th>\n",
       "      <th>private</th>\n",
       "      <th>verified</th>\n",
       "      <th>profile_image_url</th>\n",
       "      <th>background_image</th>\n",
       "      <th>Positive</th>\n",
       "      <th>Negative</th>\n",
       "    </tr>\n",
       "  </thead>\n",
       "  <tbody>\n",
       "    <tr>\n",
       "      <th>0</th>\n",
       "      <td>0</td>\n",
       "      <td>Daphee</td>\n",
       "      <td>DapheeMusic</td>\n",
       "      <td>SINGER, SONGWRITER, MUSICIAN, ARTIST</td>\n",
       "      <td>USA</td>\n",
       "      <td>http://Daphee.com</td>\n",
       "      <td>28 Jun 2013</td>\n",
       "      <td>6:24 PM</td>\n",
       "      <td>1731</td>\n",
       "      <td>29</td>\n",
       "      <td>292</td>\n",
       "      <td>154.0</td>\n",
       "      <td>360</td>\n",
       "      <td>0</td>\n",
       "      <td>0</td>\n",
       "      <td>https://pbs.twimg.com/profile_images/117084452...</td>\n",
       "      <td>https://pbs.twimg.com/profile_banners/15544414...</td>\n",
       "      <td>0</td>\n",
       "      <td>1</td>\n",
       "    </tr>\n",
       "    <tr>\n",
       "      <th>1</th>\n",
       "      <td>1</td>\n",
       "      <td>LissyRaine - commissions open -</td>\n",
       "      <td>Lillytuft</td>\n",
       "      <td>Artist. Streamer She/her/they/them Stores: htt...</td>\n",
       "      <td>Hampshire</td>\n",
       "      <td>http://www.lissyraine.com</td>\n",
       "      <td>18 May 2014</td>\n",
       "      <td>1:43 PM</td>\n",
       "      <td>13921</td>\n",
       "      <td>1125</td>\n",
       "      <td>3185</td>\n",
       "      <td>55353.0</td>\n",
       "      <td>1340</td>\n",
       "      <td>0</td>\n",
       "      <td>0</td>\n",
       "      <td>https://pbs.twimg.com/profile_images/108455247...</td>\n",
       "      <td>https://pbs.twimg.com/profile_banners/25054785...</td>\n",
       "      <td>1</td>\n",
       "      <td>0</td>\n",
       "    </tr>\n",
       "    <tr>\n",
       "      <th>2</th>\n",
       "      <td>2</td>\n",
       "      <td>jess</td>\n",
       "      <td>seohamsandwich</td>\n",
       "      <td>living off ongniel crumbs</td>\n",
       "      <td>yongie land</td>\n",
       "      <td>http://jesssss.carrd.co</td>\n",
       "      <td>26 May 2018</td>\n",
       "      <td>3:21 PM</td>\n",
       "      <td>15246</td>\n",
       "      <td>925</td>\n",
       "      <td>918</td>\n",
       "      <td>34815.0</td>\n",
       "      <td>1205</td>\n",
       "      <td>0</td>\n",
       "      <td>0</td>\n",
       "      <td>https://pbs.twimg.com/profile_images/123776393...</td>\n",
       "      <td>https://pbs.twimg.com/profile_banners/10005022...</td>\n",
       "      <td>1</td>\n",
       "      <td>0</td>\n",
       "    </tr>\n",
       "    <tr>\n",
       "      <th>3</th>\n",
       "      <td>3</td>\n",
       "      <td>Lyry @ The Sangyus and the Alumarias</td>\n",
       "      <td>Patallyry</td>\n",
       "      <td>🇪🇸🇨🇭 - ♠ AroAce//20+//Shitpost//🔞NSFW ON MAIN ...</td>\n",
       "      <td>PP: @summersintahoe</td>\n",
       "      <td>NaN</td>\n",
       "      <td>1 Apr 2014</td>\n",
       "      <td>6:44 AM</td>\n",
       "      <td>132404</td>\n",
       "      <td>1049</td>\n",
       "      <td>838</td>\n",
       "      <td>89074.0</td>\n",
       "      <td>7598</td>\n",
       "      <td>0</td>\n",
       "      <td>0</td>\n",
       "      <td>https://pbs.twimg.com/profile_images/122523416...</td>\n",
       "      <td>https://pbs.twimg.com/profile_banners/24221290...</td>\n",
       "      <td>1</td>\n",
       "      <td>0</td>\n",
       "    </tr>\n",
       "    <tr>\n",
       "      <th>4</th>\n",
       "      <td>4</td>\n",
       "      <td>The Fairy GoddessMother</td>\n",
       "      <td>TGoddessmother</td>\n",
       "      <td>Eleven years as a Stay-At-Home Mom. Sixteen ye...</td>\n",
       "      <td>NaN</td>\n",
       "      <td>http://takitathefairygodmother.com</td>\n",
       "      <td>14 Jul 2019</td>\n",
       "      <td>12:31 PM</td>\n",
       "      <td>72</td>\n",
       "      <td>33</td>\n",
       "      <td>15</td>\n",
       "      <td>41.0</td>\n",
       "      <td>4</td>\n",
       "      <td>0</td>\n",
       "      <td>0</td>\n",
       "      <td>https://pbs.twimg.com/profile_images/115048817...</td>\n",
       "      <td>NaN</td>\n",
       "      <td>0</td>\n",
       "      <td>1</td>\n",
       "    </tr>\n",
       "  </tbody>\n",
       "</table>\n",
       "</div>"
      ],
      "text/plain": [
       "   Unnamed: 0                                  name        username  \\\n",
       "0           0                                Daphee     DapheeMusic   \n",
       "1           1       LissyRaine - commissions open -       Lillytuft   \n",
       "2           2                                  jess  seohamsandwich   \n",
       "3           3  Lyry @ The Sangyus and the Alumarias       Patallyry   \n",
       "4           4               The Fairy GoddessMother  TGoddessmother   \n",
       "\n",
       "                                                 bio             location  \\\n",
       "0               SINGER, SONGWRITER, MUSICIAN, ARTIST                  USA   \n",
       "1  Artist. Streamer She/her/they/them Stores: htt...            Hampshire   \n",
       "2                          living off ongniel crumbs          yongie land   \n",
       "3  🇪🇸🇨🇭 - ♠ AroAce//20+//Shitpost//🔞NSFW ON MAIN ...  PP: @summersintahoe   \n",
       "4  Eleven years as a Stay-At-Home Mom. Sixteen ye...                  NaN   \n",
       "\n",
       "                                  url    join_date join_time  tweets  \\\n",
       "0                   http://Daphee.com  28 Jun 2013   6:24 PM    1731   \n",
       "1           http://www.lissyraine.com  18 May 2014   1:43 PM   13921   \n",
       "2             http://jesssss.carrd.co  26 May 2018   3:21 PM   15246   \n",
       "3                                 NaN   1 Apr 2014   6:44 AM  132404   \n",
       "4  http://takitathefairygodmother.com  14 Jul 2019  12:31 PM      72   \n",
       "\n",
       "  following followers    likes media private  verified  \\\n",
       "0        29       292    154.0   360       0         0   \n",
       "1      1125      3185  55353.0  1340       0         0   \n",
       "2       925       918  34815.0  1205       0         0   \n",
       "3      1049       838  89074.0  7598       0         0   \n",
       "4        33        15     41.0     4       0         0   \n",
       "\n",
       "                                   profile_image_url  \\\n",
       "0  https://pbs.twimg.com/profile_images/117084452...   \n",
       "1  https://pbs.twimg.com/profile_images/108455247...   \n",
       "2  https://pbs.twimg.com/profile_images/123776393...   \n",
       "3  https://pbs.twimg.com/profile_images/122523416...   \n",
       "4  https://pbs.twimg.com/profile_images/115048817...   \n",
       "\n",
       "                                    background_image  Positive  Negative  \n",
       "0  https://pbs.twimg.com/profile_banners/15544414...         0         1  \n",
       "1  https://pbs.twimg.com/profile_banners/25054785...         1         0  \n",
       "2  https://pbs.twimg.com/profile_banners/10005022...         1         0  \n",
       "3  https://pbs.twimg.com/profile_banners/24221290...         1         0  \n",
       "4                                                NaN         0         1  "
      ]
     },
     "execution_count": 5,
     "metadata": {},
     "output_type": "execute_result"
    }
   ],
   "source": [
    "trainT.head()"
   ]
  },
  {
   "cell_type": "code",
   "execution_count": 50,
   "metadata": {},
   "outputs": [],
   "source": [
    "timeline = TwitterP.get_username_profile(trainT['username'].iloc[3])"
   ]
  },
  {
   "cell_type": "code",
   "execution_count": 53,
   "metadata": {},
   "outputs": [
    {
     "data": {
      "text/plain": [
       "0     moi quand c'est comme ça je rallume ma gamecub...\n",
       "1     imagine t'as le corona et t'infectes les gens ...\n",
       "2                  manually, like i do. the good ol'way\n",
       "3     Made a meme for the community pic.twitter.com/...\n",
       "4     on days when I have classes online it's nearly...\n",
       "                            ...                        \n",
       "95    half empty pages meant to read comfortably on ...\n",
       "96    Maybe I need to draw on a huge canvas and have...\n",
       "97    while some problems may come from lack of expe...\n",
       "98    Okay, I chose an A4 format, and even though yo...\n",
       "99    I've had CSP for a while now, and though I use...\n",
       "Name: tweet, Length: 100, dtype: object"
      ]
     },
     "execution_count": 53,
     "metadata": {},
     "output_type": "execute_result"
    }
   ],
   "source": [
    "timeline.tweet"
   ]
  },
  {
   "cell_type": "markdown",
   "metadata": {},
   "source": [
    "# <center> Install requierments </center>"
   ]
  },
  
  {
   "cell_type": "markdown",
   "metadata": {},
   "source": [
    "### Images Loader"
   ]
  },
  {
   "cell_type": "code",
   "execution_count": 3,
   "metadata": {},
   "outputs": [],
   "source": [
    "from data import Images_load"
   ]
  },
  {
   "cell_type": "code",
   "execution_count": 4,
   "metadata": {},
   "outputs": [
    {
     "name": "stdout",
     "output_type": "stream",
     "text": [
      "Data has apparently already been downloaded and unpacked.\n"
     ]
    },
    {
     "name": "stderr",
     "output_type": "stream",
     "text": [
      "  0%|          | 0/4006 [00:00<?, ?it/s]"
     ]
    },
    {
     "name": "stdout",
     "output_type": "stream",
     "text": [
      "Data has apparently already been downloaded and unpacked.\n"
     ]
    },
    {
     "name": "stderr",
     "output_type": "stream",
     "text": [
      "100%|██████████| 4006/4006 [00:07<00:00, 508.52it/s]\n",
      "100%|██████████| 4192/4192 [00:08<00:00, 473.66it/s]"
     ]
    },
    {
     "name": "stdout",
     "output_type": "stream",
     "text": [
      "CPU times: user 15.6 s, sys: 1.1 s, total: 16.7 s\n",
      "Wall time: 20.6 s\n"
     ]
    },
    {
     "name": "stderr",
     "output_type": "stream",
     "text": [
      "\n"
     ]
    }
   ],
   "source": [
    "%%time\n",
    "trainI, validationI, testI = Images_load.load_data()"
   ]
  },
  {
   "cell_type": "code",
   "execution_count": 5,
   "metadata": {},
   "outputs": [],
   "source": [
    "train_images_features, train_images_labels = trainI.features, trainI.labels"
   ]
  },
  {
   "cell_type": "code",
   "execution_count": 6,
   "metadata": {},
   "outputs": [
    {
     "name": "stdout",
     "output_type": "stream",
     "text": [
      "4611 training samples\n",
      "1538 validation samples\n",
      "2050 testing samples\n"
     ]
    }
   ],
   "source": [
    "print(f\"{trainI.num_examples} training samples\")\n",
    "print(f\"{validationI.num_examples} validation samples\")\n",
    "print(f\"{testI.num_examples} testing samples\")"
   ]
  },
  {
   "cell_type": "code",
   "execution_count": 7,
   "metadata": {},
   "outputs": [
    {
     "data": {
      "text/plain": [
       "(array([[[ 62,  63,  49],\n",
       "         [ 43,  43,  43],\n",
       "         [ 59,  59,  49],\n",
       "         ...,\n",
       "         [105, 101,  73],\n",
       "         [ 87,  83,  59],\n",
       "         [ 60,  58,  58]],\n",
       " \n",
       "        [[ 43,  43,  43],\n",
       "         [ 62,  63,  52],\n",
       "         [ 61,  61,  51],\n",
       "         ...,\n",
       "         [ 95,  94,  66],\n",
       "         [ 95,  93,  70],\n",
       "         [ 71,  71,  69]],\n",
       " \n",
       "        [[ 53,  53,  43],\n",
       "         [ 64,  65,  51],\n",
       "         [ 64,  65,  51],\n",
       "         ...,\n",
       "         [ 94,  92,  63],\n",
       "         [ 81,  80,  57],\n",
       "         [ 43,  43,  43]],\n",
       " \n",
       "        ...,\n",
       " \n",
       "        [[167, 199, 222],\n",
       "         [ 37,  42,  40],\n",
       "         [ 46,  57, 119],\n",
       "         ...,\n",
       "         [149, 167, 175],\n",
       "         [169, 195, 178],\n",
       "         [168, 195, 177]],\n",
       " \n",
       "        [[ 44,  55,  53],\n",
       "         [167, 199, 222],\n",
       "         [167, 200, 217],\n",
       "         ...,\n",
       "         [168, 191, 175],\n",
       "         [168, 193, 174],\n",
       "         [166, 190, 174]],\n",
       " \n",
       "        [[163, 195, 216],\n",
       "         [171, 204, 221],\n",
       "         [171, 204, 221],\n",
       "         ...,\n",
       "         [168, 185, 169],\n",
       "         [166, 184, 168],\n",
       "         [163, 186, 168]]], dtype=uint8),\n",
       " array([1, 0]))"
      ]
     },
     "execution_count": 7,
     "metadata": {},
     "output_type": "execute_result"
    }
   ],
   "source": [
    "train_images_features[1], train_images_labels[1]"
   ]
  },
  {
   "cell_type": "code",
   "execution_count": 8,
   "metadata": {},
   "outputs": [],
   "source": [
    "from PIL import Image\n",
    "import numpy as np\n",
    "from matplotlib.pyplot import imshow\n",
    "\n",
    "%matplotlib inline"
   ]
  },
  {
   "cell_type": "code",
   "execution_count": 9,
   "metadata": {},
   "outputs": [
    {
     "data": {
      "text/plain": [
       "<matplotlib.image.AxesImage at 0x7f77a74df358>"
      ]
     },
     "execution_count": 9,
     "metadata": {},
     "output_type": "execute_result"
    },
    {
     "data": {
      "image/png": "[encoded data removed]",
      "text/plain": [
       "<Figure size 432x288 with 1 Axes>"
      ]
     },
     "metadata": {
      "needs_background": "light"
     },
     "output_type": "display_data"
    }
   ],
   "source": [
    "img = Image.fromarray(train_images_features[0], 'RGB')\n",
    "imshow(img)"
   ]
  },
  {
   "cell_type": "code",
   "execution_count": 10,
   "metadata": {},
   "outputs": [
    {
     "data": {
      "text/plain": [
       "array([0, 1])"
      ]
     },
     "execution_count": 10,
     "metadata": {},
     "output_type": "execute_result"
    }
   ],
   "source": [
    "train_images_labels[0] #Happy"
   ]
  },
  {
   "cell_type": "code",
   "execution_count": 11,
   "metadata": {},
   "outputs": [
    {
     "data": {
      "text/plain": [
       "(224, 224, 3)"
      ]
     },
     "execution_count": 11,
     "metadata": {},
     "output_type": "execute_result"
    }
   ],
   "source": [
    "train_images_features[1090].shape #RGB"
   ]
  },
  {
   "cell_type": "code",
   "execution_count": 12,
   "metadata": {},
   "outputs": [],
   "source": [
    "import numpy as np\n",
    "X_train = np.stack(train_images_features)"
   ]
  },
  {
   "cell_type": "code",
   "execution_count": 13,
   "metadata": {},
   "outputs": [
    {
     "name": "stdout",
     "output_type": "stream",
     "text": [
      "(4611, 224, 224, 3)\n"
     ]
    }
   ],
   "source": [
    "print(X_train.shape)"
   ]
  },
  {
   "cell_type": "markdown",
   "metadata": {},
   "source": [
    "### Execute <pre>pip install -r Requirements.txt</pre>"
   ]
  }
 ],
 "metadata": {
  "kernelspec": {
   "display_name": "Python 3",
   "language": "python",
   "name": "python3"
  },
  "language_info": {
   "codemirror_mode": {
    "name": "ipython",
    "version": 3
   },
   "file_extension": ".py",
   "mimetype": "text/x-python",
   "name": "python",
   "nbconvert_exporter": "python",
   "pygments_lexer": "ipython3",
   "version": "3.6.10"
  }
 },
 "nbformat": 4,
 "nbformat_minor": 4
}
