{
 "cells": [
  {
   "cell_type": "markdown",
   "metadata": {},
   "source": [
    "# <a href='https://towardsdatascience.com/an-overview-of-resnet-and-its-variants-5281e2f56035'>ResNet</a>\n"
   ]
  },
  {
   "cell_type": "markdown",
   "metadata": {},
   "source": [
    "## Load Images"
   ]
  },
  {
   "cell_type": "code",
   "execution_count": 1,
   "metadata": {},
   "outputs": [],
   "source": [
    "from data import Images_load"
   ]
  },
  {
   "cell_type": "code",
   "execution_count": 2,
   "metadata": {},
   "outputs": [
    {
     "name": "stdout",
     "output_type": "stream",
     "text": [
      "Data has apparently already been downloaded and unpacked.\n"
     ]
    },
    {
     "name": "stderr",
     "output_type": "stream",
     "text": [
      "  2%|▏         | 62/4006 [00:00<00:06, 611.82it/s]"
     ]
    },
    {
     "name": "stdout",
     "output_type": "stream",
     "text": [
      "Data has apparently already been downloaded and unpacked.\n"
     ]
    },
    {
     "name": "stderr",
     "output_type": "stream",
     "text": [
      "100%|██████████| 4006/4006 [00:07<00:00, 564.95it/s]\n",
      "100%|██████████| 4192/4192 [00:07<00:00, 575.22it/s]\n"
     ]
    }
   ],
   "source": [
    "train, validation, test = Images_load.load_data()"
   ]
  },
  {
   "cell_type": "code",
   "execution_count": 3,
   "metadata": {},
   "outputs": [
    {
     "name": "stderr",
     "output_type": "stream",
     "text": [
      "Using TensorFlow backend.\n"
     ]
    }
   ],
   "source": [
    "from models.Image_classifier import Resnet50"
   ]
  },
  {
   "cell_type": "markdown",
   "metadata": {},
   "source": [
    "### Experiment 1"
   ]
  },
  {
   "cell_type": "code",
   "execution_count": 7,
   "metadata": {},
   "outputs": [
    {
     "name": "stdout",
     "output_type": "stream",
     "text": [
      "Train on 4611 samples, validate on 1538 samples\n",
      "Epoch 1/10\n",
      " - 1510s - loss: 1.3411 - accuracy: 0.6141 - val_loss: 0.7431 - val_accuracy: 0.5169\n",
      "\n",
      "Epoch 00001: val_accuracy improved from -inf to 0.51691, saving model to ResNet50.01-0.74.h5\n",
      "WARNING:tensorflow:From /opt/conda/lib/python3.7/site-packages/keras/callbacks/tensorboard_v1.py:343: The name tf.Summary is deprecated. Please use tf.compat.v1.Summary instead.\n",
      "\n",
      "Epoch 2/10\n",
      " - 1444s - loss: 0.8681 - accuracy: 0.6506 - val_loss: 7.0479 - val_accuracy: 0.5953\n",
      "\n",
      "Epoch 00002: val_accuracy improved from 0.51691 to 0.59525, saving model to ResNet50.02-7.05.h5\n",
      "Epoch 3/10\n",
      " - 1454s - loss: 0.8189 - accuracy: 0.6302 - val_loss: 0.6574 - val_accuracy: 0.5927\n",
      "\n",
      "Epoch 00003: val_accuracy did not improve from 0.59525\n",
      "Epoch 4/10\n",
      " - 1447s - loss: 0.7420 - accuracy: 0.6728 - val_loss: 1.0174 - val_accuracy: 0.6141\n",
      "\n",
      "Epoch 00004: val_accuracy improved from 0.59525 to 0.61411, saving model to ResNet50.04-1.02.h5\n",
      "Epoch 5/10\n",
      " - 1447s - loss: 0.6664 - accuracy: 0.6914 - val_loss: 0.6506 - val_accuracy: 0.6336\n",
      "\n",
      "Epoch 00005: val_accuracy improved from 0.61411 to 0.63362, saving model to ResNet50.05-0.65.h5\n",
      "Epoch 6/10\n",
      " - 1441s - loss: 0.6025 - accuracy: 0.7047 - val_loss: 0.6013 - val_accuracy: 0.6873\n",
      "\n",
      "Epoch 00006: val_accuracy improved from 0.63362 to 0.68726, saving model to ResNet50.06-0.60.h5\n",
      "Epoch 7/10\n",
      " - 1446s - loss: 0.6075 - accuracy: 0.7092 - val_loss: 0.6523 - val_accuracy: 0.6187\n",
      "\n",
      "Epoch 00007: val_accuracy did not improve from 0.68726\n",
      "Epoch 8/10\n",
      " - 1447s - loss: 0.6020 - accuracy: 0.7141 - val_loss: 0.7746 - val_accuracy: 0.5078\n",
      "Restoring model weights from the end of the best epoch\n",
      "\n",
      "Epoch 00008: val_accuracy did not improve from 0.68726\n",
      "Epoch 00008: early stopping\n",
      "Train accuracy: 0.6975710391998291\n",
      "Test accuracy: 0.6907317042350769\n",
      "CPU times: user 20h 10min 4s, sys: 7h 43min 59s, total: 1d 3h 54min 3s\n",
      "Wall time: 3h 32min 54s\n"
     ]
    }
   ],
   "source": [
    "%%time \n",
    "CM, CR = Resnet50.run_resnet50(train, validation, test)"
   ]
  },
  {
   "cell_type": "code",
   "execution_count": 8,
   "metadata": {},
   "outputs": [
    {
     "name": "stdout",
     "output_type": "stream",
     "text": [
      "Confusion Matrix\n",
      "[[635 366]\n",
      " [268 781]]\n",
      "Classification Report\n",
      "               precision    recall  f1-score   support\n",
      "\n",
      "    Depressed       0.70      0.63      0.67      1001\n",
      "Not depressed       0.68      0.74      0.71      1049\n",
      "\n",
      "     accuracy                           0.69      2050\n",
      "    macro avg       0.69      0.69      0.69      2050\n",
      " weighted avg       0.69      0.69      0.69      2050\n",
      "\n"
     ]
    }
   ],
   "source": [
    "print('Confusion Matrix')\n",
    "print(CM)\n",
    "print('Classification Report')\n",
    "print(CR)"
   ]
  },
  {
   "cell_type": "markdown",
   "metadata": {},
   "source": [
    "### Experiment 2"
   ]
  },
  {
   "cell_type": "code",
   "execution_count": 4,
   "metadata": {},
   "outputs": [
    {
     "name": "stdout",
     "output_type": "stream",
     "text": [
      "WARNING:tensorflow:From /opt/conda/lib/python3.7/site-packages/tensorflow_core/python/ops/resource_variable_ops.py:1630: calling BaseResourceVariable.__init__ (from tensorflow.python.ops.resource_variable_ops) with constraint is deprecated and will be removed in a future version.\n",
      "Instructions for updating:\n",
      "If using Keras pass *_constraint arguments to layers.\n",
      "WARNING:tensorflow:From /opt/conda/lib/python3.7/site-packages/keras/backend/tensorflow_backend.py:4070: The name tf.nn.max_pool is deprecated. Please use tf.nn.max_pool2d instead.\n",
      "\n",
      "WARNING:tensorflow:From /opt/conda/lib/python3.7/site-packages/keras/backend/tensorflow_backend.py:4074: The name tf.nn.avg_pool is deprecated. Please use tf.nn.avg_pool2d instead.\n",
      "\n",
      "WARNING:tensorflow:From /opt/conda/lib/python3.7/site-packages/tensorflow_core/python/ops/nn_impl.py:183: where (from tensorflow.python.ops.array_ops) is deprecated and will be removed in a future version.\n",
      "Instructions for updating:\n",
      "Use tf.where in 2.0, which has the same broadcast rule as np.where\n",
      "WARNING:tensorflow:From /opt/conda/lib/python3.7/site-packages/keras/backend/tensorflow_backend.py:422: The name tf.global_variables is deprecated. Please use tf.compat.v1.global_variables instead.\n",
      "\n",
      "Train on 4611 samples, validate on 1538 samples\n",
      "WARNING:tensorflow:From /opt/conda/lib/python3.7/site-packages/keras/callbacks/tensorboard_v1.py:200: The name tf.summary.merge_all is deprecated. Please use tf.compat.v1.summary.merge_all instead.\n",
      "\n",
      "WARNING:tensorflow:From /opt/conda/lib/python3.7/site-packages/keras/callbacks/tensorboard_v1.py:203: The name tf.summary.FileWriter is deprecated. Please use tf.compat.v1.summary.FileWriter instead.\n",
      "\n",
      "Epoch 1/10\n",
      " - 1558s - loss: 0.8704 - accuracy: 0.5835 - val_loss: 0.7313 - val_accuracy: 0.4844\n",
      "\n",
      "Epoch 00001: val_accuracy improved from -inf to 0.48440, saving model to ResNet50.01-0.73.h5\n",
      "WARNING:tensorflow:From /opt/conda/lib/python3.7/site-packages/keras/callbacks/tensorboard_v1.py:343: The name tf.Summary is deprecated. Please use tf.compat.v1.Summary instead.\n",
      "\n",
      "Epoch 2/10\n",
      " - 1432s - loss: 0.6630 - accuracy: 0.6712 - val_loss: 0.7963 - val_accuracy: 0.4844\n",
      "\n",
      "Epoch 00002: val_accuracy did not improve from 0.48440\n",
      "Epoch 3/10\n",
      " - 1447s - loss: 0.5620 - accuracy: 0.7259 - val_loss: 0.7604 - val_accuracy: 0.4844\n",
      "Restoring model weights from the end of the best epoch\n",
      "\n",
      "Epoch 00003: val_accuracy did not improve from 0.48440\n",
      "Epoch 00003: early stopping\n",
      "Train accuracy: 0.4903491735458374\n",
      "Test accuracy: 0.4882926940917969\n"
     ]
    },
    {
     "name": "stderr",
     "output_type": "stream",
     "text": [
      "/opt/conda/lib/python3.7/site-packages/sklearn/metrics/_classification.py:1272: UndefinedMetricWarning: Precision and F-score are ill-defined and being set to 0.0 in labels with no predicted samples. Use `zero_division` parameter to control this behavior.\n",
      "  _warn_prf(average, modifier, msg_start, len(result))\n"
     ]
    },
    {
     "name": "stdout",
     "output_type": "stream",
     "text": [
      "CPU times: user 8h 27min 54s, sys: 3h 25min 38s, total: 11h 53min 32s\n",
      "Wall time: 1h 31min 12s\n"
     ]
    }
   ],
   "source": [
    "%%time \n",
    "CM, CR = Resnet50.run_resnet50(train, validation, test, lr= .0001)"
   ]
  },
  {
   "cell_type": "code",
   "execution_count": 5,
   "metadata": {},
   "outputs": [
    {
     "name": "stdout",
     "output_type": "stream",
     "text": [
      "Confusion Matrix\n",
      "[[1001    0]\n",
      " [1049    0]]\n",
      "Classification Report\n",
      "               precision    recall  f1-score   support\n",
      "\n",
      "    Depressed       0.49      1.00      0.66      1001\n",
      "Not depressed       0.00      0.00      0.00      1049\n",
      "\n",
      "     accuracy                           0.49      2050\n",
      "    macro avg       0.24      0.50      0.33      2050\n",
      " weighted avg       0.24      0.49      0.32      2050\n",
      "\n"
     ]
    }
   ],
   "source": [
    "print('Confusion Matrix')\n",
    "print(CM)\n",
    "print('Classification Report')\n",
    "print(CR)"
   ]
  },
  {
   "cell_type": "markdown",
   "metadata": {},
   "source": [
    "### Experiment 3\n"
   ]
  },
  {
   "cell_type": "code",
   "execution_count": 4,
   "metadata": {},
   "outputs": [
    {
     "name": "stdout",
     "output_type": "stream",
     "text": [
      "WARNING:tensorflow:From /opt/conda/lib/python3.7/site-packages/tensorflow_core/python/ops/resource_variable_ops.py:1630: calling BaseResourceVariable.__init__ (from tensorflow.python.ops.resource_variable_ops) with constraint is deprecated and will be removed in a future version.\n",
      "Instructions for updating:\n",
      "If using Keras pass *_constraint arguments to layers.\n",
      "WARNING:tensorflow:From /opt/conda/lib/python3.7/site-packages/keras/backend/tensorflow_backend.py:4070: The name tf.nn.max_pool is deprecated. Please use tf.nn.max_pool2d instead.\n",
      "\n",
      "WARNING:tensorflow:From /opt/conda/lib/python3.7/site-packages/keras/backend/tensorflow_backend.py:4074: The name tf.nn.avg_pool is deprecated. Please use tf.nn.avg_pool2d instead.\n",
      "\n",
      "WARNING:tensorflow:From /opt/conda/lib/python3.7/site-packages/keras/backend/tensorflow_backend.py:422: The name tf.global_variables is deprecated. Please use tf.compat.v1.global_variables instead.\n",
      "\n",
      "Train on 4611 samples, validate on 1538 samples\n",
      "WARNING:tensorflow:From /opt/conda/lib/python3.7/site-packages/keras/callbacks/tensorboard_v1.py:200: The name tf.summary.merge_all is deprecated. Please use tf.compat.v1.summary.merge_all instead.\n",
      "\n",
      "WARNING:tensorflow:From /opt/conda/lib/python3.7/site-packages/keras/callbacks/tensorboard_v1.py:203: The name tf.summary.FileWriter is deprecated. Please use tf.compat.v1.summary.FileWriter instead.\n",
      "\n",
      "Epoch 1/10\n",
      " - 1492s - loss: 2.4897 - accuracy: 0.6127 - val_loss: 0.6721 - val_accuracy: 0.6144\n",
      "\n",
      "Epoch 00001: val_accuracy improved from -inf to 0.61443, saving model to ResNet50.01-0.67.h5\n",
      "WARNING:tensorflow:From /opt/conda/lib/python3.7/site-packages/keras/callbacks/tensorboard_v1.py:343: The name tf.Summary is deprecated. Please use tf.compat.v1.Summary instead.\n",
      "\n",
      "Epoch 2/10\n",
      " - 1435s - loss: 1.2611 - accuracy: 0.6348 - val_loss: 0.7472 - val_accuracy: 0.5247\n",
      "\n",
      "Epoch 00002: val_accuracy did not improve from 0.61443\n",
      "Epoch 3/10\n",
      " - 1451s - loss: 0.7192 - accuracy: 0.6860 - val_loss: 0.6530 - val_accuracy: 0.6203\n",
      "\n",
      "Epoch 00003: val_accuracy improved from 0.61443 to 0.62029, saving model to ResNet50.03-0.65.h5\n",
      "Epoch 4/10\n",
      " - 1436s - loss: 0.7756 - accuracy: 0.6886 - val_loss: 0.8505 - val_accuracy: 0.5410\n",
      "\n",
      "Epoch 00004: val_accuracy did not improve from 0.62029\n",
      "Epoch 5/10\n",
      " - 1447s - loss: 0.8227 - accuracy: 0.6667 - val_loss: 0.8399 - val_accuracy: 0.5156\n",
      "Restoring model weights from the end of the best epoch\n",
      "\n",
      "Epoch 00005: val_accuracy did not improve from 0.62029\n",
      "Epoch 00005: early stopping\n",
      "Train accuracy: 0.606376051902771\n",
      "Test accuracy: 0.5956097841262817\n",
      "CPU times: user 12h 58min 19s, sys: 5h 13min 6s, total: 18h 11min 25s\n",
      "Wall time: 2h 18min 33s\n"
     ]
    }
   ],
   "source": [
    "%%time \n",
    "CM, CR = Resnet50.run_resnet50(train, validation, test, epochs=10)"
   ]
  },
  {
   "cell_type": "code",
   "execution_count": 5,
   "metadata": {},
   "outputs": [
    {
     "name": "stdout",
     "output_type": "stream",
     "text": [
      "Confusion Matrix\n",
      "[[268 733]\n",
      " [ 96 953]]\n",
      "Classification Report\n",
      "               precision    recall  f1-score   support\n",
      "\n",
      "    Depressed       0.74      0.27      0.39      1001\n",
      "Not depressed       0.57      0.91      0.70      1049\n",
      "\n",
      "     accuracy                           0.60      2050\n",
      "    macro avg       0.65      0.59      0.54      2050\n",
      " weighted avg       0.65      0.60      0.55      2050\n",
      "\n"
     ]
    }
   ],
   "source": [
    "print('Confusion Matrix')\n",
    "print(CM)\n",
    "print('Classification Report')\n",
    "print(CR)"
   ]
  },
  {
   "cell_type": "markdown",
   "metadata": {},
   "source": [
    "### Experiment 4"
   ]
  },
  {
   "cell_type": "code",
   "execution_count": 7,
   "metadata": {},
   "outputs": [
    {
     "name": "stdout",
     "output_type": "stream",
     "text": [
      "WARNING:tensorflow:From /opt/conda/lib/python3.7/site-packages/tensorflow_core/python/ops/resource_variable_ops.py:1630: calling BaseResourceVariable.__init__ (from tensorflow.python.ops.resource_variable_ops) with constraint is deprecated and will be removed in a future version.\n",
      "Instructions for updating:\n",
      "If using Keras pass *_constraint arguments to layers.\n",
      "WARNING:tensorflow:From /opt/conda/lib/python3.7/site-packages/keras/backend/tensorflow_backend.py:4070: The name tf.nn.max_pool is deprecated. Please use tf.nn.max_pool2d instead.\n",
      "\n",
      "WARNING:tensorflow:From /opt/conda/lib/python3.7/site-packages/keras/backend/tensorflow_backend.py:4074: The name tf.nn.avg_pool is deprecated. Please use tf.nn.avg_pool2d instead.\n",
      "\n",
      "WARNING:tensorflow:From /opt/conda/lib/python3.7/site-packages/keras/backend/tensorflow_backend.py:422: The name tf.global_variables is deprecated. Please use tf.compat.v1.global_variables instead.\n",
      "\n",
      "Train on 4611 samples, validate on 1538 samples\n",
      "WARNING:tensorflow:From /opt/conda/lib/python3.7/site-packages/keras/callbacks/tensorboard_v1.py:200: The name tf.summary.merge_all is deprecated. Please use tf.compat.v1.summary.merge_all instead.\n",
      "\n",
      "WARNING:tensorflow:From /opt/conda/lib/python3.7/site-packages/keras/callbacks/tensorboard_v1.py:203: The name tf.summary.FileWriter is deprecated. Please use tf.compat.v1.summary.FileWriter instead.\n",
      "\n",
      "Epoch 1/10\n",
      " - 1500s - loss: 1.8641 - accuracy: 0.5834 - val_loss: 0.6544 - val_accuracy: 0.6190\n",
      "\n",
      "Epoch 00001: val_accuracy improved from -inf to 0.61899, saving model to ResNet50.01-0.65.h5\n",
      "WARNING:tensorflow:From /opt/conda/lib/python3.7/site-packages/keras/callbacks/tensorboard_v1.py:343: The name tf.Summary is deprecated. Please use tf.compat.v1.Summary instead.\n",
      "\n",
      "Epoch 2/10\n",
      " - 1452s - loss: 0.7156 - accuracy: 0.6738 - val_loss: 0.7534 - val_accuracy: 0.5039\n",
      "\n",
      "Epoch 00002: val_accuracy did not improve from 0.61899\n",
      "Epoch 3/10\n",
      " - 1459s - loss: 0.6721 - accuracy: 0.6747 - val_loss: 0.6098 - val_accuracy: 0.6795\n",
      "\n",
      "Epoch 00003: val_accuracy improved from 0.61899 to 0.67945, saving model to ResNet50.03-0.61.h5\n",
      "Epoch 4/10\n",
      " - 1459s - loss: 0.6265 - accuracy: 0.6881 - val_loss: 0.6037 - val_accuracy: 0.6977\n",
      "\n",
      "Epoch 00004: val_accuracy improved from 0.67945 to 0.69766, saving model to ResNet50.04-0.60.h5\n",
      "Epoch 5/10\n",
      " - 1493s - loss: 0.6050 - accuracy: 0.6996 - val_loss: 0.5807 - val_accuracy: 0.7230\n",
      "\n",
      "Epoch 00005: val_accuracy improved from 0.69766 to 0.72302, saving model to ResNet50.05-0.58.h5\n",
      "Epoch 6/10\n",
      " - 1535s - loss: 0.5855 - accuracy: 0.7118 - val_loss: 0.5706 - val_accuracy: 0.7224\n",
      "\n",
      "Epoch 00006: val_accuracy did not improve from 0.72302\n",
      "Epoch 7/10\n",
      " - 1548s - loss: 0.5600 - accuracy: 0.7257 - val_loss: 0.5802 - val_accuracy: 0.7146\n",
      "\n",
      "Epoch 00007: val_accuracy did not improve from 0.72302\n",
      "Epoch 8/10\n",
      " - 1554s - loss: 0.5473 - accuracy: 0.7296 - val_loss: 0.5575 - val_accuracy: 0.7269\n",
      "\n",
      "Epoch 00008: val_accuracy improved from 0.72302 to 0.72692, saving model to ResNet50.08-0.56.h5\n",
      "Epoch 9/10\n",
      " - 1554s - loss: 0.5279 - accuracy: 0.7428 - val_loss: 0.5826 - val_accuracy: 0.7165\n",
      "\n",
      "Epoch 00009: val_accuracy did not improve from 0.72692\n",
      "Epoch 10/10\n",
      " - 1568s - loss: 0.5157 - accuracy: 0.7517 - val_loss: 0.5928 - val_accuracy: 0.7094\n",
      "Restoring model weights from the end of the best epoch\n",
      "\n",
      "Epoch 00010: val_accuracy did not improve from 0.72692\n",
      "Epoch 00010: early stopping\n",
      "Train accuracy: 0.7553675770759583\n",
      "Test accuracy: 0.7151219248771667\n",
      "CPU times: user 1d 38min 17s, sys: 11h 3min 5s, total: 1d 11h 41min 22s\n",
      "Wall time: 4h 30min 23s\n"
     ]
    }
   ],
   "source": [
    "%%time \n",
    "CM, CR = Resnet50.run_resnet50(train, validation, test, batch_size=50)"
   ]
  },
  {
   "cell_type": "code",
   "execution_count": 8,
   "metadata": {},
   "outputs": [
    {
     "name": "stdout",
     "output_type": "stream",
     "text": [
      "Confusion Matrix\n",
      "[[787 214]\n",
      " [370 679]]\n",
      "Classification Report\n",
      "               precision    recall  f1-score   support\n",
      "\n",
      "    Depressed       0.68      0.79      0.73      1001\n",
      "Not depressed       0.76      0.65      0.70      1049\n",
      "\n",
      "     accuracy                           0.72      2050\n",
      "    macro avg       0.72      0.72      0.71      2050\n",
      " weighted avg       0.72      0.72      0.71      2050\n",
      "\n"
     ]
    }
   ],
   "source": [
    "print('Confusion Matrix')\n",
    "print(CM)\n",
    "print('Classification Report')\n",
    "print(CR)"
   ]
  },
  {
   "cell_type": "code",
   "execution_count": null,
   "metadata": {},
   "outputs": [],
   "source": []
  },
  {
   "cell_type": "markdown",
   "metadata": {},
   "source": [
    "### Experiment 5\n"
   ]
  },
  {
   "cell_type": "code",
   "execution_count": 4,
   "metadata": {},
   "outputs": [
    {
     "name": "stdout",
     "output_type": "stream",
     "text": [
      "WARNING:tensorflow:From /opt/conda/lib/python3.7/site-packages/tensorflow_core/python/ops/resource_variable_ops.py:1630: calling BaseResourceVariable.__init__ (from tensorflow.python.ops.resource_variable_ops) with constraint is deprecated and will be removed in a future version.\n",
      "Instructions for updating:\n",
      "If using Keras pass *_constraint arguments to layers.\n",
      "WARNING:tensorflow:From /opt/conda/lib/python3.7/site-packages/keras/backend/tensorflow_backend.py:4070: The name tf.nn.max_pool is deprecated. Please use tf.nn.max_pool2d instead.\n",
      "\n",
      "WARNING:tensorflow:From /opt/conda/lib/python3.7/site-packages/keras/backend/tensorflow_backend.py:4074: The name tf.nn.avg_pool is deprecated. Please use tf.nn.avg_pool2d instead.\n",
      "\n",
      "WARNING:tensorflow:From /opt/conda/lib/python3.7/site-packages/keras/backend/tensorflow_backend.py:422: The name tf.global_variables is deprecated. Please use tf.compat.v1.global_variables instead.\n",
      "\n",
      "Train on 4611 samples, validate on 1538 samples\n",
      "WARNING:tensorflow:From /opt/conda/lib/python3.7/site-packages/keras/callbacks/tensorboard_v1.py:200: The name tf.summary.merge_all is deprecated. Please use tf.compat.v1.summary.merge_all instead.\n",
      "\n",
      "WARNING:tensorflow:From /opt/conda/lib/python3.7/site-packages/keras/callbacks/tensorboard_v1.py:203: The name tf.summary.FileWriter is deprecated. Please use tf.compat.v1.summary.FileWriter instead.\n",
      "\n",
      "Epoch 1/30\n",
      " - 1492s - loss: 2.3615 - accuracy: 0.5797 - val_loss: 0.8068 - val_accuracy: 0.4844\n",
      "\n",
      "Epoch 00001: val_accuracy improved from -inf to 0.48440, saving model to ResNet50.01-0.81.h5\n",
      "WARNING:tensorflow:From /opt/conda/lib/python3.7/site-packages/keras/callbacks/tensorboard_v1.py:343: The name tf.Summary is deprecated. Please use tf.compat.v1.Summary instead.\n",
      "\n",
      "Epoch 2/30\n",
      " - 1458s - loss: 0.9057 - accuracy: 0.6196 - val_loss: 1.1554 - val_accuracy: 0.4844\n",
      "\n",
      "Epoch 00002: val_accuracy did not improve from 0.48440\n",
      "Epoch 3/30\n",
      " - 1460s - loss: 0.6772 - accuracy: 0.6582 - val_loss: 0.7958 - val_accuracy: 0.5111\n",
      "\n",
      "Epoch 00003: val_accuracy improved from 0.48440 to 0.51105, saving model to ResNet50.03-0.80.h5\n",
      "Epoch 4/30\n",
      " - 1454s - loss: 0.6158 - accuracy: 0.6890 - val_loss: 0.6010 - val_accuracy: 0.6899\n",
      "\n",
      "Epoch 00004: val_accuracy improved from 0.51105 to 0.68986, saving model to ResNet50.04-0.60.h5\n",
      "Epoch 5/30\n",
      " - 1463s - loss: 0.5771 - accuracy: 0.7072 - val_loss: 0.5911 - val_accuracy: 0.6866\n",
      "\n",
      "Epoch 00005: val_accuracy did not improve from 0.68986\n",
      "Epoch 6/30\n",
      " - 1464s - loss: 0.5749 - accuracy: 0.7142 - val_loss: 0.5726 - val_accuracy: 0.7172\n",
      "\n",
      "Epoch 00006: val_accuracy improved from 0.68986 to 0.71717, saving model to ResNet50.06-0.57.h5\n",
      "Epoch 7/30\n",
      " - 1464s - loss: 0.5524 - accuracy: 0.7302 - val_loss: 0.5652 - val_accuracy: 0.7178\n",
      "\n",
      "Epoch 00007: val_accuracy improved from 0.71717 to 0.71782, saving model to ResNet50.07-0.57.h5\n",
      "Epoch 8/30\n",
      " - 1460s - loss: 0.5327 - accuracy: 0.7456 - val_loss: 0.5694 - val_accuracy: 0.7100\n",
      "\n",
      "Epoch 00008: val_accuracy did not improve from 0.71782\n",
      "Epoch 9/30\n",
      " - 1462s - loss: 0.5329 - accuracy: 0.7452 - val_loss: 0.6432 - val_accuracy: 0.6671\n",
      "Restoring model weights from the end of the best epoch\n",
      "\n",
      "Epoch 00009: val_accuracy did not improve from 0.71782\n",
      "Epoch 00009: early stopping\n",
      "Train accuracy: 0.7469095587730408\n",
      "Test accuracy: 0.707317054271698\n",
      "CPU times: user 21h 40min 24s, sys: 9h 31min 41s, total: 1d 7h 12min 6s\n",
      "Wall time: 3h 56min 33s\n"
     ]
    }
   ],
   "source": [
    "%%time \n",
    "CM, CR = Resnet50.run_resnet50(train, validation, test, batch_size=50,epochs=30)"
   ]
  },
  {
   "cell_type": "code",
   "execution_count": 5,
   "metadata": {},
   "outputs": [
    {
     "name": "stdout",
     "output_type": "stream",
     "text": [
      "Confusion Matrix\n",
      "[[719 282]\n",
      " [318 731]]\n",
      "Classification Report\n",
      "               precision    recall  f1-score   support\n",
      "\n",
      "    Depressed       0.69      0.72      0.71      1001\n",
      "Not depressed       0.72      0.70      0.71      1049\n",
      "\n",
      "     accuracy                           0.71      2050\n",
      "    macro avg       0.71      0.71      0.71      2050\n",
      " weighted avg       0.71      0.71      0.71      2050\n",
      "\n"
     ]
    }
   ],
   "source": [
    "print('Confusion Matrix')\n",
    "print(CM)\n",
    "print('Classification Report')\n",
    "print(CR)"
   ]
  },
  {
   "cell_type": "markdown",
   "metadata": {},
   "source": [
    "### Experiment 6"
   ]
  },
  {
   "cell_type": "code",
   "execution_count": 6,
   "metadata": {},
   "outputs": [
    {
     "name": "stdout",
     "output_type": "stream",
     "text": [
      "Train on 4611 samples, validate on 1538 samples\n",
      "Epoch 1/30\n",
      " - 1434s - loss: 1.4976 - accuracy: 0.5975 - val_loss: 1.2120 - val_accuracy: 0.4837\n",
      "\n",
      "Epoch 00001: val_accuracy improved from -inf to 0.48375, saving model to ResNet50.01-1.21.h5\n",
      "Epoch 2/30\n",
      " - 1411s - loss: 0.8718 - accuracy: 0.6337 - val_loss: 0.6475 - val_accuracy: 0.6430\n",
      "\n",
      "Epoch 00002: val_accuracy improved from 0.48375 to 0.64304, saving model to ResNet50.02-0.65.h5\n",
      "Epoch 3/30\n",
      " - 1416s - loss: 0.6556 - accuracy: 0.6667 - val_loss: 0.6151 - val_accuracy: 0.6756\n",
      "\n",
      "Epoch 00003: val_accuracy improved from 0.64304 to 0.67555, saving model to ResNet50.03-0.62.h5\n",
      "Epoch 4/30\n",
      " - 1409s - loss: 0.6061 - accuracy: 0.6881 - val_loss: 0.5873 - val_accuracy: 0.6983\n",
      "\n",
      "Epoch 00004: val_accuracy improved from 0.67555 to 0.69831, saving model to ResNet50.04-0.59.h5\n",
      "Epoch 5/30\n",
      " - 1420s - loss: 0.6063 - accuracy: 0.6918 - val_loss: 0.5870 - val_accuracy: 0.6964\n",
      "\n",
      "Epoch 00005: val_accuracy did not improve from 0.69831\n",
      "Epoch 6/30\n",
      " - 1427s - loss: 0.5881 - accuracy: 0.6977 - val_loss: 0.5752 - val_accuracy: 0.7003\n",
      "\n",
      "Epoch 00006: val_accuracy improved from 0.69831 to 0.70026, saving model to ResNet50.06-0.58.h5\n",
      "Epoch 7/30\n",
      " - 1415s - loss: 0.5681 - accuracy: 0.7202 - val_loss: 0.5651 - val_accuracy: 0.7263\n",
      "\n",
      "Epoch 00007: val_accuracy improved from 0.70026 to 0.72627, saving model to ResNet50.07-0.57.h5\n",
      "Epoch 8/30\n",
      " - 1428s - loss: 0.5900 - accuracy: 0.7020 - val_loss: 0.7894 - val_accuracy: 0.5735\n",
      "\n",
      "Epoch 00008: val_accuracy did not improve from 0.72627\n",
      "Epoch 9/30\n",
      " - 1430s - loss: 0.5575 - accuracy: 0.7237 - val_loss: 0.5615 - val_accuracy: 0.7191\n",
      "\n",
      "Epoch 00009: val_accuracy did not improve from 0.72627\n",
      "Epoch 10/30\n",
      " - 1411s - loss: 0.5503 - accuracy: 0.7306 - val_loss: 0.6058 - val_accuracy: 0.6886\n",
      "\n",
      "Epoch 00010: val_accuracy did not improve from 0.72627\n",
      "Epoch 11/30\n",
      " - 1417s - loss: 0.5336 - accuracy: 0.7402 - val_loss: 0.5745 - val_accuracy: 0.7295\n",
      "Restoring model weights from the end of the best epoch\n",
      "\n",
      "Epoch 00011: val_accuracy improved from 0.72627 to 0.72952, saving model to ResNet50.11-0.57.h5\n",
      "Epoch 00011: early stopping\n",
      "Train accuracy: 0.7328128218650818\n",
      "Test accuracy: 0.6956097483634949\n",
      "CPU times: user 1d 1h 12min 34s, sys: 11h 30min 28s, total: 1d 12h 43min 3s\n",
      "Wall time: 4h 38min 59s\n"
     ]
    }
   ],
   "source": [
    "%%time \n",
    "CM, CR = Resnet50.run_resnet50(train, validation, test, batch_size=32,epochs=30)"
   ]
  },
  {
   "cell_type": "code",
   "execution_count": null,
   "metadata": {},
   "outputs": [
    {
     "name": "stdout",
     "output_type": "stream",
     "text": [
      "Confusion Matrix\n",
      "[[596 405]\n",
      " [219 830]]\n",
      "Classification Report\n",
      "               precision    recall  f1-score   support\n",
      "\n",
      "    Depressed       0.73      0.60      0.66      1001\n",
      "Not depressed       0.67      0.79      0.73      1049\n",
      "\n",
      "     accuracy                           0.70      2050\n",
      "    macro avg       0.70      0.69      0.69      2050\n",
      " weighted avg       0.70      0.70      0.69      2050\n",
      "\n"
     ]
    }
   ],
   "source": [
    "print('Confusion Matrix')\n",
    "print(CM)\n",
    "print('Classification Report')\n",
    "print(CR)"
   ]
  },
  {
   "cell_type": "markdown",
   "metadata": {},
   "source": [
    "### Experiment 7"
   ]
  },
  {
   "cell_type": "code",
   "execution_count": 6,
   "metadata": {},
   "outputs": [
    {
     "name": "stdout",
     "output_type": "stream",
     "text": [
      "Train on 4611 samples, validate on 1538 samples\n",
      "Epoch 1/30\n",
      " - 1569s - loss: 1.7274 - accuracy: 0.5988 - val_loss: 0.6953 - val_accuracy: 0.4844\n",
      "\n",
      "Epoch 00001: val_accuracy improved from -inf to 0.48440, saving model to ResNet50.01-0.70.h5\n",
      "Epoch 2/30\n",
      " - 1557s - loss: 1.0233 - accuracy: 0.6664 - val_loss: 0.6545 - val_accuracy: 0.6346\n",
      "\n",
      "Epoch 00002: val_accuracy improved from 0.48440 to 0.63459, saving model to ResNet50.02-0.65.h5\n",
      "Epoch 3/30\n",
      " - 1532s - loss: 0.9601 - accuracy: 0.6821 - val_loss: 0.6460 - val_accuracy: 0.6242\n",
      "\n",
      "Epoch 00003: val_accuracy did not improve from 0.63459\n",
      "Epoch 4/30\n",
      " - 1535s - loss: 0.8202 - accuracy: 0.6701 - val_loss: 4.0647 - val_accuracy: 0.5052\n",
      "\n",
      "Epoch 00004: val_accuracy did not improve from 0.63459\n",
      "Epoch 5/30\n",
      " - 1534s - loss: 0.6978 - accuracy: 0.6992 - val_loss: 4.6297 - val_accuracy: 0.6385\n",
      "Restoring model weights from the end of the best epoch\n",
      "\n",
      "Epoch 00005: val_accuracy improved from 0.63459 to 0.63849, saving model to ResNet50.05-4.63.h5\n",
      "Epoch 00005: early stopping\n",
      "Train accuracy: 0.645196259021759\n",
      "Test accuracy: 0.6458536386489868\n",
      "CPU times: user 13h 27min 49s, sys: 5h 47min 37s, total: 19h 15min 27s\n",
      "Wall time: 2h 27min 45s\n"
     ]
    }
   ],
   "source": [
    "%%time \n",
    "CM, CR = Resnet50.run_resnet50(train, validation, test, batch_size=50,epochs=30,lr=.0003)"
   ]
  },
  {
   "cell_type": "code",
   "execution_count": 7,
   "metadata": {},
   "outputs": [
    {
     "name": "stdout",
     "output_type": "stream",
     "text": [
      "Confusion Matrix\n",
      "[[772 229]\n",
      " [497 552]]\n",
      "Classification Report\n",
      "               precision    recall  f1-score   support\n",
      "\n",
      "    Depressed       0.61      0.77      0.68      1001\n",
      "Not depressed       0.71      0.53      0.60      1049\n",
      "\n",
      "     accuracy                           0.65      2050\n",
      "    macro avg       0.66      0.65      0.64      2050\n",
      " weighted avg       0.66      0.65      0.64      2050\n",
      "\n"
     ]
    }
   ],
   "source": [
    "print('Confusion Matrix')\n",
    "print(CM)\n",
    "print('Classification Report')\n",
    "print(CR)"
   ]
  },
  {
   "cell_type": "code",
   "execution_count": null,
   "metadata": {},
   "outputs": [],
   "source": []
  }
 ],
 "metadata": {
  "kernelspec": {
   "display_name": "Python 3",
   "language": "python",
   "name": "python3"
  },
  "language_info": {
   "codemirror_mode": {
    "name": "ipython",
    "version": 3
   },
   "file_extension": ".py",
   "mimetype": "text/x-python",
   "name": "python",
   "nbconvert_exporter": "python",
   "pygments_lexer": "ipython3",
   "version": "3.6.10"
  }
 },
 "nbformat": 4,
 "nbformat_minor": 4
}
